{
 "cells": [
  {
   "cell_type": "code",
   "execution_count": 1,
   "metadata": {
    "collapsed": true
   },
   "outputs": [
    {
     "name": "stdout",
     "output_type": "stream",
     "text": [
      "packages loaded\n"
     ]
    }
   ],
   "source": [
    "import pandas as pd\n",
    "import numpy as np\n",
    "import plotly.express as px\n",
    "import sys\n",
    "from nba_api.stats.endpoints import PlayerGameLog, TeamGameLog, GameRotation, BoxScoreTraditionalV2\n",
    "from nba_api.stats.static import players, teams\n",
    "from nba_api.live.nba.endpoints import playbyplay\n",
    "import time\n",
    "\n",
    "print('packages loaded')"
   ]
  },
  {
   "cell_type": "code",
   "execution_count": 2,
   "outputs": [
    {
     "data": {
      "text/plain": "     actionNumber        clock              timeActual  period periodType  \\\n479           583  PT06M31.00S  2021-12-09T02:45:03.7Z       4    REGULAR   \n101           119  PT03M51.00S  2022-01-29T00:58:32.7Z       1    REGULAR   \n30             40  PT09M30.00S  2021-12-14T00:15:27.9Z       1    REGULAR   \n255           306  PT03M14.00S  2021-11-17T01:27:13.2Z       2    REGULAR   \n384           473  PT00M55.00S  2022-03-01T01:55:44.9Z       3    REGULAR   \n\n    actionType    subType             qualifiers  personId         x  ...  \\\n479    timeout       full  ['team', 'mandatory']         0       NaN  ...   \n101    rebound  defensive                     []   1628381       NaN  ...   \n30     rebound  defensive                     []    200782       NaN  ...   \n255        2pt      Layup   ['pointsinthepaint']    203952  5.206965  ...   \n384       foul   personal                     []   1626224       NaN  ...   \n\n     reboundOffensiveTotal  officialId  foulPersonalTotal  foulTechnicalTotal  \\\n479                    NaN         NaN                NaN                 NaN   \n101                    0.0         NaN                NaN                 NaN   \n30                     0.0         NaN                NaN                 NaN   \n255                    NaN         NaN                NaN                 NaN   \n384                    NaN    204058.0                3.0                 0.0   \n\n    foulDrawnPlayerName  foulDrawnPersonId  blockPlayerName  blockPersonId  \\\n479                 NaN                NaN              NaN            NaN   \n101                 NaN                NaN              NaN            NaN   \n30                  NaN                NaN              NaN            NaN   \n255                 NaN                NaN              NaN            NaN   \n384                Reid          1629675.0              NaN            NaN   \n\n     value     game_id  \n479    NaN  0022100370  \n101    NaN  0022100737  \n30     NaN  0022100404  \n255    NaN  0022100210  \n384    NaN  0022100920  \n\n[5 rows x 55 columns]",
      "text/html": "<div>\n<style scoped>\n    .dataframe tbody tr th:only-of-type {\n        vertical-align: middle;\n    }\n\n    .dataframe tbody tr th {\n        vertical-align: top;\n    }\n\n    .dataframe thead th {\n        text-align: right;\n    }\n</style>\n<table border=\"1\" class=\"dataframe\">\n  <thead>\n    <tr style=\"text-align: right;\">\n      <th></th>\n      <th>actionNumber</th>\n      <th>clock</th>\n      <th>timeActual</th>\n      <th>period</th>\n      <th>periodType</th>\n      <th>actionType</th>\n      <th>subType</th>\n      <th>qualifiers</th>\n      <th>personId</th>\n      <th>x</th>\n      <th>...</th>\n      <th>reboundOffensiveTotal</th>\n      <th>officialId</th>\n      <th>foulPersonalTotal</th>\n      <th>foulTechnicalTotal</th>\n      <th>foulDrawnPlayerName</th>\n      <th>foulDrawnPersonId</th>\n      <th>blockPlayerName</th>\n      <th>blockPersonId</th>\n      <th>value</th>\n      <th>game_id</th>\n    </tr>\n  </thead>\n  <tbody>\n    <tr>\n      <th>479</th>\n      <td>583</td>\n      <td>PT06M31.00S</td>\n      <td>2021-12-09T02:45:03.7Z</td>\n      <td>4</td>\n      <td>REGULAR</td>\n      <td>timeout</td>\n      <td>full</td>\n      <td>['team', 'mandatory']</td>\n      <td>0</td>\n      <td>NaN</td>\n      <td>...</td>\n      <td>NaN</td>\n      <td>NaN</td>\n      <td>NaN</td>\n      <td>NaN</td>\n      <td>NaN</td>\n      <td>NaN</td>\n      <td>NaN</td>\n      <td>NaN</td>\n      <td>NaN</td>\n      <td>0022100370</td>\n    </tr>\n    <tr>\n      <th>101</th>\n      <td>119</td>\n      <td>PT03M51.00S</td>\n      <td>2022-01-29T00:58:32.7Z</td>\n      <td>1</td>\n      <td>REGULAR</td>\n      <td>rebound</td>\n      <td>defensive</td>\n      <td>[]</td>\n      <td>1628381</td>\n      <td>NaN</td>\n      <td>...</td>\n      <td>0.0</td>\n      <td>NaN</td>\n      <td>NaN</td>\n      <td>NaN</td>\n      <td>NaN</td>\n      <td>NaN</td>\n      <td>NaN</td>\n      <td>NaN</td>\n      <td>NaN</td>\n      <td>0022100737</td>\n    </tr>\n    <tr>\n      <th>30</th>\n      <td>40</td>\n      <td>PT09M30.00S</td>\n      <td>2021-12-14T00:15:27.9Z</td>\n      <td>1</td>\n      <td>REGULAR</td>\n      <td>rebound</td>\n      <td>defensive</td>\n      <td>[]</td>\n      <td>200782</td>\n      <td>NaN</td>\n      <td>...</td>\n      <td>0.0</td>\n      <td>NaN</td>\n      <td>NaN</td>\n      <td>NaN</td>\n      <td>NaN</td>\n      <td>NaN</td>\n      <td>NaN</td>\n      <td>NaN</td>\n      <td>NaN</td>\n      <td>0022100404</td>\n    </tr>\n    <tr>\n      <th>255</th>\n      <td>306</td>\n      <td>PT03M14.00S</td>\n      <td>2021-11-17T01:27:13.2Z</td>\n      <td>2</td>\n      <td>REGULAR</td>\n      <td>2pt</td>\n      <td>Layup</td>\n      <td>['pointsinthepaint']</td>\n      <td>203952</td>\n      <td>5.206965</td>\n      <td>...</td>\n      <td>NaN</td>\n      <td>NaN</td>\n      <td>NaN</td>\n      <td>NaN</td>\n      <td>NaN</td>\n      <td>NaN</td>\n      <td>NaN</td>\n      <td>NaN</td>\n      <td>NaN</td>\n      <td>0022100210</td>\n    </tr>\n    <tr>\n      <th>384</th>\n      <td>473</td>\n      <td>PT00M55.00S</td>\n      <td>2022-03-01T01:55:44.9Z</td>\n      <td>3</td>\n      <td>REGULAR</td>\n      <td>foul</td>\n      <td>personal</td>\n      <td>[]</td>\n      <td>1626224</td>\n      <td>NaN</td>\n      <td>...</td>\n      <td>NaN</td>\n      <td>204058.0</td>\n      <td>3.0</td>\n      <td>0.0</td>\n      <td>Reid</td>\n      <td>1629675.0</td>\n      <td>NaN</td>\n      <td>NaN</td>\n      <td>NaN</td>\n      <td>0022100920</td>\n    </tr>\n  </tbody>\n</table>\n<p>5 rows × 55 columns</p>\n</div>"
     },
     "execution_count": 2,
     "metadata": {},
     "output_type": "execute_result"
    }
   ],
   "source": [
    "filepath = '../data/2021_22_pbp_data.csv'\n",
    "pbp = pd.read_csv(filepath, index_col=0, dtype={'game_id': str})\n",
    "pbp.sample(5)"
   ],
   "metadata": {
    "collapsed": false,
    "pycharm": {
     "name": "#%%\n"
    }
   }
  },
  {
   "cell_type": "code",
   "execution_count": 3,
   "outputs": [],
   "source": [
    "curr_season = '2021-22'"
   ],
   "metadata": {
    "collapsed": false,
    "pycharm": {
     "name": "#%%\n"
    }
   }
  },
  {
   "cell_type": "code",
   "execution_count": 4,
   "outputs": [
    {
     "data": {
      "text/plain": "Index(['actionNumber', 'clock', 'timeActual', 'period', 'periodType',\n       'actionType', 'subType', 'qualifiers', 'personId', 'x', 'y',\n       'possession', 'scoreHome', 'scoreAway', 'edited', 'orderNumber',\n       'xLegacy', 'yLegacy', 'isFieldGoal', 'side', 'description',\n       'personIdsFilter', 'teamId', 'teamTricode', 'descriptor',\n       'jumpBallRecoveredName', 'jumpBallRecoverdPersonId', 'playerName',\n       'playerNameI', 'jumpBallWonPlayerName', 'jumpBallWonPersonId',\n       'jumpBallLostPlayerName', 'jumpBallLostPersonId', 'shotDistance',\n       'shotResult', 'pointsTotal', 'assistPlayerNameInitial',\n       'assistPersonId', 'assistTotal', 'turnoverTotal', 'stealPlayerName',\n       'stealPersonId', 'shotActionNumber', 'reboundTotal',\n       'reboundDefensiveTotal', 'reboundOffensiveTotal', 'officialId',\n       'foulPersonalTotal', 'foulTechnicalTotal', 'foulDrawnPlayerName',\n       'foulDrawnPersonId', 'blockPlayerName', 'blockPersonId', 'value',\n       'game_id'],\n      dtype='object')"
     },
     "execution_count": 4,
     "metadata": {},
     "output_type": "execute_result"
    }
   ],
   "source": [
    "pbp.columns"
   ],
   "metadata": {
    "collapsed": false,
    "pycharm": {
     "name": "#%%\n"
    }
   }
  },
  {
   "cell_type": "code",
   "execution_count": 5,
   "outputs": [
    {
     "data": {
      "text/plain": "298    NaN\n434    NaN\n516    NaN\n214    NaN\n101    NaN\nName: descriptor, dtype: object"
     },
     "execution_count": 5,
     "metadata": {},
     "output_type": "execute_result"
    }
   ],
   "source": [
    "pbp[pbp['subType'].notnull()]['descriptor'].sample(5)"
   ],
   "metadata": {
    "collapsed": false,
    "pycharm": {
     "name": "#%%\n"
    }
   }
  },
  {
   "cell_type": "code",
   "execution_count": 6,
   "outputs": [
    {
     "data": {
      "text/plain": "321        defensive\n492              out\n464           1 of 1\n41     out-of-bounds\n423            Layup\nName: subType, dtype: object"
     },
     "execution_count": 6,
     "metadata": {},
     "output_type": "execute_result"
    }
   ],
   "source": [
    "pbp['subType'].sample(5)"
   ],
   "metadata": {
    "collapsed": false,
    "pycharm": {
     "name": "#%%\n"
    }
   }
  },
  {
   "cell_type": "code",
   "execution_count": 7,
   "outputs": [],
   "source": [
    "block_cols = [\n",
    "    'clock', 'timeActual', 'period', 'actionType', 'subType', 'x', 'y', 'possession',\n",
    "    'scoreHome', 'scoreAway', 'xLegacy', 'yLegacy', 'isFieldGoal', 'shotResult', 'side',\n",
    "    'teamTricode', 'playerNameI', 'playerName', 'shotDistance', 'blockPlayerName'\n",
    "]"
   ],
   "metadata": {
    "collapsed": false,
    "pycharm": {
     "name": "#%%\n"
    }
   }
  },
  {
   "cell_type": "code",
   "execution_count": 7,
   "outputs": [],
   "source": [
    "pbp['scoreMargin'] = pbp['scoreHome'] - pbp['scoreAway']\n",
    "pbp['abScoreMargin'] = np.abs(pbp['scoreMargin'])"
   ],
   "metadata": {
    "collapsed": false,
    "pycharm": {
     "name": "#%%\n"
    }
   }
  },
  {
   "cell_type": "code",
   "execution_count": 8,
   "outputs": [
    {
     "data": {
      "text/plain": "actionNumber                  int64\nclock                        object\ntimeActual                   object\nperiod                        int64\nperiodType                   object\nactionType                   object\nsubType                      object\nqualifiers                   object\npersonId                      int64\nx                           float64\ny                           float64\npossession                    int64\nscoreHome                     int64\nscoreAway                     int64\nedited                       object\norderNumber                   int64\nxLegacy                     float64\nyLegacy                     float64\nisFieldGoal                   int64\nside                         object\ndescription                  object\npersonIdsFilter              object\nteamId                      float64\nteamTricode                  object\ndescriptor                   object\njumpBallRecoveredName        object\njumpBallRecoverdPersonId    float64\nplayerName                   object\nplayerNameI                  object\njumpBallWonPlayerName        object\njumpBallWonPersonId         float64\njumpBallLostPlayerName       object\njumpBallLostPersonId        float64\nshotDistance                float64\nshotResult                   object\npointsTotal                 float64\nassistPlayerNameInitial      object\nassistPersonId              float64\nassistTotal                 float64\nturnoverTotal               float64\nstealPlayerName              object\nstealPersonId               float64\nshotActionNumber            float64\nreboundTotal                float64\nreboundDefensiveTotal       float64\nreboundOffensiveTotal       float64\nofficialId                  float64\nfoulPersonalTotal           float64\nfoulTechnicalTotal          float64\nfoulDrawnPlayerName          object\nfoulDrawnPersonId           float64\nblockPlayerName              object\nblockPersonId               float64\nvalue                        object\ngame_id                      object\ndtype: object"
     },
     "execution_count": 8,
     "metadata": {},
     "output_type": "execute_result"
    }
   ],
   "source": [
    "pbp.dtypes"
   ],
   "metadata": {
    "collapsed": false,
    "pycharm": {
     "name": "#%%\n"
    }
   }
  },
  {
   "cell_type": "code",
   "execution_count": 9,
   "outputs": [
    {
     "data": {
      "text/plain": "     actionNumber        clock              timeActual  period periodType  \\\n382           452  PT02M38.00S  2021-10-22T01:05:57.4Z       3    REGULAR   \n175           214  PT08M20.00S  2021-10-27T01:19:22.8Z       2    REGULAR   \n442           529  PT06M35.00S  2021-11-19T02:31:40.8Z       4    REGULAR   \n570           734  PT01M49.00S  2022-02-11T02:23:12.7Z       4    REGULAR   \n145           173  PT12M00.00S  2022-02-04T03:39:21.2Z       2    REGULAR   \n\n       actionType    subType       qualifiers  personId   x  ...  \\\n382  substitution        out               []   1628381 NaN  ...   \n175       rebound  offensive               []   1628973 NaN  ...   \n442  substitution        out               []    203490 NaN  ...   \n570         block        NaN               []   1628977 NaN  ...   \n145  substitution        out  ['startperiod']    203084 NaN  ...   \n\n     reboundOffensiveTotal  officialId  foulPersonalTotal  foulTechnicalTotal  \\\n382                    NaN         NaN                NaN                 NaN   \n175                    1.0         NaN                NaN                 NaN   \n442                    NaN         NaN                NaN                 NaN   \n570                    NaN         NaN                NaN                 NaN   \n145                    NaN         NaN                NaN                 NaN   \n\n    foulDrawnPlayerName  foulDrawnPersonId  blockPlayerName  blockPersonId  \\\n382                 NaN                NaN              NaN            NaN   \n175                 NaN                NaN              NaN            NaN   \n442                 NaN                NaN              NaN            NaN   \n570                 NaN                NaN              NaN            NaN   \n145                 NaN                NaN              NaN            NaN   \n\n     value     game_id  \n382    NaN  0022100014  \n175    NaN  0022100052  \n442    NaN  0022100224  \n570    NaN  0022100831  \n145    NaN  0022100785  \n\n[5 rows x 55 columns]",
      "text/html": "<div>\n<style scoped>\n    .dataframe tbody tr th:only-of-type {\n        vertical-align: middle;\n    }\n\n    .dataframe tbody tr th {\n        vertical-align: top;\n    }\n\n    .dataframe thead th {\n        text-align: right;\n    }\n</style>\n<table border=\"1\" class=\"dataframe\">\n  <thead>\n    <tr style=\"text-align: right;\">\n      <th></th>\n      <th>actionNumber</th>\n      <th>clock</th>\n      <th>timeActual</th>\n      <th>period</th>\n      <th>periodType</th>\n      <th>actionType</th>\n      <th>subType</th>\n      <th>qualifiers</th>\n      <th>personId</th>\n      <th>x</th>\n      <th>...</th>\n      <th>reboundOffensiveTotal</th>\n      <th>officialId</th>\n      <th>foulPersonalTotal</th>\n      <th>foulTechnicalTotal</th>\n      <th>foulDrawnPlayerName</th>\n      <th>foulDrawnPersonId</th>\n      <th>blockPlayerName</th>\n      <th>blockPersonId</th>\n      <th>value</th>\n      <th>game_id</th>\n    </tr>\n  </thead>\n  <tbody>\n    <tr>\n      <th>382</th>\n      <td>452</td>\n      <td>PT02M38.00S</td>\n      <td>2021-10-22T01:05:57.4Z</td>\n      <td>3</td>\n      <td>REGULAR</td>\n      <td>substitution</td>\n      <td>out</td>\n      <td>[]</td>\n      <td>1628381</td>\n      <td>NaN</td>\n      <td>...</td>\n      <td>NaN</td>\n      <td>NaN</td>\n      <td>NaN</td>\n      <td>NaN</td>\n      <td>NaN</td>\n      <td>NaN</td>\n      <td>NaN</td>\n      <td>NaN</td>\n      <td>NaN</td>\n      <td>0022100014</td>\n    </tr>\n    <tr>\n      <th>175</th>\n      <td>214</td>\n      <td>PT08M20.00S</td>\n      <td>2021-10-27T01:19:22.8Z</td>\n      <td>2</td>\n      <td>REGULAR</td>\n      <td>rebound</td>\n      <td>offensive</td>\n      <td>[]</td>\n      <td>1628973</td>\n      <td>NaN</td>\n      <td>...</td>\n      <td>1.0</td>\n      <td>NaN</td>\n      <td>NaN</td>\n      <td>NaN</td>\n      <td>NaN</td>\n      <td>NaN</td>\n      <td>NaN</td>\n      <td>NaN</td>\n      <td>NaN</td>\n      <td>0022100052</td>\n    </tr>\n    <tr>\n      <th>442</th>\n      <td>529</td>\n      <td>PT06M35.00S</td>\n      <td>2021-11-19T02:31:40.8Z</td>\n      <td>4</td>\n      <td>REGULAR</td>\n      <td>substitution</td>\n      <td>out</td>\n      <td>[]</td>\n      <td>203490</td>\n      <td>NaN</td>\n      <td>...</td>\n      <td>NaN</td>\n      <td>NaN</td>\n      <td>NaN</td>\n      <td>NaN</td>\n      <td>NaN</td>\n      <td>NaN</td>\n      <td>NaN</td>\n      <td>NaN</td>\n      <td>NaN</td>\n      <td>0022100224</td>\n    </tr>\n    <tr>\n      <th>570</th>\n      <td>734</td>\n      <td>PT01M49.00S</td>\n      <td>2022-02-11T02:23:12.7Z</td>\n      <td>4</td>\n      <td>REGULAR</td>\n      <td>block</td>\n      <td>NaN</td>\n      <td>[]</td>\n      <td>1628977</td>\n      <td>NaN</td>\n      <td>...</td>\n      <td>NaN</td>\n      <td>NaN</td>\n      <td>NaN</td>\n      <td>NaN</td>\n      <td>NaN</td>\n      <td>NaN</td>\n      <td>NaN</td>\n      <td>NaN</td>\n      <td>NaN</td>\n      <td>0022100831</td>\n    </tr>\n    <tr>\n      <th>145</th>\n      <td>173</td>\n      <td>PT12M00.00S</td>\n      <td>2022-02-04T03:39:21.2Z</td>\n      <td>2</td>\n      <td>REGULAR</td>\n      <td>substitution</td>\n      <td>out</td>\n      <td>['startperiod']</td>\n      <td>203084</td>\n      <td>NaN</td>\n      <td>...</td>\n      <td>NaN</td>\n      <td>NaN</td>\n      <td>NaN</td>\n      <td>NaN</td>\n      <td>NaN</td>\n      <td>NaN</td>\n      <td>NaN</td>\n      <td>NaN</td>\n      <td>NaN</td>\n      <td>0022100785</td>\n    </tr>\n  </tbody>\n</table>\n<p>5 rows × 55 columns</p>\n</div>"
     },
     "execution_count": 9,
     "metadata": {},
     "output_type": "execute_result"
    }
   ],
   "source": [
    "pbp.sample(5)"
   ],
   "metadata": {
    "collapsed": false,
    "pycharm": {
     "name": "#%%\n"
    }
   }
  },
  {
   "cell_type": "code",
   "execution_count": 10,
   "outputs": [
    {
     "data": {
      "text/plain": "     actionNumber        clock              timeActual  period periodType  \\\n501           605  PT02M45.00S  2022-02-27T22:49:49.2Z       4    REGULAR   \n303           347  PT10M32.00S  2021-11-25T02:25:15.3Z       3    REGULAR   \n22             29  PT08M53.00S  2022-01-18T03:46:11.2Z       1    REGULAR   \n135           162  PT10M48.00S  2021-12-09T01:39:03.0Z       2    REGULAR   \n268           311  PT00M44.30S  2022-03-19T02:04:13.0Z       2    REGULAR   \n\n    actionType subType            qualifiers  personId          x  ...  \\\n501        2pt   Layup  ['pointsinthepaint']   1629028  93.249014  ...   \n303        2pt   Layup  ['pointsinthepaint']   1630581   5.732589  ...   \n22         2pt   Layup  ['pointsinthepaint']      2772   8.327858  ...   \n135        2pt   Layup  ['pointsinthepaint']   1627736  92.066360  ...   \n268        2pt   Layup  ['pointsinthepaint']   1628400  92.986202  ...   \n\n     reboundOffensiveTotal  officialId  foulPersonalTotal  foulTechnicalTotal  \\\n501                    NaN         NaN                NaN                 NaN   \n303                    NaN         NaN                NaN                 NaN   \n22                     NaN         NaN                NaN                 NaN   \n135                    NaN         NaN                NaN                 NaN   \n268                    NaN         NaN                NaN                 NaN   \n\n    foulDrawnPlayerName  foulDrawnPersonId  blockPlayerName  blockPersonId  \\\n501                 NaN                NaN           Gobert       203497.0   \n303                 NaN                NaN           Gobert       203497.0   \n22                  NaN                NaN           Gobert       203497.0   \n135                 NaN                NaN           Gobert       203497.0   \n268                 NaN                NaN           Gobert       203497.0   \n\n     value     game_id  \n501    NaN  0022100913  \n303    NaN  0022100276  \n22     NaN  0022100665  \n135    NaN  0022100374  \n268    NaN  0022101055  \n\n[5 rows x 55 columns]",
      "text/html": "<div>\n<style scoped>\n    .dataframe tbody tr th:only-of-type {\n        vertical-align: middle;\n    }\n\n    .dataframe tbody tr th {\n        vertical-align: top;\n    }\n\n    .dataframe thead th {\n        text-align: right;\n    }\n</style>\n<table border=\"1\" class=\"dataframe\">\n  <thead>\n    <tr style=\"text-align: right;\">\n      <th></th>\n      <th>actionNumber</th>\n      <th>clock</th>\n      <th>timeActual</th>\n      <th>period</th>\n      <th>periodType</th>\n      <th>actionType</th>\n      <th>subType</th>\n      <th>qualifiers</th>\n      <th>personId</th>\n      <th>x</th>\n      <th>...</th>\n      <th>reboundOffensiveTotal</th>\n      <th>officialId</th>\n      <th>foulPersonalTotal</th>\n      <th>foulTechnicalTotal</th>\n      <th>foulDrawnPlayerName</th>\n      <th>foulDrawnPersonId</th>\n      <th>blockPlayerName</th>\n      <th>blockPersonId</th>\n      <th>value</th>\n      <th>game_id</th>\n    </tr>\n  </thead>\n  <tbody>\n    <tr>\n      <th>501</th>\n      <td>605</td>\n      <td>PT02M45.00S</td>\n      <td>2022-02-27T22:49:49.2Z</td>\n      <td>4</td>\n      <td>REGULAR</td>\n      <td>2pt</td>\n      <td>Layup</td>\n      <td>['pointsinthepaint']</td>\n      <td>1629028</td>\n      <td>93.249014</td>\n      <td>...</td>\n      <td>NaN</td>\n      <td>NaN</td>\n      <td>NaN</td>\n      <td>NaN</td>\n      <td>NaN</td>\n      <td>NaN</td>\n      <td>Gobert</td>\n      <td>203497.0</td>\n      <td>NaN</td>\n      <td>0022100913</td>\n    </tr>\n    <tr>\n      <th>303</th>\n      <td>347</td>\n      <td>PT10M32.00S</td>\n      <td>2021-11-25T02:25:15.3Z</td>\n      <td>3</td>\n      <td>REGULAR</td>\n      <td>2pt</td>\n      <td>Layup</td>\n      <td>['pointsinthepaint']</td>\n      <td>1630581</td>\n      <td>5.732589</td>\n      <td>...</td>\n      <td>NaN</td>\n      <td>NaN</td>\n      <td>NaN</td>\n      <td>NaN</td>\n      <td>NaN</td>\n      <td>NaN</td>\n      <td>Gobert</td>\n      <td>203497.0</td>\n      <td>NaN</td>\n      <td>0022100276</td>\n    </tr>\n    <tr>\n      <th>22</th>\n      <td>29</td>\n      <td>PT08M53.00S</td>\n      <td>2022-01-18T03:46:11.2Z</td>\n      <td>1</td>\n      <td>REGULAR</td>\n      <td>2pt</td>\n      <td>Layup</td>\n      <td>['pointsinthepaint']</td>\n      <td>2772</td>\n      <td>8.327858</td>\n      <td>...</td>\n      <td>NaN</td>\n      <td>NaN</td>\n      <td>NaN</td>\n      <td>NaN</td>\n      <td>NaN</td>\n      <td>NaN</td>\n      <td>Gobert</td>\n      <td>203497.0</td>\n      <td>NaN</td>\n      <td>0022100665</td>\n    </tr>\n    <tr>\n      <th>135</th>\n      <td>162</td>\n      <td>PT10M48.00S</td>\n      <td>2021-12-09T01:39:03.0Z</td>\n      <td>2</td>\n      <td>REGULAR</td>\n      <td>2pt</td>\n      <td>Layup</td>\n      <td>['pointsinthepaint']</td>\n      <td>1627736</td>\n      <td>92.066360</td>\n      <td>...</td>\n      <td>NaN</td>\n      <td>NaN</td>\n      <td>NaN</td>\n      <td>NaN</td>\n      <td>NaN</td>\n      <td>NaN</td>\n      <td>Gobert</td>\n      <td>203497.0</td>\n      <td>NaN</td>\n      <td>0022100374</td>\n    </tr>\n    <tr>\n      <th>268</th>\n      <td>311</td>\n      <td>PT00M44.30S</td>\n      <td>2022-03-19T02:04:13.0Z</td>\n      <td>2</td>\n      <td>REGULAR</td>\n      <td>2pt</td>\n      <td>Layup</td>\n      <td>['pointsinthepaint']</td>\n      <td>1628400</td>\n      <td>92.986202</td>\n      <td>...</td>\n      <td>NaN</td>\n      <td>NaN</td>\n      <td>NaN</td>\n      <td>NaN</td>\n      <td>NaN</td>\n      <td>NaN</td>\n      <td>Gobert</td>\n      <td>203497.0</td>\n      <td>NaN</td>\n      <td>0022101055</td>\n    </tr>\n  </tbody>\n</table>\n<p>5 rows × 55 columns</p>\n</div>"
     },
     "execution_count": 10,
     "metadata": {},
     "output_type": "execute_result"
    }
   ],
   "source": [
    "gobert_blocks = pbp[pbp['blockPlayerName'] == 'Gobert']\n",
    "gobert_blocks.sample(5)"
   ],
   "metadata": {
    "collapsed": false,
    "pycharm": {
     "name": "#%%\n"
    }
   }
  },
  {
   "cell_type": "code",
   "execution_count": 11,
   "outputs": [],
   "source": [
    "# shot distance when player is in and out of the game\n",
    "# use all minutes\n",
    "# keep replacements in mind when writing"
   ],
   "metadata": {
    "collapsed": false,
    "pycharm": {
     "name": "#%%\n"
    }
   }
  },
  {
   "cell_type": "code",
   "execution_count": 12,
   "outputs": [
    {
     "data": {
      "text/plain": "[{'id': 203497,\n  'full_name': 'Rudy Gobert',\n  'first_name': 'Rudy',\n  'last_name': 'Gobert',\n  'is_active': True}]"
     },
     "execution_count": 12,
     "metadata": {},
     "output_type": "execute_result"
    }
   ],
   "source": [
    "from nba_api.stats.static import players\n",
    "\n",
    "players.find_players_by_full_name('rudy gobert')"
   ],
   "metadata": {
    "collapsed": false,
    "pycharm": {
     "name": "#%%\n"
    }
   }
  },
  {
   "cell_type": "markdown",
   "source": [
    "# Steps\n",
    "\n",
    "1. find player by name\n",
    "2. find the team(s) this player played for\n",
    "3. find the games played in by specified player\n",
    "4. find team games played without specified player\n",
    "5. get rotation data for player\n",
    "6. look at all minutes with player - specifically, shot distance\n",
    "7. look at all minutes without player - specifically shot distance, maybe fouls"
   ],
   "metadata": {
    "collapsed": false,
    "pycharm": {
     "name": "#%% md\n"
    }
   }
  },
  {
   "cell_type": "code",
   "execution_count": 13,
   "outputs": [],
   "source": [
    "# player info\n",
    "name = 'rudy gobert'\n",
    "player_id = players.find_players_by_full_name(name)[0]['id']"
   ],
   "metadata": {
    "collapsed": false,
    "pycharm": {
     "name": "#%%\n"
    }
   }
  },
  {
   "cell_type": "code",
   "execution_count": 14,
   "outputs": [],
   "source": [
    "# teams player has played for this season\n",
    "gamelogs = PlayerGameLog(player_id=player_id, season=curr_season).get_data_frames()[0]\n",
    "\n",
    "# get all games played in\n",
    "player_game_ids = list(gamelogs['Game_ID'])"
   ],
   "metadata": {
    "collapsed": false,
    "pycharm": {
     "name": "#%%\n"
    }
   }
  },
  {
   "cell_type": "code",
   "execution_count": 15,
   "outputs": [],
   "source": [
    "sample_boxscore = BoxScoreTraditionalV2(\n",
    "    game_id=player_game_ids[5]\n",
    ").get_data_frames()[0]\n",
    "time.sleep(3)\n",
    "# get team ID\n",
    "team_id = sample_boxscore[sample_boxscore['PLAYER_ID'] == player_id]['TEAM_ID'].iloc[0]"
   ],
   "metadata": {
    "collapsed": false,
    "pycharm": {
     "name": "#%%\n"
    }
   }
  },
  {
   "cell_type": "code",
   "execution_count": 16,
   "outputs": [],
   "source": [
    "team_gamelogs = TeamGameLog(\n",
    "    team_id=team_id,\n",
    "    season=curr_season\n",
    ").get_data_frames()[0]"
   ],
   "metadata": {
    "collapsed": false,
    "pycharm": {
     "name": "#%%\n"
    }
   }
  },
  {
   "cell_type": "code",
   "execution_count": 17,
   "outputs": [
    {
     "data": {
      "text/plain": "       Team_ID     Game_ID     GAME_DATE      MATCHUP    WL     W     L  \\\n0   1610612762  0022101067  MAR 20, 2022    UTA @ NYK  None   NaN   NaN   \n1   1610612762  0022101055  MAR 18, 2022  UTA vs. LAC     W  44.0  26.0   \n2   1610612762  0022101041  MAR 16, 2022  UTA vs. CHI     W  43.0  26.0   \n3   1610612762  0022101027  MAR 14, 2022  UTA vs. MIL     L  42.0  26.0   \n4   1610612762  0022101010  MAR 12, 2022  UTA vs. SAC     W  42.0  25.0   \n..         ...         ...           ...          ...   ...   ...   ...   \n66  1610612762  0022100083  OCT 30, 2021    UTA @ CHI     L   4.0   1.0   \n67  1610612762  0022100068  OCT 28, 2021    UTA @ HOU     W   4.0   0.0   \n68  1610612762  0022100054  OCT 26, 2021  UTA vs. DEN     W   3.0   0.0   \n69  1610612762  0022100026  OCT 22, 2021    UTA @ SAC     W   2.0   0.0   \n70  1610612762  0022100011  OCT 20, 2021  UTA vs. OKC     W   1.0   0.0   \n\n    W_PCT  MIN  FGM  ...  OREB  DREB  REB  AST  STL  BLK  TOV  PF  PTS  HOME  \n0     NaN    0    3  ...     2     5    7    2    0    1    1   4   11     0  \n1   0.629  240   47  ...    15    44   59   30    9    6   12  18  121     1  \n2   0.623  240   42  ...    10    37   47   20    8    6   16  18  125     1  \n3   0.618  240   37  ...    13    32   45   21    7    4   13  23  111     1  \n4   0.627  240   48  ...    10    34   44   21    4    5    9  20  134     1  \n..    ...  ...  ...  ...   ...   ...  ...  ...  ...  ...  ...  ..  ...   ...  \n66  0.800  240   35  ...    14    40   54   15    5    7   20  21   99     0  \n67  1.000  240   41  ...    10    48   58   24    8    4   16  23  122     0  \n68  1.000  240   44  ...     8    33   41   20    5    6   13  22  122     1  \n69  1.000  240   37  ...    13    38   51   16   14    3   17  17  110     0  \n70  1.000  240   40  ...    12    41   53   18    6    5   10  19  107     1  \n\n[71 rows x 28 columns]",
      "text/html": "<div>\n<style scoped>\n    .dataframe tbody tr th:only-of-type {\n        vertical-align: middle;\n    }\n\n    .dataframe tbody tr th {\n        vertical-align: top;\n    }\n\n    .dataframe thead th {\n        text-align: right;\n    }\n</style>\n<table border=\"1\" class=\"dataframe\">\n  <thead>\n    <tr style=\"text-align: right;\">\n      <th></th>\n      <th>Team_ID</th>\n      <th>Game_ID</th>\n      <th>GAME_DATE</th>\n      <th>MATCHUP</th>\n      <th>WL</th>\n      <th>W</th>\n      <th>L</th>\n      <th>W_PCT</th>\n      <th>MIN</th>\n      <th>FGM</th>\n      <th>...</th>\n      <th>OREB</th>\n      <th>DREB</th>\n      <th>REB</th>\n      <th>AST</th>\n      <th>STL</th>\n      <th>BLK</th>\n      <th>TOV</th>\n      <th>PF</th>\n      <th>PTS</th>\n      <th>HOME</th>\n    </tr>\n  </thead>\n  <tbody>\n    <tr>\n      <th>0</th>\n      <td>1610612762</td>\n      <td>0022101067</td>\n      <td>MAR 20, 2022</td>\n      <td>UTA @ NYK</td>\n      <td>None</td>\n      <td>NaN</td>\n      <td>NaN</td>\n      <td>NaN</td>\n      <td>0</td>\n      <td>3</td>\n      <td>...</td>\n      <td>2</td>\n      <td>5</td>\n      <td>7</td>\n      <td>2</td>\n      <td>0</td>\n      <td>1</td>\n      <td>1</td>\n      <td>4</td>\n      <td>11</td>\n      <td>0</td>\n    </tr>\n    <tr>\n      <th>1</th>\n      <td>1610612762</td>\n      <td>0022101055</td>\n      <td>MAR 18, 2022</td>\n      <td>UTA vs. LAC</td>\n      <td>W</td>\n      <td>44.0</td>\n      <td>26.0</td>\n      <td>0.629</td>\n      <td>240</td>\n      <td>47</td>\n      <td>...</td>\n      <td>15</td>\n      <td>44</td>\n      <td>59</td>\n      <td>30</td>\n      <td>9</td>\n      <td>6</td>\n      <td>12</td>\n      <td>18</td>\n      <td>121</td>\n      <td>1</td>\n    </tr>\n    <tr>\n      <th>2</th>\n      <td>1610612762</td>\n      <td>0022101041</td>\n      <td>MAR 16, 2022</td>\n      <td>UTA vs. CHI</td>\n      <td>W</td>\n      <td>43.0</td>\n      <td>26.0</td>\n      <td>0.623</td>\n      <td>240</td>\n      <td>42</td>\n      <td>...</td>\n      <td>10</td>\n      <td>37</td>\n      <td>47</td>\n      <td>20</td>\n      <td>8</td>\n      <td>6</td>\n      <td>16</td>\n      <td>18</td>\n      <td>125</td>\n      <td>1</td>\n    </tr>\n    <tr>\n      <th>3</th>\n      <td>1610612762</td>\n      <td>0022101027</td>\n      <td>MAR 14, 2022</td>\n      <td>UTA vs. MIL</td>\n      <td>L</td>\n      <td>42.0</td>\n      <td>26.0</td>\n      <td>0.618</td>\n      <td>240</td>\n      <td>37</td>\n      <td>...</td>\n      <td>13</td>\n      <td>32</td>\n      <td>45</td>\n      <td>21</td>\n      <td>7</td>\n      <td>4</td>\n      <td>13</td>\n      <td>23</td>\n      <td>111</td>\n      <td>1</td>\n    </tr>\n    <tr>\n      <th>4</th>\n      <td>1610612762</td>\n      <td>0022101010</td>\n      <td>MAR 12, 2022</td>\n      <td>UTA vs. SAC</td>\n      <td>W</td>\n      <td>42.0</td>\n      <td>25.0</td>\n      <td>0.627</td>\n      <td>240</td>\n      <td>48</td>\n      <td>...</td>\n      <td>10</td>\n      <td>34</td>\n      <td>44</td>\n      <td>21</td>\n      <td>4</td>\n      <td>5</td>\n      <td>9</td>\n      <td>20</td>\n      <td>134</td>\n      <td>1</td>\n    </tr>\n    <tr>\n      <th>...</th>\n      <td>...</td>\n      <td>...</td>\n      <td>...</td>\n      <td>...</td>\n      <td>...</td>\n      <td>...</td>\n      <td>...</td>\n      <td>...</td>\n      <td>...</td>\n      <td>...</td>\n      <td>...</td>\n      <td>...</td>\n      <td>...</td>\n      <td>...</td>\n      <td>...</td>\n      <td>...</td>\n      <td>...</td>\n      <td>...</td>\n      <td>...</td>\n      <td>...</td>\n      <td>...</td>\n    </tr>\n    <tr>\n      <th>66</th>\n      <td>1610612762</td>\n      <td>0022100083</td>\n      <td>OCT 30, 2021</td>\n      <td>UTA @ CHI</td>\n      <td>L</td>\n      <td>4.0</td>\n      <td>1.0</td>\n      <td>0.800</td>\n      <td>240</td>\n      <td>35</td>\n      <td>...</td>\n      <td>14</td>\n      <td>40</td>\n      <td>54</td>\n      <td>15</td>\n      <td>5</td>\n      <td>7</td>\n      <td>20</td>\n      <td>21</td>\n      <td>99</td>\n      <td>0</td>\n    </tr>\n    <tr>\n      <th>67</th>\n      <td>1610612762</td>\n      <td>0022100068</td>\n      <td>OCT 28, 2021</td>\n      <td>UTA @ HOU</td>\n      <td>W</td>\n      <td>4.0</td>\n      <td>0.0</td>\n      <td>1.000</td>\n      <td>240</td>\n      <td>41</td>\n      <td>...</td>\n      <td>10</td>\n      <td>48</td>\n      <td>58</td>\n      <td>24</td>\n      <td>8</td>\n      <td>4</td>\n      <td>16</td>\n      <td>23</td>\n      <td>122</td>\n      <td>0</td>\n    </tr>\n    <tr>\n      <th>68</th>\n      <td>1610612762</td>\n      <td>0022100054</td>\n      <td>OCT 26, 2021</td>\n      <td>UTA vs. DEN</td>\n      <td>W</td>\n      <td>3.0</td>\n      <td>0.0</td>\n      <td>1.000</td>\n      <td>240</td>\n      <td>44</td>\n      <td>...</td>\n      <td>8</td>\n      <td>33</td>\n      <td>41</td>\n      <td>20</td>\n      <td>5</td>\n      <td>6</td>\n      <td>13</td>\n      <td>22</td>\n      <td>122</td>\n      <td>1</td>\n    </tr>\n    <tr>\n      <th>69</th>\n      <td>1610612762</td>\n      <td>0022100026</td>\n      <td>OCT 22, 2021</td>\n      <td>UTA @ SAC</td>\n      <td>W</td>\n      <td>2.0</td>\n      <td>0.0</td>\n      <td>1.000</td>\n      <td>240</td>\n      <td>37</td>\n      <td>...</td>\n      <td>13</td>\n      <td>38</td>\n      <td>51</td>\n      <td>16</td>\n      <td>14</td>\n      <td>3</td>\n      <td>17</td>\n      <td>17</td>\n      <td>110</td>\n      <td>0</td>\n    </tr>\n    <tr>\n      <th>70</th>\n      <td>1610612762</td>\n      <td>0022100011</td>\n      <td>OCT 20, 2021</td>\n      <td>UTA vs. OKC</td>\n      <td>W</td>\n      <td>1.0</td>\n      <td>0.0</td>\n      <td>1.000</td>\n      <td>240</td>\n      <td>40</td>\n      <td>...</td>\n      <td>12</td>\n      <td>41</td>\n      <td>53</td>\n      <td>18</td>\n      <td>6</td>\n      <td>5</td>\n      <td>10</td>\n      <td>19</td>\n      <td>107</td>\n      <td>1</td>\n    </tr>\n  </tbody>\n</table>\n<p>71 rows × 28 columns</p>\n</div>"
     },
     "execution_count": 17,
     "metadata": {},
     "output_type": "execute_result"
    }
   ],
   "source": [
    "team_gamelogs['HOME'] = team_gamelogs['MATCHUP'].apply(\n",
    "    lambda matchup: 1 if '@' not in matchup else 0\n",
    ")\n",
    "\n",
    "team_gamelogs"
   ],
   "metadata": {
    "collapsed": false,
    "pycharm": {
     "name": "#%%\n"
    }
   }
  },
  {
   "cell_type": "code",
   "execution_count": 18,
   "outputs": [],
   "source": [
    "games_not_played = [game_id for game_id in list(team_gamelogs['Game_ID'])\n",
    "                    if game_id not in player_game_ids]"
   ],
   "metadata": {
    "collapsed": false,
    "pycharm": {
     "name": "#%%\n"
    }
   }
  },
  {
   "cell_type": "code",
   "execution_count": 19,
   "outputs": [
    {
     "data": {
      "text/plain": "71"
     },
     "execution_count": 19,
     "metadata": {},
     "output_type": "execute_result"
    }
   ],
   "source": [
    "len(team_gamelogs['Game_ID'])"
   ],
   "metadata": {
    "collapsed": false,
    "pycharm": {
     "name": "#%%\n"
    }
   }
  },
  {
   "cell_type": "code",
   "execution_count": 20,
   "outputs": [
    {
     "data": {
      "text/plain": "71"
     },
     "execution_count": 20,
     "metadata": {},
     "output_type": "execute_result"
    }
   ],
   "source": [
    "# check if game numbers match up\n",
    "len(player_game_ids) + len(games_not_played)\n"
   ],
   "metadata": {
    "collapsed": false,
    "pycharm": {
     "name": "#%%\n"
    }
   }
  },
  {
   "cell_type": "code",
   "execution_count": 21,
   "outputs": [],
   "source": [
    "# 0 for away team\n",
    "# 1 for home team\n",
    "test_game_id = game_id=player_game_ids[5]\n",
    "home_or_away = team_gamelogs[team_gamelogs['Game_ID'] == test_game_id]['HOME'].iloc[0]\n",
    "if home_or_away == 1:\n",
    "    df_idx = 1\n",
    "else:\n",
    "    df_idx = 0\n",
    "\n",
    "rotation = GameRotation(\n",
    "    game_id=player_game_ids[5]\n",
    ").get_data_frames()[df_idx]\n"
   ],
   "metadata": {
    "collapsed": false,
    "pycharm": {
     "name": "#%%\n"
    }
   }
  },
  {
   "cell_type": "code",
   "execution_count": 29,
   "outputs": [
    {
     "data": {
      "text/plain": "       GAME_ID     TEAM_ID TEAM_CITY TEAM_NAME  PERSON_ID PLAYER_FIRST  \\\n10  0022100990  1610612762      Utah      Jazz     203497         Rudy   \n11  0022100990  1610612762      Utah      Jazz     203497         Rudy   \n12  0022100990  1610612762      Utah      Jazz     203497         Rudy   \n\n   PLAYER_LAST  IN_TIME_REAL  OUT_TIME_REAL  PLAYER_PTS  PT_DIFF  USG_PCT  \n10      Gobert           0.0          288.0           0      5.0    0.000  \n11      Gobert         513.0          947.0           5      0.0    0.286  \n12      Gobert        1200.0         1812.0           4     19.0    0.143  ",
      "text/html": "<div>\n<style scoped>\n    .dataframe tbody tr th:only-of-type {\n        vertical-align: middle;\n    }\n\n    .dataframe tbody tr th {\n        vertical-align: top;\n    }\n\n    .dataframe thead th {\n        text-align: right;\n    }\n</style>\n<table border=\"1\" class=\"dataframe\">\n  <thead>\n    <tr style=\"text-align: right;\">\n      <th></th>\n      <th>GAME_ID</th>\n      <th>TEAM_ID</th>\n      <th>TEAM_CITY</th>\n      <th>TEAM_NAME</th>\n      <th>PERSON_ID</th>\n      <th>PLAYER_FIRST</th>\n      <th>PLAYER_LAST</th>\n      <th>IN_TIME_REAL</th>\n      <th>OUT_TIME_REAL</th>\n      <th>PLAYER_PTS</th>\n      <th>PT_DIFF</th>\n      <th>USG_PCT</th>\n    </tr>\n  </thead>\n  <tbody>\n    <tr>\n      <th>10</th>\n      <td>0022100990</td>\n      <td>1610612762</td>\n      <td>Utah</td>\n      <td>Jazz</td>\n      <td>203497</td>\n      <td>Rudy</td>\n      <td>Gobert</td>\n      <td>0.0</td>\n      <td>288.0</td>\n      <td>0</td>\n      <td>5.0</td>\n      <td>0.000</td>\n    </tr>\n    <tr>\n      <th>11</th>\n      <td>0022100990</td>\n      <td>1610612762</td>\n      <td>Utah</td>\n      <td>Jazz</td>\n      <td>203497</td>\n      <td>Rudy</td>\n      <td>Gobert</td>\n      <td>513.0</td>\n      <td>947.0</td>\n      <td>5</td>\n      <td>0.0</td>\n      <td>0.286</td>\n    </tr>\n    <tr>\n      <th>12</th>\n      <td>0022100990</td>\n      <td>1610612762</td>\n      <td>Utah</td>\n      <td>Jazz</td>\n      <td>203497</td>\n      <td>Rudy</td>\n      <td>Gobert</td>\n      <td>1200.0</td>\n      <td>1812.0</td>\n      <td>4</td>\n      <td>19.0</td>\n      <td>0.143</td>\n    </tr>\n  </tbody>\n</table>\n</div>"
     },
     "execution_count": 29,
     "metadata": {},
     "output_type": "execute_result"
    }
   ],
   "source": [
    "# rotation time is divided by 10 to get into seconds in game\n",
    "rotation[['IN_TIME_REAL', 'OUT_TIME_REAL']] = rotation[['IN_TIME_REAL', 'OUT_TIME_REAL']].apply(lambda row: row/10, axis=1)\n",
    "rotation[rotation['PERSON_ID'] == player_id]"
   ],
   "metadata": {
    "collapsed": false,
    "pycharm": {
     "name": "#%%\n"
    }
   }
  },
  {
   "cell_type": "code",
   "execution_count": 23,
   "outputs": [
    {
     "data": {
      "text/plain": "       GAME_ID     TEAM_ID TEAM_ABBREVIATION TEAM_CITY  PLAYER_ID  \\\n0   0022100990  1610612757               POR  Portland    1630190   \n1   0022100990  1610612757               POR  Portland    1629604   \n2   0022100990  1610612757               POR  Portland    1629234   \n3   0022100990  1610612757               POR  Portland    1628404   \n4   0022100990  1610612757               POR  Portland    1630314   \n5   0022100990  1610612757               POR  Portland    1629833   \n6   0022100990  1610612757               POR  Portland    1630570   \n7   0022100990  1610612757               POR  Portland    1630535   \n8   0022100990  1610612757               POR  Portland    1630553   \n9   0022100990  1610612757               POR  Portland     203463   \n10  0022100990  1610612757               POR  Portland    1626159   \n11  0022100990  1610612762               UTA      Utah     202711   \n12  0022100990  1610612762               UTA      Utah    1626220   \n13  0022100990  1610612762               UTA      Utah     203497   \n14  0022100990  1610612762               UTA      Utah    1628378   \n15  0022100990  1610612762               UTA      Utah     201144   \n16  0022100990  1610612762               UTA      Utah    1630235   \n17  0022100990  1610612762               UTA      Utah     202355   \n18  0022100990  1610612762               UTA      Utah     203903   \n19  0022100990  1610612762               UTA      Utah    1627863   \n20  0022100990  1610612762               UTA      Utah     200752   \n21  0022100990  1610612762               UTA      Utah    1629638   \n22  0022100990  1610612762               UTA      Utah    1630215   \n23  0022100990  1610612762               UTA      Utah    1628962   \n24  0022100990  1610612762               UTA      Utah    1629672   \n25  0022100990  1610612762               UTA      Utah    1627823   \n\n                 PLAYER_NAME NICKNAME START_POSITION               COMMENT  \\\n0              Elijah Hughes   Elijah              F                         \n1                  CJ Elleby       CJ              F                         \n2               Drew Eubanks     Drew              C                         \n3                  Josh Hart     Josh              G                         \n4           Brandon Williams  Brandon              G                         \n5             Keljin Blevins   Keljin                                        \n6            Trendon Watford  Trendon                                        \n7             Greg Brown III     Greg                                        \n8               Keon Johnson     Keon                                        \n9               Ben McLemore      Ben                                        \n10           Justise Winslow  Justise                 DNP - Injury/Illness   \n11          Bojan Bogdanovic    Bojan              F                         \n12             Royce O'Neale    Royce              F                         \n13               Rudy Gobert     Rudy              C                         \n14          Donovan Mitchell  Donovan              G                         \n15               Mike Conley     Mike              G                         \n16             Trent Forrest    Trent                                        \n17          Hassan Whiteside   Hassan                                        \n18           Jordan Clarkson   Jordan                                        \n19          Danuel House Jr.   Danuel                                        \n20                  Rudy Gay     Rudy                                        \n21  Nickeil Alexander-Walker  Nickeil                                        \n22              Jared Butler    Jared                                        \n23            Udoka Azubuike    Udoka                                        \n24             Eric Paschall     Eric                                        \n25       Juancho Hernangomez  Juancho                                        \n\n      MIN  ...  OREB  DREB   REB  AST  STL  BLK   TO   PF   PTS  PLUS_MINUS  \n0   21:01  ...   1.0   4.0   5.0  2.0  1.0  0.0  1.0  1.0   0.0       -19.0  \n1   23:48  ...   0.0   4.0   4.0  2.0  0.0  0.0  1.0  3.0  10.0        -8.0  \n2   18:47  ...   3.0   4.0   7.0  0.0  1.0  1.0  0.0  1.0   4.0       -19.0  \n3   26:12  ...   3.0   3.0   6.0  3.0  1.0  0.0  1.0  1.0   5.0       -51.0  \n4   26:00  ...   0.0   6.0   6.0  1.0  0.0  0.0  4.0  3.0   9.0       -26.0  \n5   20:50  ...   0.0   1.0   1.0  3.0  0.0  0.0  0.0  2.0   7.0       -24.0  \n6   29:13  ...   1.0   2.0   3.0  0.0  0.0  1.0  0.0  3.0  22.0       -19.0  \n7   25:19  ...   1.0   2.0   3.0  3.0  0.0  0.0  1.0  4.0   4.0        -4.0  \n8   29:42  ...   0.0   1.0   1.0  5.0  1.0  0.0  0.0  2.0  15.0         0.0  \n9   19:08  ...   0.0   0.0   0.0  0.0  0.0  0.0  1.0  3.0   9.0       -20.0  \n10   None  ...   NaN   NaN   NaN  NaN  NaN  NaN  NaN  NaN   NaN         NaN  \n11  24:00  ...   1.0   3.0   4.0  2.0  0.0  0.0  1.0  0.0  27.0        43.0  \n12  24:28  ...   1.0   9.0  10.0  3.0  0.0  0.0  0.0  1.0  11.0        43.0  \n13  22:14  ...   1.0   9.0  10.0  1.0  0.0  0.0  1.0  4.0   9.0        24.0  \n14  24:28  ...   0.0   4.0   4.0  6.0  1.0  0.0  2.0  2.0  16.0        43.0  \n15  20:27  ...   0.0   1.0   1.0  5.0  1.0  1.0  0.0  2.0   5.0        25.0  \n16  13:31  ...   0.0   0.0   0.0  4.0  0.0  0.0  0.0  0.0   8.0        11.0  \n17  16:11  ...   2.0   2.0   4.0  0.0  0.0  1.0  1.0  4.0   6.0        19.0  \n18  15:45  ...   0.0   2.0   2.0  1.0  1.0  0.0  0.0  1.0   8.0        13.0  \n19  15:30  ...   0.0   3.0   3.0  1.0  0.0  0.0  0.0  0.0   3.0        -2.0  \n20  17:08  ...   1.0   2.0   3.0  0.0  0.0  1.0  2.0  2.0   9.0        -4.0  \n21  12:00  ...   0.0   3.0   3.0  5.0  0.0  1.0  1.0  2.0   0.0        -9.0  \n22   9:49  ...   0.0   1.0   1.0  1.0  0.0  0.0  0.0  1.0   5.0        -7.0  \n23   9:35  ...   0.0   3.0   3.0  0.0  0.0  0.0  0.0  2.0   6.0        -5.0  \n24   8:02  ...   0.0   0.0   0.0  1.0  0.0  0.0  0.0  2.0   5.0        -3.0  \n25   6:52  ...   0.0   2.0   2.0  1.0  0.0  1.0  1.0  0.0   5.0        -1.0  \n\n[26 rows x 29 columns]",
      "text/html": "<div>\n<style scoped>\n    .dataframe tbody tr th:only-of-type {\n        vertical-align: middle;\n    }\n\n    .dataframe tbody tr th {\n        vertical-align: top;\n    }\n\n    .dataframe thead th {\n        text-align: right;\n    }\n</style>\n<table border=\"1\" class=\"dataframe\">\n  <thead>\n    <tr style=\"text-align: right;\">\n      <th></th>\n      <th>GAME_ID</th>\n      <th>TEAM_ID</th>\n      <th>TEAM_ABBREVIATION</th>\n      <th>TEAM_CITY</th>\n      <th>PLAYER_ID</th>\n      <th>PLAYER_NAME</th>\n      <th>NICKNAME</th>\n      <th>START_POSITION</th>\n      <th>COMMENT</th>\n      <th>MIN</th>\n      <th>...</th>\n      <th>OREB</th>\n      <th>DREB</th>\n      <th>REB</th>\n      <th>AST</th>\n      <th>STL</th>\n      <th>BLK</th>\n      <th>TO</th>\n      <th>PF</th>\n      <th>PTS</th>\n      <th>PLUS_MINUS</th>\n    </tr>\n  </thead>\n  <tbody>\n    <tr>\n      <th>0</th>\n      <td>0022100990</td>\n      <td>1610612757</td>\n      <td>POR</td>\n      <td>Portland</td>\n      <td>1630190</td>\n      <td>Elijah Hughes</td>\n      <td>Elijah</td>\n      <td>F</td>\n      <td></td>\n      <td>21:01</td>\n      <td>...</td>\n      <td>1.0</td>\n      <td>4.0</td>\n      <td>5.0</td>\n      <td>2.0</td>\n      <td>1.0</td>\n      <td>0.0</td>\n      <td>1.0</td>\n      <td>1.0</td>\n      <td>0.0</td>\n      <td>-19.0</td>\n    </tr>\n    <tr>\n      <th>1</th>\n      <td>0022100990</td>\n      <td>1610612757</td>\n      <td>POR</td>\n      <td>Portland</td>\n      <td>1629604</td>\n      <td>CJ Elleby</td>\n      <td>CJ</td>\n      <td>F</td>\n      <td></td>\n      <td>23:48</td>\n      <td>...</td>\n      <td>0.0</td>\n      <td>4.0</td>\n      <td>4.0</td>\n      <td>2.0</td>\n      <td>0.0</td>\n      <td>0.0</td>\n      <td>1.0</td>\n      <td>3.0</td>\n      <td>10.0</td>\n      <td>-8.0</td>\n    </tr>\n    <tr>\n      <th>2</th>\n      <td>0022100990</td>\n      <td>1610612757</td>\n      <td>POR</td>\n      <td>Portland</td>\n      <td>1629234</td>\n      <td>Drew Eubanks</td>\n      <td>Drew</td>\n      <td>C</td>\n      <td></td>\n      <td>18:47</td>\n      <td>...</td>\n      <td>3.0</td>\n      <td>4.0</td>\n      <td>7.0</td>\n      <td>0.0</td>\n      <td>1.0</td>\n      <td>1.0</td>\n      <td>0.0</td>\n      <td>1.0</td>\n      <td>4.0</td>\n      <td>-19.0</td>\n    </tr>\n    <tr>\n      <th>3</th>\n      <td>0022100990</td>\n      <td>1610612757</td>\n      <td>POR</td>\n      <td>Portland</td>\n      <td>1628404</td>\n      <td>Josh Hart</td>\n      <td>Josh</td>\n      <td>G</td>\n      <td></td>\n      <td>26:12</td>\n      <td>...</td>\n      <td>3.0</td>\n      <td>3.0</td>\n      <td>6.0</td>\n      <td>3.0</td>\n      <td>1.0</td>\n      <td>0.0</td>\n      <td>1.0</td>\n      <td>1.0</td>\n      <td>5.0</td>\n      <td>-51.0</td>\n    </tr>\n    <tr>\n      <th>4</th>\n      <td>0022100990</td>\n      <td>1610612757</td>\n      <td>POR</td>\n      <td>Portland</td>\n      <td>1630314</td>\n      <td>Brandon Williams</td>\n      <td>Brandon</td>\n      <td>G</td>\n      <td></td>\n      <td>26:00</td>\n      <td>...</td>\n      <td>0.0</td>\n      <td>6.0</td>\n      <td>6.0</td>\n      <td>1.0</td>\n      <td>0.0</td>\n      <td>0.0</td>\n      <td>4.0</td>\n      <td>3.0</td>\n      <td>9.0</td>\n      <td>-26.0</td>\n    </tr>\n    <tr>\n      <th>5</th>\n      <td>0022100990</td>\n      <td>1610612757</td>\n      <td>POR</td>\n      <td>Portland</td>\n      <td>1629833</td>\n      <td>Keljin Blevins</td>\n      <td>Keljin</td>\n      <td></td>\n      <td></td>\n      <td>20:50</td>\n      <td>...</td>\n      <td>0.0</td>\n      <td>1.0</td>\n      <td>1.0</td>\n      <td>3.0</td>\n      <td>0.0</td>\n      <td>0.0</td>\n      <td>0.0</td>\n      <td>2.0</td>\n      <td>7.0</td>\n      <td>-24.0</td>\n    </tr>\n    <tr>\n      <th>6</th>\n      <td>0022100990</td>\n      <td>1610612757</td>\n      <td>POR</td>\n      <td>Portland</td>\n      <td>1630570</td>\n      <td>Trendon Watford</td>\n      <td>Trendon</td>\n      <td></td>\n      <td></td>\n      <td>29:13</td>\n      <td>...</td>\n      <td>1.0</td>\n      <td>2.0</td>\n      <td>3.0</td>\n      <td>0.0</td>\n      <td>0.0</td>\n      <td>1.0</td>\n      <td>0.0</td>\n      <td>3.0</td>\n      <td>22.0</td>\n      <td>-19.0</td>\n    </tr>\n    <tr>\n      <th>7</th>\n      <td>0022100990</td>\n      <td>1610612757</td>\n      <td>POR</td>\n      <td>Portland</td>\n      <td>1630535</td>\n      <td>Greg Brown III</td>\n      <td>Greg</td>\n      <td></td>\n      <td></td>\n      <td>25:19</td>\n      <td>...</td>\n      <td>1.0</td>\n      <td>2.0</td>\n      <td>3.0</td>\n      <td>3.0</td>\n      <td>0.0</td>\n      <td>0.0</td>\n      <td>1.0</td>\n      <td>4.0</td>\n      <td>4.0</td>\n      <td>-4.0</td>\n    </tr>\n    <tr>\n      <th>8</th>\n      <td>0022100990</td>\n      <td>1610612757</td>\n      <td>POR</td>\n      <td>Portland</td>\n      <td>1630553</td>\n      <td>Keon Johnson</td>\n      <td>Keon</td>\n      <td></td>\n      <td></td>\n      <td>29:42</td>\n      <td>...</td>\n      <td>0.0</td>\n      <td>1.0</td>\n      <td>1.0</td>\n      <td>5.0</td>\n      <td>1.0</td>\n      <td>0.0</td>\n      <td>0.0</td>\n      <td>2.0</td>\n      <td>15.0</td>\n      <td>0.0</td>\n    </tr>\n    <tr>\n      <th>9</th>\n      <td>0022100990</td>\n      <td>1610612757</td>\n      <td>POR</td>\n      <td>Portland</td>\n      <td>203463</td>\n      <td>Ben McLemore</td>\n      <td>Ben</td>\n      <td></td>\n      <td></td>\n      <td>19:08</td>\n      <td>...</td>\n      <td>0.0</td>\n      <td>0.0</td>\n      <td>0.0</td>\n      <td>0.0</td>\n      <td>0.0</td>\n      <td>0.0</td>\n      <td>1.0</td>\n      <td>3.0</td>\n      <td>9.0</td>\n      <td>-20.0</td>\n    </tr>\n    <tr>\n      <th>10</th>\n      <td>0022100990</td>\n      <td>1610612757</td>\n      <td>POR</td>\n      <td>Portland</td>\n      <td>1626159</td>\n      <td>Justise Winslow</td>\n      <td>Justise</td>\n      <td></td>\n      <td>DNP - Injury/Illness</td>\n      <td>None</td>\n      <td>...</td>\n      <td>NaN</td>\n      <td>NaN</td>\n      <td>NaN</td>\n      <td>NaN</td>\n      <td>NaN</td>\n      <td>NaN</td>\n      <td>NaN</td>\n      <td>NaN</td>\n      <td>NaN</td>\n      <td>NaN</td>\n    </tr>\n    <tr>\n      <th>11</th>\n      <td>0022100990</td>\n      <td>1610612762</td>\n      <td>UTA</td>\n      <td>Utah</td>\n      <td>202711</td>\n      <td>Bojan Bogdanovic</td>\n      <td>Bojan</td>\n      <td>F</td>\n      <td></td>\n      <td>24:00</td>\n      <td>...</td>\n      <td>1.0</td>\n      <td>3.0</td>\n      <td>4.0</td>\n      <td>2.0</td>\n      <td>0.0</td>\n      <td>0.0</td>\n      <td>1.0</td>\n      <td>0.0</td>\n      <td>27.0</td>\n      <td>43.0</td>\n    </tr>\n    <tr>\n      <th>12</th>\n      <td>0022100990</td>\n      <td>1610612762</td>\n      <td>UTA</td>\n      <td>Utah</td>\n      <td>1626220</td>\n      <td>Royce O'Neale</td>\n      <td>Royce</td>\n      <td>F</td>\n      <td></td>\n      <td>24:28</td>\n      <td>...</td>\n      <td>1.0</td>\n      <td>9.0</td>\n      <td>10.0</td>\n      <td>3.0</td>\n      <td>0.0</td>\n      <td>0.0</td>\n      <td>0.0</td>\n      <td>1.0</td>\n      <td>11.0</td>\n      <td>43.0</td>\n    </tr>\n    <tr>\n      <th>13</th>\n      <td>0022100990</td>\n      <td>1610612762</td>\n      <td>UTA</td>\n      <td>Utah</td>\n      <td>203497</td>\n      <td>Rudy Gobert</td>\n      <td>Rudy</td>\n      <td>C</td>\n      <td></td>\n      <td>22:14</td>\n      <td>...</td>\n      <td>1.0</td>\n      <td>9.0</td>\n      <td>10.0</td>\n      <td>1.0</td>\n      <td>0.0</td>\n      <td>0.0</td>\n      <td>1.0</td>\n      <td>4.0</td>\n      <td>9.0</td>\n      <td>24.0</td>\n    </tr>\n    <tr>\n      <th>14</th>\n      <td>0022100990</td>\n      <td>1610612762</td>\n      <td>UTA</td>\n      <td>Utah</td>\n      <td>1628378</td>\n      <td>Donovan Mitchell</td>\n      <td>Donovan</td>\n      <td>G</td>\n      <td></td>\n      <td>24:28</td>\n      <td>...</td>\n      <td>0.0</td>\n      <td>4.0</td>\n      <td>4.0</td>\n      <td>6.0</td>\n      <td>1.0</td>\n      <td>0.0</td>\n      <td>2.0</td>\n      <td>2.0</td>\n      <td>16.0</td>\n      <td>43.0</td>\n    </tr>\n    <tr>\n      <th>15</th>\n      <td>0022100990</td>\n      <td>1610612762</td>\n      <td>UTA</td>\n      <td>Utah</td>\n      <td>201144</td>\n      <td>Mike Conley</td>\n      <td>Mike</td>\n      <td>G</td>\n      <td></td>\n      <td>20:27</td>\n      <td>...</td>\n      <td>0.0</td>\n      <td>1.0</td>\n      <td>1.0</td>\n      <td>5.0</td>\n      <td>1.0</td>\n      <td>1.0</td>\n      <td>0.0</td>\n      <td>2.0</td>\n      <td>5.0</td>\n      <td>25.0</td>\n    </tr>\n    <tr>\n      <th>16</th>\n      <td>0022100990</td>\n      <td>1610612762</td>\n      <td>UTA</td>\n      <td>Utah</td>\n      <td>1630235</td>\n      <td>Trent Forrest</td>\n      <td>Trent</td>\n      <td></td>\n      <td></td>\n      <td>13:31</td>\n      <td>...</td>\n      <td>0.0</td>\n      <td>0.0</td>\n      <td>0.0</td>\n      <td>4.0</td>\n      <td>0.0</td>\n      <td>0.0</td>\n      <td>0.0</td>\n      <td>0.0</td>\n      <td>8.0</td>\n      <td>11.0</td>\n    </tr>\n    <tr>\n      <th>17</th>\n      <td>0022100990</td>\n      <td>1610612762</td>\n      <td>UTA</td>\n      <td>Utah</td>\n      <td>202355</td>\n      <td>Hassan Whiteside</td>\n      <td>Hassan</td>\n      <td></td>\n      <td></td>\n      <td>16:11</td>\n      <td>...</td>\n      <td>2.0</td>\n      <td>2.0</td>\n      <td>4.0</td>\n      <td>0.0</td>\n      <td>0.0</td>\n      <td>1.0</td>\n      <td>1.0</td>\n      <td>4.0</td>\n      <td>6.0</td>\n      <td>19.0</td>\n    </tr>\n    <tr>\n      <th>18</th>\n      <td>0022100990</td>\n      <td>1610612762</td>\n      <td>UTA</td>\n      <td>Utah</td>\n      <td>203903</td>\n      <td>Jordan Clarkson</td>\n      <td>Jordan</td>\n      <td></td>\n      <td></td>\n      <td>15:45</td>\n      <td>...</td>\n      <td>0.0</td>\n      <td>2.0</td>\n      <td>2.0</td>\n      <td>1.0</td>\n      <td>1.0</td>\n      <td>0.0</td>\n      <td>0.0</td>\n      <td>1.0</td>\n      <td>8.0</td>\n      <td>13.0</td>\n    </tr>\n    <tr>\n      <th>19</th>\n      <td>0022100990</td>\n      <td>1610612762</td>\n      <td>UTA</td>\n      <td>Utah</td>\n      <td>1627863</td>\n      <td>Danuel House Jr.</td>\n      <td>Danuel</td>\n      <td></td>\n      <td></td>\n      <td>15:30</td>\n      <td>...</td>\n      <td>0.0</td>\n      <td>3.0</td>\n      <td>3.0</td>\n      <td>1.0</td>\n      <td>0.0</td>\n      <td>0.0</td>\n      <td>0.0</td>\n      <td>0.0</td>\n      <td>3.0</td>\n      <td>-2.0</td>\n    </tr>\n    <tr>\n      <th>20</th>\n      <td>0022100990</td>\n      <td>1610612762</td>\n      <td>UTA</td>\n      <td>Utah</td>\n      <td>200752</td>\n      <td>Rudy Gay</td>\n      <td>Rudy</td>\n      <td></td>\n      <td></td>\n      <td>17:08</td>\n      <td>...</td>\n      <td>1.0</td>\n      <td>2.0</td>\n      <td>3.0</td>\n      <td>0.0</td>\n      <td>0.0</td>\n      <td>1.0</td>\n      <td>2.0</td>\n      <td>2.0</td>\n      <td>9.0</td>\n      <td>-4.0</td>\n    </tr>\n    <tr>\n      <th>21</th>\n      <td>0022100990</td>\n      <td>1610612762</td>\n      <td>UTA</td>\n      <td>Utah</td>\n      <td>1629638</td>\n      <td>Nickeil Alexander-Walker</td>\n      <td>Nickeil</td>\n      <td></td>\n      <td></td>\n      <td>12:00</td>\n      <td>...</td>\n      <td>0.0</td>\n      <td>3.0</td>\n      <td>3.0</td>\n      <td>5.0</td>\n      <td>0.0</td>\n      <td>1.0</td>\n      <td>1.0</td>\n      <td>2.0</td>\n      <td>0.0</td>\n      <td>-9.0</td>\n    </tr>\n    <tr>\n      <th>22</th>\n      <td>0022100990</td>\n      <td>1610612762</td>\n      <td>UTA</td>\n      <td>Utah</td>\n      <td>1630215</td>\n      <td>Jared Butler</td>\n      <td>Jared</td>\n      <td></td>\n      <td></td>\n      <td>9:49</td>\n      <td>...</td>\n      <td>0.0</td>\n      <td>1.0</td>\n      <td>1.0</td>\n      <td>1.0</td>\n      <td>0.0</td>\n      <td>0.0</td>\n      <td>0.0</td>\n      <td>1.0</td>\n      <td>5.0</td>\n      <td>-7.0</td>\n    </tr>\n    <tr>\n      <th>23</th>\n      <td>0022100990</td>\n      <td>1610612762</td>\n      <td>UTA</td>\n      <td>Utah</td>\n      <td>1628962</td>\n      <td>Udoka Azubuike</td>\n      <td>Udoka</td>\n      <td></td>\n      <td></td>\n      <td>9:35</td>\n      <td>...</td>\n      <td>0.0</td>\n      <td>3.0</td>\n      <td>3.0</td>\n      <td>0.0</td>\n      <td>0.0</td>\n      <td>0.0</td>\n      <td>0.0</td>\n      <td>2.0</td>\n      <td>6.0</td>\n      <td>-5.0</td>\n    </tr>\n    <tr>\n      <th>24</th>\n      <td>0022100990</td>\n      <td>1610612762</td>\n      <td>UTA</td>\n      <td>Utah</td>\n      <td>1629672</td>\n      <td>Eric Paschall</td>\n      <td>Eric</td>\n      <td></td>\n      <td></td>\n      <td>8:02</td>\n      <td>...</td>\n      <td>0.0</td>\n      <td>0.0</td>\n      <td>0.0</td>\n      <td>1.0</td>\n      <td>0.0</td>\n      <td>0.0</td>\n      <td>0.0</td>\n      <td>2.0</td>\n      <td>5.0</td>\n      <td>-3.0</td>\n    </tr>\n    <tr>\n      <th>25</th>\n      <td>0022100990</td>\n      <td>1610612762</td>\n      <td>UTA</td>\n      <td>Utah</td>\n      <td>1627823</td>\n      <td>Juancho Hernangomez</td>\n      <td>Juancho</td>\n      <td></td>\n      <td></td>\n      <td>6:52</td>\n      <td>...</td>\n      <td>0.0</td>\n      <td>2.0</td>\n      <td>2.0</td>\n      <td>1.0</td>\n      <td>0.0</td>\n      <td>1.0</td>\n      <td>1.0</td>\n      <td>0.0</td>\n      <td>5.0</td>\n      <td>-1.0</td>\n    </tr>\n  </tbody>\n</table>\n<p>26 rows × 29 columns</p>\n</div>"
     },
     "execution_count": 23,
     "metadata": {},
     "output_type": "execute_result"
    }
   ],
   "source": [
    "sample_boxscore"
   ],
   "metadata": {
    "collapsed": false,
    "pycharm": {
     "name": "#%%\n"
    }
   }
  },
  {
   "cell_type": "code",
   "execution_count": 24,
   "outputs": [
    {
     "data": {
      "text/plain": "'0022100990'"
     },
     "execution_count": 24,
     "metadata": {},
     "output_type": "execute_result"
    }
   ],
   "source": [
    "test_game_id"
   ],
   "metadata": {
    "collapsed": false,
    "pycharm": {
     "name": "#%%\n"
    }
   }
  },
  {
   "cell_type": "code",
   "execution_count": 40,
   "outputs": [
    {
     "data": {
      "text/plain": "     actionNumber        clock              timeActual  period periodType  \\\n0               2  PT12M00.00S  2022-03-10T03:11:03.6Z       1    REGULAR   \n1               4  PT11M58.00S  2022-03-10T03:11:05.4Z       1    REGULAR   \n2               7  PT11M38.00S  2022-03-10T03:11:24.4Z       1    REGULAR   \n3               8  PT11M36.00S  2022-03-10T03:11:26.4Z       1    REGULAR   \n4               9  PT11M25.00S  2022-03-10T03:11:37.5Z       1    REGULAR   \n..            ...          ...                     ...     ...        ...   \n537           651  PT00M19.50S  2022-03-10T05:23:26.8Z       4    REGULAR   \n538           652  PT00M16.70S  2022-03-10T05:23:34.9Z       4    REGULAR   \n539           653  PT00M14.00S  2022-03-10T05:23:37.6Z       4    REGULAR   \n540           654  PT00M00.00S  2022-03-10T05:23:52.9Z       4    REGULAR   \n541           655  PT00M00.00S  2022-03-10T05:23:55.2Z       4    REGULAR   \n\n    actionType        subType     qualifiers  personId          x  ...  \\\n0       period          start             []         0        NaN  ...   \n1     jumpball      recovered             []   1626220        NaN  ...   \n2          3pt      Jump Shot             []   1628378  71.698423  ...   \n3      rebound      defensive             []   1628404        NaN  ...   \n4          2pt      Jump Shot             []   1630314   8.886334  ...   \n..         ...            ...            ...       ...        ...  ...   \n537   stoppage  out-of-bounds             []         0        NaN  ...   \n538        3pt      Jump Shot  ['2ndchance']   1630553  88.255585  ...   \n539    rebound      defensive             []   1627823        NaN  ...   \n540     period            end             []         0        NaN  ...   \n541       game            end             []         0        NaN  ...   \n\n     reboundOffensiveTotal  officialId  foulPersonalTotal  foulTechnicalTotal  \\\n0                      NaN         NaN                NaN                 NaN   \n1                      NaN         NaN                NaN                 NaN   \n2                      NaN         NaN                NaN                 NaN   \n3                      0.0         NaN                NaN                 NaN   \n4                      NaN         NaN                NaN                 NaN   \n..                     ...         ...                ...                 ...   \n537                    NaN         NaN                NaN                 NaN   \n538                    NaN         NaN                NaN                 NaN   \n539                    0.0         NaN                NaN                 NaN   \n540                    NaN         NaN                NaN                 NaN   \n541                    NaN         NaN                NaN                 NaN   \n\n    foulDrawnPlayerName  foulDrawnPersonId  blockPlayerName  blockPersonId  \\\n0                   NaN                NaN              NaN            NaN   \n1                   NaN                NaN              NaN            NaN   \n2                   NaN                NaN              NaN            NaN   \n3                   NaN                NaN              NaN            NaN   \n4                   NaN                NaN              NaN            NaN   \n..                  ...                ...              ...            ...   \n537                 NaN                NaN              NaN            NaN   \n538                 NaN                NaN              NaN            NaN   \n539                 NaN                NaN              NaN            NaN   \n540                 NaN                NaN              NaN            NaN   \n541                 NaN                NaN              NaN            NaN   \n\n     value     game_id  \n0      NaN  0022100990  \n1      NaN  0022100990  \n2      NaN  0022100990  \n3      NaN  0022100990  \n4      NaN  0022100990  \n..     ...         ...  \n537    NaN  0022100990  \n538    NaN  0022100990  \n539    NaN  0022100990  \n540    NaN  0022100990  \n541    NaN  0022100990  \n\n[542 rows x 55 columns]",
      "text/html": "<div>\n<style scoped>\n    .dataframe tbody tr th:only-of-type {\n        vertical-align: middle;\n    }\n\n    .dataframe tbody tr th {\n        vertical-align: top;\n    }\n\n    .dataframe thead th {\n        text-align: right;\n    }\n</style>\n<table border=\"1\" class=\"dataframe\">\n  <thead>\n    <tr style=\"text-align: right;\">\n      <th></th>\n      <th>actionNumber</th>\n      <th>clock</th>\n      <th>timeActual</th>\n      <th>period</th>\n      <th>periodType</th>\n      <th>actionType</th>\n      <th>subType</th>\n      <th>qualifiers</th>\n      <th>personId</th>\n      <th>x</th>\n      <th>...</th>\n      <th>reboundOffensiveTotal</th>\n      <th>officialId</th>\n      <th>foulPersonalTotal</th>\n      <th>foulTechnicalTotal</th>\n      <th>foulDrawnPlayerName</th>\n      <th>foulDrawnPersonId</th>\n      <th>blockPlayerName</th>\n      <th>blockPersonId</th>\n      <th>value</th>\n      <th>game_id</th>\n    </tr>\n  </thead>\n  <tbody>\n    <tr>\n      <th>0</th>\n      <td>2</td>\n      <td>PT12M00.00S</td>\n      <td>2022-03-10T03:11:03.6Z</td>\n      <td>1</td>\n      <td>REGULAR</td>\n      <td>period</td>\n      <td>start</td>\n      <td>[]</td>\n      <td>0</td>\n      <td>NaN</td>\n      <td>...</td>\n      <td>NaN</td>\n      <td>NaN</td>\n      <td>NaN</td>\n      <td>NaN</td>\n      <td>NaN</td>\n      <td>NaN</td>\n      <td>NaN</td>\n      <td>NaN</td>\n      <td>NaN</td>\n      <td>0022100990</td>\n    </tr>\n    <tr>\n      <th>1</th>\n      <td>4</td>\n      <td>PT11M58.00S</td>\n      <td>2022-03-10T03:11:05.4Z</td>\n      <td>1</td>\n      <td>REGULAR</td>\n      <td>jumpball</td>\n      <td>recovered</td>\n      <td>[]</td>\n      <td>1626220</td>\n      <td>NaN</td>\n      <td>...</td>\n      <td>NaN</td>\n      <td>NaN</td>\n      <td>NaN</td>\n      <td>NaN</td>\n      <td>NaN</td>\n      <td>NaN</td>\n      <td>NaN</td>\n      <td>NaN</td>\n      <td>NaN</td>\n      <td>0022100990</td>\n    </tr>\n    <tr>\n      <th>2</th>\n      <td>7</td>\n      <td>PT11M38.00S</td>\n      <td>2022-03-10T03:11:24.4Z</td>\n      <td>1</td>\n      <td>REGULAR</td>\n      <td>3pt</td>\n      <td>Jump Shot</td>\n      <td>[]</td>\n      <td>1628378</td>\n      <td>71.698423</td>\n      <td>...</td>\n      <td>NaN</td>\n      <td>NaN</td>\n      <td>NaN</td>\n      <td>NaN</td>\n      <td>NaN</td>\n      <td>NaN</td>\n      <td>NaN</td>\n      <td>NaN</td>\n      <td>NaN</td>\n      <td>0022100990</td>\n    </tr>\n    <tr>\n      <th>3</th>\n      <td>8</td>\n      <td>PT11M36.00S</td>\n      <td>2022-03-10T03:11:26.4Z</td>\n      <td>1</td>\n      <td>REGULAR</td>\n      <td>rebound</td>\n      <td>defensive</td>\n      <td>[]</td>\n      <td>1628404</td>\n      <td>NaN</td>\n      <td>...</td>\n      <td>0.0</td>\n      <td>NaN</td>\n      <td>NaN</td>\n      <td>NaN</td>\n      <td>NaN</td>\n      <td>NaN</td>\n      <td>NaN</td>\n      <td>NaN</td>\n      <td>NaN</td>\n      <td>0022100990</td>\n    </tr>\n    <tr>\n      <th>4</th>\n      <td>9</td>\n      <td>PT11M25.00S</td>\n      <td>2022-03-10T03:11:37.5Z</td>\n      <td>1</td>\n      <td>REGULAR</td>\n      <td>2pt</td>\n      <td>Jump Shot</td>\n      <td>[]</td>\n      <td>1630314</td>\n      <td>8.886334</td>\n      <td>...</td>\n      <td>NaN</td>\n      <td>NaN</td>\n      <td>NaN</td>\n      <td>NaN</td>\n      <td>NaN</td>\n      <td>NaN</td>\n      <td>NaN</td>\n      <td>NaN</td>\n      <td>NaN</td>\n      <td>0022100990</td>\n    </tr>\n    <tr>\n      <th>...</th>\n      <td>...</td>\n      <td>...</td>\n      <td>...</td>\n      <td>...</td>\n      <td>...</td>\n      <td>...</td>\n      <td>...</td>\n      <td>...</td>\n      <td>...</td>\n      <td>...</td>\n      <td>...</td>\n      <td>...</td>\n      <td>...</td>\n      <td>...</td>\n      <td>...</td>\n      <td>...</td>\n      <td>...</td>\n      <td>...</td>\n      <td>...</td>\n      <td>...</td>\n      <td>...</td>\n    </tr>\n    <tr>\n      <th>537</th>\n      <td>651</td>\n      <td>PT00M19.50S</td>\n      <td>2022-03-10T05:23:26.8Z</td>\n      <td>4</td>\n      <td>REGULAR</td>\n      <td>stoppage</td>\n      <td>out-of-bounds</td>\n      <td>[]</td>\n      <td>0</td>\n      <td>NaN</td>\n      <td>...</td>\n      <td>NaN</td>\n      <td>NaN</td>\n      <td>NaN</td>\n      <td>NaN</td>\n      <td>NaN</td>\n      <td>NaN</td>\n      <td>NaN</td>\n      <td>NaN</td>\n      <td>NaN</td>\n      <td>0022100990</td>\n    </tr>\n    <tr>\n      <th>538</th>\n      <td>652</td>\n      <td>PT00M16.70S</td>\n      <td>2022-03-10T05:23:34.9Z</td>\n      <td>4</td>\n      <td>REGULAR</td>\n      <td>3pt</td>\n      <td>Jump Shot</td>\n      <td>['2ndchance']</td>\n      <td>1630553</td>\n      <td>88.255585</td>\n      <td>...</td>\n      <td>NaN</td>\n      <td>NaN</td>\n      <td>NaN</td>\n      <td>NaN</td>\n      <td>NaN</td>\n      <td>NaN</td>\n      <td>NaN</td>\n      <td>NaN</td>\n      <td>NaN</td>\n      <td>0022100990</td>\n    </tr>\n    <tr>\n      <th>539</th>\n      <td>653</td>\n      <td>PT00M14.00S</td>\n      <td>2022-03-10T05:23:37.6Z</td>\n      <td>4</td>\n      <td>REGULAR</td>\n      <td>rebound</td>\n      <td>defensive</td>\n      <td>[]</td>\n      <td>1627823</td>\n      <td>NaN</td>\n      <td>...</td>\n      <td>0.0</td>\n      <td>NaN</td>\n      <td>NaN</td>\n      <td>NaN</td>\n      <td>NaN</td>\n      <td>NaN</td>\n      <td>NaN</td>\n      <td>NaN</td>\n      <td>NaN</td>\n      <td>0022100990</td>\n    </tr>\n    <tr>\n      <th>540</th>\n      <td>654</td>\n      <td>PT00M00.00S</td>\n      <td>2022-03-10T05:23:52.9Z</td>\n      <td>4</td>\n      <td>REGULAR</td>\n      <td>period</td>\n      <td>end</td>\n      <td>[]</td>\n      <td>0</td>\n      <td>NaN</td>\n      <td>...</td>\n      <td>NaN</td>\n      <td>NaN</td>\n      <td>NaN</td>\n      <td>NaN</td>\n      <td>NaN</td>\n      <td>NaN</td>\n      <td>NaN</td>\n      <td>NaN</td>\n      <td>NaN</td>\n      <td>0022100990</td>\n    </tr>\n    <tr>\n      <th>541</th>\n      <td>655</td>\n      <td>PT00M00.00S</td>\n      <td>2022-03-10T05:23:55.2Z</td>\n      <td>4</td>\n      <td>REGULAR</td>\n      <td>game</td>\n      <td>end</td>\n      <td>[]</td>\n      <td>0</td>\n      <td>NaN</td>\n      <td>...</td>\n      <td>NaN</td>\n      <td>NaN</td>\n      <td>NaN</td>\n      <td>NaN</td>\n      <td>NaN</td>\n      <td>NaN</td>\n      <td>NaN</td>\n      <td>NaN</td>\n      <td>NaN</td>\n      <td>0022100990</td>\n    </tr>\n  </tbody>\n</table>\n<p>542 rows × 55 columns</p>\n</div>"
     },
     "execution_count": 40,
     "metadata": {},
     "output_type": "execute_result"
    }
   ],
   "source": [
    "# sample pbp\n",
    "test_pbp = pbp[pbp['game_id'] == test_game_id].copy()\n",
    "test_pbp"
   ],
   "metadata": {
    "collapsed": false,
    "pycharm": {
     "name": "#%%\n"
    }
   }
  },
  {
   "cell_type": "code",
   "execution_count": 59,
   "outputs": [
    {
     "name": "stdout",
     "output_type": "stream",
     "text": [
      "00 19.50\n"
     ]
    }
   ],
   "source": [
    "# try to filter out pbp rows where player is in the game based on game rotation\n",
    "# clock reads PT00M19.50S\n",
    "# period is in [1, 2, 3, 4]\n",
    "# convert pbp time to seconds\n",
    "test_time = 'PT00M19.50S'\n",
    "mins = test_time[2:4]\n",
    "seconds = test_time[5:10]\n",
    "print(mins, seconds)\n",
    "\n",
    "# def conv_clock_to_secs(clock_str, period):\n",
    "#     period = (period-1) * (12*60) # 12 minutes * 60 seconds\n",
    "#     mins = clock_str[2:4]\n",
    "#     mins_to_secs = int(mins)*60\n",
    "#     secs = float(clock_str[5:10])\n",
    "#     return period+mins_to_secs+secs\n",
    "\n",
    "def conv_clock_to_secs(row):\n",
    "    period_to_secs = (int(row['period']) -1) * (12*60)\n",
    "    mins_to_secs = int(row['clock'][2:4]) * 60\n",
    "    secs = float(row['clock'][5:10])\n",
    "    secs_left_in_quarter = (12*60) - (secs+mins_to_secs)\n",
    "    return period_to_secs + secs_left_in_quarter"
   ],
   "metadata": {
    "collapsed": false,
    "pycharm": {
     "name": "#%%\n"
    }
   }
  },
  {
   "cell_type": "code",
   "execution_count": 60,
   "outputs": [
    {
     "data": {
      "text/plain": "2.0"
     },
     "execution_count": 60,
     "metadata": {},
     "output_type": "execute_result"
    }
   ],
   "source": [
    "conv_clock_to_secs(test_pbp.iloc[1])\n"
   ],
   "metadata": {
    "collapsed": false,
    "pycharm": {
     "name": "#%%\n"
    }
   }
  },
  {
   "cell_type": "code",
   "execution_count": 61,
   "outputs": [
    {
     "data": {
      "text/plain": "     actionNumber        clock              timeActual  period periodType  \\\n0               2  PT12M00.00S  2022-03-10T03:11:03.6Z       1    REGULAR   \n1               4  PT11M58.00S  2022-03-10T03:11:05.4Z       1    REGULAR   \n2               7  PT11M38.00S  2022-03-10T03:11:24.4Z       1    REGULAR   \n3               8  PT11M36.00S  2022-03-10T03:11:26.4Z       1    REGULAR   \n4               9  PT11M25.00S  2022-03-10T03:11:37.5Z       1    REGULAR   \n..            ...          ...                     ...     ...        ...   \n537           651  PT00M19.50S  2022-03-10T05:23:26.8Z       4    REGULAR   \n538           652  PT00M16.70S  2022-03-10T05:23:34.9Z       4    REGULAR   \n539           653  PT00M14.00S  2022-03-10T05:23:37.6Z       4    REGULAR   \n540           654  PT00M00.00S  2022-03-10T05:23:52.9Z       4    REGULAR   \n541           655  PT00M00.00S  2022-03-10T05:23:55.2Z       4    REGULAR   \n\n    actionType        subType     qualifiers  personId          x  ...  \\\n0       period          start             []         0        NaN  ...   \n1     jumpball      recovered             []   1626220        NaN  ...   \n2          3pt      Jump Shot             []   1628378  71.698423  ...   \n3      rebound      defensive             []   1628404        NaN  ...   \n4          2pt      Jump Shot             []   1630314   8.886334  ...   \n..         ...            ...            ...       ...        ...  ...   \n537   stoppage  out-of-bounds             []         0        NaN  ...   \n538        3pt      Jump Shot  ['2ndchance']   1630553  88.255585  ...   \n539    rebound      defensive             []   1627823        NaN  ...   \n540     period            end             []         0        NaN  ...   \n541       game            end             []         0        NaN  ...   \n\n     officialId  foulPersonalTotal  foulTechnicalTotal  foulDrawnPlayerName  \\\n0           NaN                NaN                 NaN                  NaN   \n1           NaN                NaN                 NaN                  NaN   \n2           NaN                NaN                 NaN                  NaN   \n3           NaN                NaN                 NaN                  NaN   \n4           NaN                NaN                 NaN                  NaN   \n..          ...                ...                 ...                  ...   \n537         NaN                NaN                 NaN                  NaN   \n538         NaN                NaN                 NaN                  NaN   \n539         NaN                NaN                 NaN                  NaN   \n540         NaN                NaN                 NaN                  NaN   \n541         NaN                NaN                 NaN                  NaN   \n\n    foulDrawnPersonId  blockPlayerName  blockPersonId  value     game_id  \\\n0                 NaN              NaN            NaN    NaN  0022100990   \n1                 NaN              NaN            NaN    NaN  0022100990   \n2                 NaN              NaN            NaN    NaN  0022100990   \n3                 NaN              NaN            NaN    NaN  0022100990   \n4                 NaN              NaN            NaN    NaN  0022100990   \n..                ...              ...            ...    ...         ...   \n537               NaN              NaN            NaN    NaN  0022100990   \n538               NaN              NaN            NaN    NaN  0022100990   \n539               NaN              NaN            NaN    NaN  0022100990   \n540               NaN              NaN            NaN    NaN  0022100990   \n541               NaN              NaN            NaN    NaN  0022100990   \n\n       time  \n0       0.0  \n1       2.0  \n2      22.0  \n3      24.0  \n4      35.0  \n..      ...  \n537  2860.5  \n538  2863.3  \n539  2866.0  \n540  2880.0  \n541  2880.0  \n\n[542 rows x 56 columns]",
      "text/html": "<div>\n<style scoped>\n    .dataframe tbody tr th:only-of-type {\n        vertical-align: middle;\n    }\n\n    .dataframe tbody tr th {\n        vertical-align: top;\n    }\n\n    .dataframe thead th {\n        text-align: right;\n    }\n</style>\n<table border=\"1\" class=\"dataframe\">\n  <thead>\n    <tr style=\"text-align: right;\">\n      <th></th>\n      <th>actionNumber</th>\n      <th>clock</th>\n      <th>timeActual</th>\n      <th>period</th>\n      <th>periodType</th>\n      <th>actionType</th>\n      <th>subType</th>\n      <th>qualifiers</th>\n      <th>personId</th>\n      <th>x</th>\n      <th>...</th>\n      <th>officialId</th>\n      <th>foulPersonalTotal</th>\n      <th>foulTechnicalTotal</th>\n      <th>foulDrawnPlayerName</th>\n      <th>foulDrawnPersonId</th>\n      <th>blockPlayerName</th>\n      <th>blockPersonId</th>\n      <th>value</th>\n      <th>game_id</th>\n      <th>time</th>\n    </tr>\n  </thead>\n  <tbody>\n    <tr>\n      <th>0</th>\n      <td>2</td>\n      <td>PT12M00.00S</td>\n      <td>2022-03-10T03:11:03.6Z</td>\n      <td>1</td>\n      <td>REGULAR</td>\n      <td>period</td>\n      <td>start</td>\n      <td>[]</td>\n      <td>0</td>\n      <td>NaN</td>\n      <td>...</td>\n      <td>NaN</td>\n      <td>NaN</td>\n      <td>NaN</td>\n      <td>NaN</td>\n      <td>NaN</td>\n      <td>NaN</td>\n      <td>NaN</td>\n      <td>NaN</td>\n      <td>0022100990</td>\n      <td>0.0</td>\n    </tr>\n    <tr>\n      <th>1</th>\n      <td>4</td>\n      <td>PT11M58.00S</td>\n      <td>2022-03-10T03:11:05.4Z</td>\n      <td>1</td>\n      <td>REGULAR</td>\n      <td>jumpball</td>\n      <td>recovered</td>\n      <td>[]</td>\n      <td>1626220</td>\n      <td>NaN</td>\n      <td>...</td>\n      <td>NaN</td>\n      <td>NaN</td>\n      <td>NaN</td>\n      <td>NaN</td>\n      <td>NaN</td>\n      <td>NaN</td>\n      <td>NaN</td>\n      <td>NaN</td>\n      <td>0022100990</td>\n      <td>2.0</td>\n    </tr>\n    <tr>\n      <th>2</th>\n      <td>7</td>\n      <td>PT11M38.00S</td>\n      <td>2022-03-10T03:11:24.4Z</td>\n      <td>1</td>\n      <td>REGULAR</td>\n      <td>3pt</td>\n      <td>Jump Shot</td>\n      <td>[]</td>\n      <td>1628378</td>\n      <td>71.698423</td>\n      <td>...</td>\n      <td>NaN</td>\n      <td>NaN</td>\n      <td>NaN</td>\n      <td>NaN</td>\n      <td>NaN</td>\n      <td>NaN</td>\n      <td>NaN</td>\n      <td>NaN</td>\n      <td>0022100990</td>\n      <td>22.0</td>\n    </tr>\n    <tr>\n      <th>3</th>\n      <td>8</td>\n      <td>PT11M36.00S</td>\n      <td>2022-03-10T03:11:26.4Z</td>\n      <td>1</td>\n      <td>REGULAR</td>\n      <td>rebound</td>\n      <td>defensive</td>\n      <td>[]</td>\n      <td>1628404</td>\n      <td>NaN</td>\n      <td>...</td>\n      <td>NaN</td>\n      <td>NaN</td>\n      <td>NaN</td>\n      <td>NaN</td>\n      <td>NaN</td>\n      <td>NaN</td>\n      <td>NaN</td>\n      <td>NaN</td>\n      <td>0022100990</td>\n      <td>24.0</td>\n    </tr>\n    <tr>\n      <th>4</th>\n      <td>9</td>\n      <td>PT11M25.00S</td>\n      <td>2022-03-10T03:11:37.5Z</td>\n      <td>1</td>\n      <td>REGULAR</td>\n      <td>2pt</td>\n      <td>Jump Shot</td>\n      <td>[]</td>\n      <td>1630314</td>\n      <td>8.886334</td>\n      <td>...</td>\n      <td>NaN</td>\n      <td>NaN</td>\n      <td>NaN</td>\n      <td>NaN</td>\n      <td>NaN</td>\n      <td>NaN</td>\n      <td>NaN</td>\n      <td>NaN</td>\n      <td>0022100990</td>\n      <td>35.0</td>\n    </tr>\n    <tr>\n      <th>...</th>\n      <td>...</td>\n      <td>...</td>\n      <td>...</td>\n      <td>...</td>\n      <td>...</td>\n      <td>...</td>\n      <td>...</td>\n      <td>...</td>\n      <td>...</td>\n      <td>...</td>\n      <td>...</td>\n      <td>...</td>\n      <td>...</td>\n      <td>...</td>\n      <td>...</td>\n      <td>...</td>\n      <td>...</td>\n      <td>...</td>\n      <td>...</td>\n      <td>...</td>\n      <td>...</td>\n    </tr>\n    <tr>\n      <th>537</th>\n      <td>651</td>\n      <td>PT00M19.50S</td>\n      <td>2022-03-10T05:23:26.8Z</td>\n      <td>4</td>\n      <td>REGULAR</td>\n      <td>stoppage</td>\n      <td>out-of-bounds</td>\n      <td>[]</td>\n      <td>0</td>\n      <td>NaN</td>\n      <td>...</td>\n      <td>NaN</td>\n      <td>NaN</td>\n      <td>NaN</td>\n      <td>NaN</td>\n      <td>NaN</td>\n      <td>NaN</td>\n      <td>NaN</td>\n      <td>NaN</td>\n      <td>0022100990</td>\n      <td>2860.5</td>\n    </tr>\n    <tr>\n      <th>538</th>\n      <td>652</td>\n      <td>PT00M16.70S</td>\n      <td>2022-03-10T05:23:34.9Z</td>\n      <td>4</td>\n      <td>REGULAR</td>\n      <td>3pt</td>\n      <td>Jump Shot</td>\n      <td>['2ndchance']</td>\n      <td>1630553</td>\n      <td>88.255585</td>\n      <td>...</td>\n      <td>NaN</td>\n      <td>NaN</td>\n      <td>NaN</td>\n      <td>NaN</td>\n      <td>NaN</td>\n      <td>NaN</td>\n      <td>NaN</td>\n      <td>NaN</td>\n      <td>0022100990</td>\n      <td>2863.3</td>\n    </tr>\n    <tr>\n      <th>539</th>\n      <td>653</td>\n      <td>PT00M14.00S</td>\n      <td>2022-03-10T05:23:37.6Z</td>\n      <td>4</td>\n      <td>REGULAR</td>\n      <td>rebound</td>\n      <td>defensive</td>\n      <td>[]</td>\n      <td>1627823</td>\n      <td>NaN</td>\n      <td>...</td>\n      <td>NaN</td>\n      <td>NaN</td>\n      <td>NaN</td>\n      <td>NaN</td>\n      <td>NaN</td>\n      <td>NaN</td>\n      <td>NaN</td>\n      <td>NaN</td>\n      <td>0022100990</td>\n      <td>2866.0</td>\n    </tr>\n    <tr>\n      <th>540</th>\n      <td>654</td>\n      <td>PT00M00.00S</td>\n      <td>2022-03-10T05:23:52.9Z</td>\n      <td>4</td>\n      <td>REGULAR</td>\n      <td>period</td>\n      <td>end</td>\n      <td>[]</td>\n      <td>0</td>\n      <td>NaN</td>\n      <td>...</td>\n      <td>NaN</td>\n      <td>NaN</td>\n      <td>NaN</td>\n      <td>NaN</td>\n      <td>NaN</td>\n      <td>NaN</td>\n      <td>NaN</td>\n      <td>NaN</td>\n      <td>0022100990</td>\n      <td>2880.0</td>\n    </tr>\n    <tr>\n      <th>541</th>\n      <td>655</td>\n      <td>PT00M00.00S</td>\n      <td>2022-03-10T05:23:55.2Z</td>\n      <td>4</td>\n      <td>REGULAR</td>\n      <td>game</td>\n      <td>end</td>\n      <td>[]</td>\n      <td>0</td>\n      <td>NaN</td>\n      <td>...</td>\n      <td>NaN</td>\n      <td>NaN</td>\n      <td>NaN</td>\n      <td>NaN</td>\n      <td>NaN</td>\n      <td>NaN</td>\n      <td>NaN</td>\n      <td>NaN</td>\n      <td>0022100990</td>\n      <td>2880.0</td>\n    </tr>\n  </tbody>\n</table>\n<p>542 rows × 56 columns</p>\n</div>"
     },
     "execution_count": 61,
     "metadata": {},
     "output_type": "execute_result"
    }
   ],
   "source": [
    "test_pbp['time'] = test_pbp.apply(conv_clock_to_secs, axis=1)\n",
    "test_pbp"
   ],
   "metadata": {
    "collapsed": false,
    "pycharm": {
     "name": "#%%\n"
    }
   }
  },
  {
   "cell_type": "code",
   "execution_count": 62,
   "outputs": [
    {
     "data": {
      "text/plain": "       GAME_ID     TEAM_ID TEAM_CITY TEAM_NAME  PERSON_ID PLAYER_FIRST  \\\n0   0022100990  1610612762      Utah      Jazz     200752         Rudy   \n1   0022100990  1610612762      Utah      Jazz     200752         Rudy   \n2   0022100990  1610612762      Utah      Jazz     201144         Mike   \n3   0022100990  1610612762      Utah      Jazz     201144         Mike   \n4   0022100990  1610612762      Utah      Jazz     201144         Mike   \n5   0022100990  1610612762      Utah      Jazz     202355       Hassan   \n6   0022100990  1610612762      Utah      Jazz     202355       Hassan   \n7   0022100990  1610612762      Utah      Jazz     202355       Hassan   \n8   0022100990  1610612762      Utah      Jazz     202711        Bojan   \n9   0022100990  1610612762      Utah      Jazz     202711        Bojan   \n10  0022100990  1610612762      Utah      Jazz     203497         Rudy   \n11  0022100990  1610612762      Utah      Jazz     203497         Rudy   \n12  0022100990  1610612762      Utah      Jazz     203497         Rudy   \n13  0022100990  1610612762      Utah      Jazz     203903       Jordan   \n14  0022100990  1610612762      Utah      Jazz     203903       Jordan   \n15  0022100990  1610612762      Utah      Jazz    1626220        Royce   \n16  0022100990  1610612762      Utah      Jazz    1626220        Royce   \n17  0022100990  1610612762      Utah      Jazz    1627823      Juancho   \n18  0022100990  1610612762      Utah      Jazz    1627863       Danuel   \n19  0022100990  1610612762      Utah      Jazz    1627863       Danuel   \n20  0022100990  1610612762      Utah      Jazz    1628378      Donovan   \n21  0022100990  1610612762      Utah      Jazz    1628378      Donovan   \n22  0022100990  1610612762      Utah      Jazz    1628962        Udoka   \n23  0022100990  1610612762      Utah      Jazz    1629638      Nickeil   \n24  0022100990  1610612762      Utah      Jazz    1629672         Eric   \n25  0022100990  1610612762      Utah      Jazz    1630215        Jared   \n26  0022100990  1610612762      Utah      Jazz    1630235        Trent   \n27  0022100990  1610612762      Utah      Jazz    1630235        Trent   \n28  0022100990  1610612762      Utah      Jazz    1630235        Trent   \n\n         PLAYER_LAST  IN_TIME_REAL  OUT_TIME_REAL  PLAYER_PTS  PT_DIFF  \\\n0                Gay         513.0          947.0           2      0.0   \n1                Gay        1874.0         2468.0           7     -4.0   \n2             Conley           0.0          288.0           0      5.0   \n3             Conley         513.0          840.0           3      1.0   \n4             Conley        1200.0         1812.0           2     19.0   \n5          Whiteside         288.0          513.0           2      8.0   \n6          Whiteside         947.0         1200.0           2      9.0   \n7          Whiteside        1812.0         2305.0           2      2.0   \n8         Bogdanovic           0.0          513.0           7     13.0   \n9         Bogdanovic         947.0         1874.0          20     30.0   \n10            Gobert           0.0          288.0           0      5.0   \n11            Gobert         513.0          947.0           5      0.0   \n12            Gobert        1200.0         1812.0           4     19.0   \n13          Clarkson         513.0         1200.0           8      9.0   \n14          Clarkson        1902.0         2160.0           0      4.0   \n15           O'Neale           0.0          513.0           5     13.0   \n16           O'Neale         947.0         1902.0           6     30.0   \n17       Hernangomez        2468.0         2880.0           5     -1.0   \n18         House Jr.         513.0          947.0           2      0.0   \n19         House Jr.        1902.0         2398.0           1     -2.0   \n20          Mitchell           0.0          513.0           5     13.0   \n21          Mitchell         947.0         1902.0          11     30.0   \n22          Azubuike        2305.0         2880.0           6     -5.0   \n23  Alexander-Walker        2160.0         2880.0           0     -9.0   \n24          Paschall        2398.0         2880.0           5     -3.0   \n25            Butler        2291.0         2880.0           5     -7.0   \n26           Forrest         288.0          513.0           2      8.0   \n27           Forrest         840.0          947.0           0     -1.0   \n28           Forrest        1812.0         2291.0           6      4.0   \n\n    USG_PCT  \n0     0.214  \n1     0.292  \n2     0.091  \n3     0.182  \n4     0.143  \n5     0.111  \n6     0.125  \n7     0.105  \n8     0.316  \n9     0.355  \n10    0.000  \n11    0.286  \n12    0.143  \n13    0.227  \n14    0.333  \n15    0.158  \n16    0.094  \n17    0.188  \n18    0.214  \n19    0.143  \n20    0.368  \n21    0.219  \n22    0.130  \n23    0.179  \n24    0.158  \n25    0.217  \n26    0.111  \n27    0.000  \n28    0.211  ",
      "text/html": "<div>\n<style scoped>\n    .dataframe tbody tr th:only-of-type {\n        vertical-align: middle;\n    }\n\n    .dataframe tbody tr th {\n        vertical-align: top;\n    }\n\n    .dataframe thead th {\n        text-align: right;\n    }\n</style>\n<table border=\"1\" class=\"dataframe\">\n  <thead>\n    <tr style=\"text-align: right;\">\n      <th></th>\n      <th>GAME_ID</th>\n      <th>TEAM_ID</th>\n      <th>TEAM_CITY</th>\n      <th>TEAM_NAME</th>\n      <th>PERSON_ID</th>\n      <th>PLAYER_FIRST</th>\n      <th>PLAYER_LAST</th>\n      <th>IN_TIME_REAL</th>\n      <th>OUT_TIME_REAL</th>\n      <th>PLAYER_PTS</th>\n      <th>PT_DIFF</th>\n      <th>USG_PCT</th>\n    </tr>\n  </thead>\n  <tbody>\n    <tr>\n      <th>0</th>\n      <td>0022100990</td>\n      <td>1610612762</td>\n      <td>Utah</td>\n      <td>Jazz</td>\n      <td>200752</td>\n      <td>Rudy</td>\n      <td>Gay</td>\n      <td>513.0</td>\n      <td>947.0</td>\n      <td>2</td>\n      <td>0.0</td>\n      <td>0.214</td>\n    </tr>\n    <tr>\n      <th>1</th>\n      <td>0022100990</td>\n      <td>1610612762</td>\n      <td>Utah</td>\n      <td>Jazz</td>\n      <td>200752</td>\n      <td>Rudy</td>\n      <td>Gay</td>\n      <td>1874.0</td>\n      <td>2468.0</td>\n      <td>7</td>\n      <td>-4.0</td>\n      <td>0.292</td>\n    </tr>\n    <tr>\n      <th>2</th>\n      <td>0022100990</td>\n      <td>1610612762</td>\n      <td>Utah</td>\n      <td>Jazz</td>\n      <td>201144</td>\n      <td>Mike</td>\n      <td>Conley</td>\n      <td>0.0</td>\n      <td>288.0</td>\n      <td>0</td>\n      <td>5.0</td>\n      <td>0.091</td>\n    </tr>\n    <tr>\n      <th>3</th>\n      <td>0022100990</td>\n      <td>1610612762</td>\n      <td>Utah</td>\n      <td>Jazz</td>\n      <td>201144</td>\n      <td>Mike</td>\n      <td>Conley</td>\n      <td>513.0</td>\n      <td>840.0</td>\n      <td>3</td>\n      <td>1.0</td>\n      <td>0.182</td>\n    </tr>\n    <tr>\n      <th>4</th>\n      <td>0022100990</td>\n      <td>1610612762</td>\n      <td>Utah</td>\n      <td>Jazz</td>\n      <td>201144</td>\n      <td>Mike</td>\n      <td>Conley</td>\n      <td>1200.0</td>\n      <td>1812.0</td>\n      <td>2</td>\n      <td>19.0</td>\n      <td>0.143</td>\n    </tr>\n    <tr>\n      <th>5</th>\n      <td>0022100990</td>\n      <td>1610612762</td>\n      <td>Utah</td>\n      <td>Jazz</td>\n      <td>202355</td>\n      <td>Hassan</td>\n      <td>Whiteside</td>\n      <td>288.0</td>\n      <td>513.0</td>\n      <td>2</td>\n      <td>8.0</td>\n      <td>0.111</td>\n    </tr>\n    <tr>\n      <th>6</th>\n      <td>0022100990</td>\n      <td>1610612762</td>\n      <td>Utah</td>\n      <td>Jazz</td>\n      <td>202355</td>\n      <td>Hassan</td>\n      <td>Whiteside</td>\n      <td>947.0</td>\n      <td>1200.0</td>\n      <td>2</td>\n      <td>9.0</td>\n      <td>0.125</td>\n    </tr>\n    <tr>\n      <th>7</th>\n      <td>0022100990</td>\n      <td>1610612762</td>\n      <td>Utah</td>\n      <td>Jazz</td>\n      <td>202355</td>\n      <td>Hassan</td>\n      <td>Whiteside</td>\n      <td>1812.0</td>\n      <td>2305.0</td>\n      <td>2</td>\n      <td>2.0</td>\n      <td>0.105</td>\n    </tr>\n    <tr>\n      <th>8</th>\n      <td>0022100990</td>\n      <td>1610612762</td>\n      <td>Utah</td>\n      <td>Jazz</td>\n      <td>202711</td>\n      <td>Bojan</td>\n      <td>Bogdanovic</td>\n      <td>0.0</td>\n      <td>513.0</td>\n      <td>7</td>\n      <td>13.0</td>\n      <td>0.316</td>\n    </tr>\n    <tr>\n      <th>9</th>\n      <td>0022100990</td>\n      <td>1610612762</td>\n      <td>Utah</td>\n      <td>Jazz</td>\n      <td>202711</td>\n      <td>Bojan</td>\n      <td>Bogdanovic</td>\n      <td>947.0</td>\n      <td>1874.0</td>\n      <td>20</td>\n      <td>30.0</td>\n      <td>0.355</td>\n    </tr>\n    <tr>\n      <th>10</th>\n      <td>0022100990</td>\n      <td>1610612762</td>\n      <td>Utah</td>\n      <td>Jazz</td>\n      <td>203497</td>\n      <td>Rudy</td>\n      <td>Gobert</td>\n      <td>0.0</td>\n      <td>288.0</td>\n      <td>0</td>\n      <td>5.0</td>\n      <td>0.000</td>\n    </tr>\n    <tr>\n      <th>11</th>\n      <td>0022100990</td>\n      <td>1610612762</td>\n      <td>Utah</td>\n      <td>Jazz</td>\n      <td>203497</td>\n      <td>Rudy</td>\n      <td>Gobert</td>\n      <td>513.0</td>\n      <td>947.0</td>\n      <td>5</td>\n      <td>0.0</td>\n      <td>0.286</td>\n    </tr>\n    <tr>\n      <th>12</th>\n      <td>0022100990</td>\n      <td>1610612762</td>\n      <td>Utah</td>\n      <td>Jazz</td>\n      <td>203497</td>\n      <td>Rudy</td>\n      <td>Gobert</td>\n      <td>1200.0</td>\n      <td>1812.0</td>\n      <td>4</td>\n      <td>19.0</td>\n      <td>0.143</td>\n    </tr>\n    <tr>\n      <th>13</th>\n      <td>0022100990</td>\n      <td>1610612762</td>\n      <td>Utah</td>\n      <td>Jazz</td>\n      <td>203903</td>\n      <td>Jordan</td>\n      <td>Clarkson</td>\n      <td>513.0</td>\n      <td>1200.0</td>\n      <td>8</td>\n      <td>9.0</td>\n      <td>0.227</td>\n    </tr>\n    <tr>\n      <th>14</th>\n      <td>0022100990</td>\n      <td>1610612762</td>\n      <td>Utah</td>\n      <td>Jazz</td>\n      <td>203903</td>\n      <td>Jordan</td>\n      <td>Clarkson</td>\n      <td>1902.0</td>\n      <td>2160.0</td>\n      <td>0</td>\n      <td>4.0</td>\n      <td>0.333</td>\n    </tr>\n    <tr>\n      <th>15</th>\n      <td>0022100990</td>\n      <td>1610612762</td>\n      <td>Utah</td>\n      <td>Jazz</td>\n      <td>1626220</td>\n      <td>Royce</td>\n      <td>O'Neale</td>\n      <td>0.0</td>\n      <td>513.0</td>\n      <td>5</td>\n      <td>13.0</td>\n      <td>0.158</td>\n    </tr>\n    <tr>\n      <th>16</th>\n      <td>0022100990</td>\n      <td>1610612762</td>\n      <td>Utah</td>\n      <td>Jazz</td>\n      <td>1626220</td>\n      <td>Royce</td>\n      <td>O'Neale</td>\n      <td>947.0</td>\n      <td>1902.0</td>\n      <td>6</td>\n      <td>30.0</td>\n      <td>0.094</td>\n    </tr>\n    <tr>\n      <th>17</th>\n      <td>0022100990</td>\n      <td>1610612762</td>\n      <td>Utah</td>\n      <td>Jazz</td>\n      <td>1627823</td>\n      <td>Juancho</td>\n      <td>Hernangomez</td>\n      <td>2468.0</td>\n      <td>2880.0</td>\n      <td>5</td>\n      <td>-1.0</td>\n      <td>0.188</td>\n    </tr>\n    <tr>\n      <th>18</th>\n      <td>0022100990</td>\n      <td>1610612762</td>\n      <td>Utah</td>\n      <td>Jazz</td>\n      <td>1627863</td>\n      <td>Danuel</td>\n      <td>House Jr.</td>\n      <td>513.0</td>\n      <td>947.0</td>\n      <td>2</td>\n      <td>0.0</td>\n      <td>0.214</td>\n    </tr>\n    <tr>\n      <th>19</th>\n      <td>0022100990</td>\n      <td>1610612762</td>\n      <td>Utah</td>\n      <td>Jazz</td>\n      <td>1627863</td>\n      <td>Danuel</td>\n      <td>House Jr.</td>\n      <td>1902.0</td>\n      <td>2398.0</td>\n      <td>1</td>\n      <td>-2.0</td>\n      <td>0.143</td>\n    </tr>\n    <tr>\n      <th>20</th>\n      <td>0022100990</td>\n      <td>1610612762</td>\n      <td>Utah</td>\n      <td>Jazz</td>\n      <td>1628378</td>\n      <td>Donovan</td>\n      <td>Mitchell</td>\n      <td>0.0</td>\n      <td>513.0</td>\n      <td>5</td>\n      <td>13.0</td>\n      <td>0.368</td>\n    </tr>\n    <tr>\n      <th>21</th>\n      <td>0022100990</td>\n      <td>1610612762</td>\n      <td>Utah</td>\n      <td>Jazz</td>\n      <td>1628378</td>\n      <td>Donovan</td>\n      <td>Mitchell</td>\n      <td>947.0</td>\n      <td>1902.0</td>\n      <td>11</td>\n      <td>30.0</td>\n      <td>0.219</td>\n    </tr>\n    <tr>\n      <th>22</th>\n      <td>0022100990</td>\n      <td>1610612762</td>\n      <td>Utah</td>\n      <td>Jazz</td>\n      <td>1628962</td>\n      <td>Udoka</td>\n      <td>Azubuike</td>\n      <td>2305.0</td>\n      <td>2880.0</td>\n      <td>6</td>\n      <td>-5.0</td>\n      <td>0.130</td>\n    </tr>\n    <tr>\n      <th>23</th>\n      <td>0022100990</td>\n      <td>1610612762</td>\n      <td>Utah</td>\n      <td>Jazz</td>\n      <td>1629638</td>\n      <td>Nickeil</td>\n      <td>Alexander-Walker</td>\n      <td>2160.0</td>\n      <td>2880.0</td>\n      <td>0</td>\n      <td>-9.0</td>\n      <td>0.179</td>\n    </tr>\n    <tr>\n      <th>24</th>\n      <td>0022100990</td>\n      <td>1610612762</td>\n      <td>Utah</td>\n      <td>Jazz</td>\n      <td>1629672</td>\n      <td>Eric</td>\n      <td>Paschall</td>\n      <td>2398.0</td>\n      <td>2880.0</td>\n      <td>5</td>\n      <td>-3.0</td>\n      <td>0.158</td>\n    </tr>\n    <tr>\n      <th>25</th>\n      <td>0022100990</td>\n      <td>1610612762</td>\n      <td>Utah</td>\n      <td>Jazz</td>\n      <td>1630215</td>\n      <td>Jared</td>\n      <td>Butler</td>\n      <td>2291.0</td>\n      <td>2880.0</td>\n      <td>5</td>\n      <td>-7.0</td>\n      <td>0.217</td>\n    </tr>\n    <tr>\n      <th>26</th>\n      <td>0022100990</td>\n      <td>1610612762</td>\n      <td>Utah</td>\n      <td>Jazz</td>\n      <td>1630235</td>\n      <td>Trent</td>\n      <td>Forrest</td>\n      <td>288.0</td>\n      <td>513.0</td>\n      <td>2</td>\n      <td>8.0</td>\n      <td>0.111</td>\n    </tr>\n    <tr>\n      <th>27</th>\n      <td>0022100990</td>\n      <td>1610612762</td>\n      <td>Utah</td>\n      <td>Jazz</td>\n      <td>1630235</td>\n      <td>Trent</td>\n      <td>Forrest</td>\n      <td>840.0</td>\n      <td>947.0</td>\n      <td>0</td>\n      <td>-1.0</td>\n      <td>0.000</td>\n    </tr>\n    <tr>\n      <th>28</th>\n      <td>0022100990</td>\n      <td>1610612762</td>\n      <td>Utah</td>\n      <td>Jazz</td>\n      <td>1630235</td>\n      <td>Trent</td>\n      <td>Forrest</td>\n      <td>1812.0</td>\n      <td>2291.0</td>\n      <td>6</td>\n      <td>4.0</td>\n      <td>0.211</td>\n    </tr>\n  </tbody>\n</table>\n</div>"
     },
     "execution_count": 62,
     "metadata": {},
     "output_type": "execute_result"
    }
   ],
   "source": [
    "rotation"
   ],
   "metadata": {
    "collapsed": false,
    "pycharm": {
     "name": "#%%\n"
    }
   }
  },
  {
   "cell_type": "code",
   "execution_count": 102,
   "outputs": [],
   "source": [
    "test_pbp_w_player = pd.DataFrame()\n",
    "test_pbp_wo_player = pd.DataFrame()\n",
    "\n",
    "player_rotation = rotation[rotation['PERSON_ID'] == player_id]\n",
    "\n",
    "for row in player_rotation.iterrows():\n",
    "    row = row[1]\n",
    "    with_player = test_pbp[\n",
    "        test_pbp['time'].between(\n",
    "            row['IN_TIME_REAL'], row['OUT_TIME_REAL'], inclusive='both'\n",
    "        )\n",
    "    ]\n",
    "\n",
    "    test_pbp_w_player = pd.concat([test_pbp_w_player, with_player])\n",
    "\n",
    "\n",
    "test_pbp_wo_player = test_pbp[\n",
    "    ~(test_pbp['actionNumber'].isin(test_pbp_w_player['actionNumber']))\n",
    "]"
   ],
   "metadata": {
    "collapsed": false,
    "pycharm": {
     "name": "#%%\n"
    }
   }
  },
  {
   "cell_type": "code",
   "execution_count": 103,
   "outputs": [
    {
     "data": {
      "text/plain": "       GAME_ID     TEAM_ID TEAM_CITY TEAM_NAME  PERSON_ID PLAYER_FIRST  \\\n10  0022100990  1610612762      Utah      Jazz     203497         Rudy   \n11  0022100990  1610612762      Utah      Jazz     203497         Rudy   \n12  0022100990  1610612762      Utah      Jazz     203497         Rudy   \n\n   PLAYER_LAST  IN_TIME_REAL  OUT_TIME_REAL  PLAYER_PTS  PT_DIFF  USG_PCT  \n10      Gobert           0.0          288.0           0      5.0    0.000  \n11      Gobert         513.0          947.0           5      0.0    0.286  \n12      Gobert        1200.0         1812.0           4     19.0    0.143  ",
      "text/html": "<div>\n<style scoped>\n    .dataframe tbody tr th:only-of-type {\n        vertical-align: middle;\n    }\n\n    .dataframe tbody tr th {\n        vertical-align: top;\n    }\n\n    .dataframe thead th {\n        text-align: right;\n    }\n</style>\n<table border=\"1\" class=\"dataframe\">\n  <thead>\n    <tr style=\"text-align: right;\">\n      <th></th>\n      <th>GAME_ID</th>\n      <th>TEAM_ID</th>\n      <th>TEAM_CITY</th>\n      <th>TEAM_NAME</th>\n      <th>PERSON_ID</th>\n      <th>PLAYER_FIRST</th>\n      <th>PLAYER_LAST</th>\n      <th>IN_TIME_REAL</th>\n      <th>OUT_TIME_REAL</th>\n      <th>PLAYER_PTS</th>\n      <th>PT_DIFF</th>\n      <th>USG_PCT</th>\n    </tr>\n  </thead>\n  <tbody>\n    <tr>\n      <th>10</th>\n      <td>0022100990</td>\n      <td>1610612762</td>\n      <td>Utah</td>\n      <td>Jazz</td>\n      <td>203497</td>\n      <td>Rudy</td>\n      <td>Gobert</td>\n      <td>0.0</td>\n      <td>288.0</td>\n      <td>0</td>\n      <td>5.0</td>\n      <td>0.000</td>\n    </tr>\n    <tr>\n      <th>11</th>\n      <td>0022100990</td>\n      <td>1610612762</td>\n      <td>Utah</td>\n      <td>Jazz</td>\n      <td>203497</td>\n      <td>Rudy</td>\n      <td>Gobert</td>\n      <td>513.0</td>\n      <td>947.0</td>\n      <td>5</td>\n      <td>0.0</td>\n      <td>0.286</td>\n    </tr>\n    <tr>\n      <th>12</th>\n      <td>0022100990</td>\n      <td>1610612762</td>\n      <td>Utah</td>\n      <td>Jazz</td>\n      <td>203497</td>\n      <td>Rudy</td>\n      <td>Gobert</td>\n      <td>1200.0</td>\n      <td>1812.0</td>\n      <td>4</td>\n      <td>19.0</td>\n      <td>0.143</td>\n    </tr>\n  </tbody>\n</table>\n</div>"
     },
     "execution_count": 103,
     "metadata": {},
     "output_type": "execute_result"
    }
   ],
   "source": [
    "player_rotation"
   ],
   "metadata": {
    "collapsed": false,
    "pycharm": {
     "name": "#%%\n"
    }
   }
  },
  {
   "cell_type": "code",
   "execution_count": 104,
   "outputs": [
    {
     "name": "stdout",
     "output_type": "stream",
     "text": [
      "282\n"
     ]
    }
   ],
   "source": [
    "print(len(test_pbp_w_player))"
   ],
   "metadata": {
    "collapsed": false,
    "pycharm": {
     "name": "#%%\n"
    }
   }
  },
  {
   "cell_type": "code",
   "execution_count": 105,
   "outputs": [
    {
     "data": {
      "text/plain": "     actionNumber        clock              timeActual  period periodType  \\\n0               2  PT12M00.00S  2022-03-10T03:11:03.6Z       1    REGULAR   \n1               4  PT11M58.00S  2022-03-10T03:11:05.4Z       1    REGULAR   \n2               7  PT11M38.00S  2022-03-10T03:11:24.4Z       1    REGULAR   \n3               8  PT11M36.00S  2022-03-10T03:11:26.4Z       1    REGULAR   \n4               9  PT11M25.00S  2022-03-10T03:11:37.5Z       1    REGULAR   \n..            ...          ...                     ...     ...        ...   \n343           411  PT05M48.00S  2022-03-10T04:35:56.5Z       3    REGULAR   \n344           412  PT05M48.00S  2022-03-10T04:35:56.5Z       3    REGULAR   \n345           413  PT05M48.00S  2022-03-10T04:35:56.5Z       3    REGULAR   \n346           414  PT05M48.00S  2022-03-10T04:35:56.5Z       3    REGULAR   \n347           415  PT05M48.00S  2022-03-10T04:35:56.5Z       3    REGULAR   \n\n       actionType    subType qualifiers  personId          x  ...  officialId  \\\n0          period      start         []         0        NaN  ...         NaN   \n1        jumpball  recovered         []   1626220        NaN  ...         NaN   \n2             3pt  Jump Shot         []   1628378  71.698423  ...         NaN   \n3         rebound  defensive         []   1628404        NaN  ...         NaN   \n4             2pt  Jump Shot         []   1630314   8.886334  ...         NaN   \n..            ...        ...        ...       ...        ...  ...         ...   \n343  substitution        out         []   1630190        NaN  ...         NaN   \n344  substitution         in         []   1630235        NaN  ...         NaN   \n345  substitution         in         []    202355        NaN  ...         NaN   \n346  substitution         in         []   1630570        NaN  ...         NaN   \n347  substitution         in         []   1630535        NaN  ...         NaN   \n\n     foulPersonalTotal  foulTechnicalTotal  foulDrawnPlayerName  \\\n0                  NaN                 NaN                  NaN   \n1                  NaN                 NaN                  NaN   \n2                  NaN                 NaN                  NaN   \n3                  NaN                 NaN                  NaN   \n4                  NaN                 NaN                  NaN   \n..                 ...                 ...                  ...   \n343                NaN                 NaN                  NaN   \n344                NaN                 NaN                  NaN   \n345                NaN                 NaN                  NaN   \n346                NaN                 NaN                  NaN   \n347                NaN                 NaN                  NaN   \n\n    foulDrawnPersonId  blockPlayerName  blockPersonId  value     game_id  \\\n0                 NaN              NaN            NaN    NaN  0022100990   \n1                 NaN              NaN            NaN    NaN  0022100990   \n2                 NaN              NaN            NaN    NaN  0022100990   \n3                 NaN              NaN            NaN    NaN  0022100990   \n4                 NaN              NaN            NaN    NaN  0022100990   \n..                ...              ...            ...    ...         ...   \n343               NaN              NaN            NaN    NaN  0022100990   \n344               NaN              NaN            NaN    NaN  0022100990   \n345               NaN              NaN            NaN    NaN  0022100990   \n346               NaN              NaN            NaN    NaN  0022100990   \n347               NaN              NaN            NaN    NaN  0022100990   \n\n       time  \n0       0.0  \n1       2.0  \n2      22.0  \n3      24.0  \n4      35.0  \n..      ...  \n343  1812.0  \n344  1812.0  \n345  1812.0  \n346  1812.0  \n347  1812.0  \n\n[282 rows x 56 columns]",
      "text/html": "<div>\n<style scoped>\n    .dataframe tbody tr th:only-of-type {\n        vertical-align: middle;\n    }\n\n    .dataframe tbody tr th {\n        vertical-align: top;\n    }\n\n    .dataframe thead th {\n        text-align: right;\n    }\n</style>\n<table border=\"1\" class=\"dataframe\">\n  <thead>\n    <tr style=\"text-align: right;\">\n      <th></th>\n      <th>actionNumber</th>\n      <th>clock</th>\n      <th>timeActual</th>\n      <th>period</th>\n      <th>periodType</th>\n      <th>actionType</th>\n      <th>subType</th>\n      <th>qualifiers</th>\n      <th>personId</th>\n      <th>x</th>\n      <th>...</th>\n      <th>officialId</th>\n      <th>foulPersonalTotal</th>\n      <th>foulTechnicalTotal</th>\n      <th>foulDrawnPlayerName</th>\n      <th>foulDrawnPersonId</th>\n      <th>blockPlayerName</th>\n      <th>blockPersonId</th>\n      <th>value</th>\n      <th>game_id</th>\n      <th>time</th>\n    </tr>\n  </thead>\n  <tbody>\n    <tr>\n      <th>0</th>\n      <td>2</td>\n      <td>PT12M00.00S</td>\n      <td>2022-03-10T03:11:03.6Z</td>\n      <td>1</td>\n      <td>REGULAR</td>\n      <td>period</td>\n      <td>start</td>\n      <td>[]</td>\n      <td>0</td>\n      <td>NaN</td>\n      <td>...</td>\n      <td>NaN</td>\n      <td>NaN</td>\n      <td>NaN</td>\n      <td>NaN</td>\n      <td>NaN</td>\n      <td>NaN</td>\n      <td>NaN</td>\n      <td>NaN</td>\n      <td>0022100990</td>\n      <td>0.0</td>\n    </tr>\n    <tr>\n      <th>1</th>\n      <td>4</td>\n      <td>PT11M58.00S</td>\n      <td>2022-03-10T03:11:05.4Z</td>\n      <td>1</td>\n      <td>REGULAR</td>\n      <td>jumpball</td>\n      <td>recovered</td>\n      <td>[]</td>\n      <td>1626220</td>\n      <td>NaN</td>\n      <td>...</td>\n      <td>NaN</td>\n      <td>NaN</td>\n      <td>NaN</td>\n      <td>NaN</td>\n      <td>NaN</td>\n      <td>NaN</td>\n      <td>NaN</td>\n      <td>NaN</td>\n      <td>0022100990</td>\n      <td>2.0</td>\n    </tr>\n    <tr>\n      <th>2</th>\n      <td>7</td>\n      <td>PT11M38.00S</td>\n      <td>2022-03-10T03:11:24.4Z</td>\n      <td>1</td>\n      <td>REGULAR</td>\n      <td>3pt</td>\n      <td>Jump Shot</td>\n      <td>[]</td>\n      <td>1628378</td>\n      <td>71.698423</td>\n      <td>...</td>\n      <td>NaN</td>\n      <td>NaN</td>\n      <td>NaN</td>\n      <td>NaN</td>\n      <td>NaN</td>\n      <td>NaN</td>\n      <td>NaN</td>\n      <td>NaN</td>\n      <td>0022100990</td>\n      <td>22.0</td>\n    </tr>\n    <tr>\n      <th>3</th>\n      <td>8</td>\n      <td>PT11M36.00S</td>\n      <td>2022-03-10T03:11:26.4Z</td>\n      <td>1</td>\n      <td>REGULAR</td>\n      <td>rebound</td>\n      <td>defensive</td>\n      <td>[]</td>\n      <td>1628404</td>\n      <td>NaN</td>\n      <td>...</td>\n      <td>NaN</td>\n      <td>NaN</td>\n      <td>NaN</td>\n      <td>NaN</td>\n      <td>NaN</td>\n      <td>NaN</td>\n      <td>NaN</td>\n      <td>NaN</td>\n      <td>0022100990</td>\n      <td>24.0</td>\n    </tr>\n    <tr>\n      <th>4</th>\n      <td>9</td>\n      <td>PT11M25.00S</td>\n      <td>2022-03-10T03:11:37.5Z</td>\n      <td>1</td>\n      <td>REGULAR</td>\n      <td>2pt</td>\n      <td>Jump Shot</td>\n      <td>[]</td>\n      <td>1630314</td>\n      <td>8.886334</td>\n      <td>...</td>\n      <td>NaN</td>\n      <td>NaN</td>\n      <td>NaN</td>\n      <td>NaN</td>\n      <td>NaN</td>\n      <td>NaN</td>\n      <td>NaN</td>\n      <td>NaN</td>\n      <td>0022100990</td>\n      <td>35.0</td>\n    </tr>\n    <tr>\n      <th>...</th>\n      <td>...</td>\n      <td>...</td>\n      <td>...</td>\n      <td>...</td>\n      <td>...</td>\n      <td>...</td>\n      <td>...</td>\n      <td>...</td>\n      <td>...</td>\n      <td>...</td>\n      <td>...</td>\n      <td>...</td>\n      <td>...</td>\n      <td>...</td>\n      <td>...</td>\n      <td>...</td>\n      <td>...</td>\n      <td>...</td>\n      <td>...</td>\n      <td>...</td>\n      <td>...</td>\n    </tr>\n    <tr>\n      <th>343</th>\n      <td>411</td>\n      <td>PT05M48.00S</td>\n      <td>2022-03-10T04:35:56.5Z</td>\n      <td>3</td>\n      <td>REGULAR</td>\n      <td>substitution</td>\n      <td>out</td>\n      <td>[]</td>\n      <td>1630190</td>\n      <td>NaN</td>\n      <td>...</td>\n      <td>NaN</td>\n      <td>NaN</td>\n      <td>NaN</td>\n      <td>NaN</td>\n      <td>NaN</td>\n      <td>NaN</td>\n      <td>NaN</td>\n      <td>NaN</td>\n      <td>0022100990</td>\n      <td>1812.0</td>\n    </tr>\n    <tr>\n      <th>344</th>\n      <td>412</td>\n      <td>PT05M48.00S</td>\n      <td>2022-03-10T04:35:56.5Z</td>\n      <td>3</td>\n      <td>REGULAR</td>\n      <td>substitution</td>\n      <td>in</td>\n      <td>[]</td>\n      <td>1630235</td>\n      <td>NaN</td>\n      <td>...</td>\n      <td>NaN</td>\n      <td>NaN</td>\n      <td>NaN</td>\n      <td>NaN</td>\n      <td>NaN</td>\n      <td>NaN</td>\n      <td>NaN</td>\n      <td>NaN</td>\n      <td>0022100990</td>\n      <td>1812.0</td>\n    </tr>\n    <tr>\n      <th>345</th>\n      <td>413</td>\n      <td>PT05M48.00S</td>\n      <td>2022-03-10T04:35:56.5Z</td>\n      <td>3</td>\n      <td>REGULAR</td>\n      <td>substitution</td>\n      <td>in</td>\n      <td>[]</td>\n      <td>202355</td>\n      <td>NaN</td>\n      <td>...</td>\n      <td>NaN</td>\n      <td>NaN</td>\n      <td>NaN</td>\n      <td>NaN</td>\n      <td>NaN</td>\n      <td>NaN</td>\n      <td>NaN</td>\n      <td>NaN</td>\n      <td>0022100990</td>\n      <td>1812.0</td>\n    </tr>\n    <tr>\n      <th>346</th>\n      <td>414</td>\n      <td>PT05M48.00S</td>\n      <td>2022-03-10T04:35:56.5Z</td>\n      <td>3</td>\n      <td>REGULAR</td>\n      <td>substitution</td>\n      <td>in</td>\n      <td>[]</td>\n      <td>1630570</td>\n      <td>NaN</td>\n      <td>...</td>\n      <td>NaN</td>\n      <td>NaN</td>\n      <td>NaN</td>\n      <td>NaN</td>\n      <td>NaN</td>\n      <td>NaN</td>\n      <td>NaN</td>\n      <td>NaN</td>\n      <td>0022100990</td>\n      <td>1812.0</td>\n    </tr>\n    <tr>\n      <th>347</th>\n      <td>415</td>\n      <td>PT05M48.00S</td>\n      <td>2022-03-10T04:35:56.5Z</td>\n      <td>3</td>\n      <td>REGULAR</td>\n      <td>substitution</td>\n      <td>in</td>\n      <td>[]</td>\n      <td>1630535</td>\n      <td>NaN</td>\n      <td>...</td>\n      <td>NaN</td>\n      <td>NaN</td>\n      <td>NaN</td>\n      <td>NaN</td>\n      <td>NaN</td>\n      <td>NaN</td>\n      <td>NaN</td>\n      <td>NaN</td>\n      <td>0022100990</td>\n      <td>1812.0</td>\n    </tr>\n  </tbody>\n</table>\n<p>282 rows × 56 columns</p>\n</div>"
     },
     "execution_count": 105,
     "metadata": {},
     "output_type": "execute_result"
    }
   ],
   "source": [
    "test_pbp_w_player"
   ],
   "metadata": {
    "collapsed": false,
    "pycharm": {
     "name": "#%%\n"
    }
   }
  },
  {
   "cell_type": "code",
   "execution_count": 109,
   "outputs": [
    {
     "data": {
      "text/plain": "((542, 56), (282, 56), (260, 56))"
     },
     "execution_count": 109,
     "metadata": {},
     "output_type": "execute_result"
    }
   ],
   "source": [
    "test_pbp.shape, test_pbp_w_player.shape, test_pbp_wo_player.shape"
   ],
   "metadata": {
    "collapsed": false,
    "pycharm": {
     "name": "#%%\n"
    }
   }
  },
  {
   "cell_type": "code",
   "execution_count": 106,
   "outputs": [
    {
     "data": {
      "text/plain": "Empty DataFrame\nColumns: [actionNumber, clock, timeActual, period, periodType, actionType, subType, qualifiers, personId, x, y, possession, scoreHome, scoreAway, edited, orderNumber, xLegacy, yLegacy, isFieldGoal, side, description, personIdsFilter, teamId, teamTricode, descriptor, jumpBallRecoveredName, jumpBallRecoverdPersonId, playerName, playerNameI, jumpBallWonPlayerName, jumpBallWonPersonId, jumpBallLostPlayerName, jumpBallLostPersonId, shotDistance, shotResult, pointsTotal, assistPlayerNameInitial, assistPersonId, assistTotal, turnoverTotal, stealPlayerName, stealPersonId, shotActionNumber, reboundTotal, reboundDefensiveTotal, reboundOffensiveTotal, officialId, foulPersonalTotal, foulTechnicalTotal, foulDrawnPlayerName, foulDrawnPersonId, blockPlayerName, blockPersonId, value, game_id, time]\nIndex: []\n\n[0 rows x 56 columns]",
      "text/html": "<div>\n<style scoped>\n    .dataframe tbody tr th:only-of-type {\n        vertical-align: middle;\n    }\n\n    .dataframe tbody tr th {\n        vertical-align: top;\n    }\n\n    .dataframe thead th {\n        text-align: right;\n    }\n</style>\n<table border=\"1\" class=\"dataframe\">\n  <thead>\n    <tr style=\"text-align: right;\">\n      <th></th>\n      <th>actionNumber</th>\n      <th>clock</th>\n      <th>timeActual</th>\n      <th>period</th>\n      <th>periodType</th>\n      <th>actionType</th>\n      <th>subType</th>\n      <th>qualifiers</th>\n      <th>personId</th>\n      <th>x</th>\n      <th>...</th>\n      <th>officialId</th>\n      <th>foulPersonalTotal</th>\n      <th>foulTechnicalTotal</th>\n      <th>foulDrawnPlayerName</th>\n      <th>foulDrawnPersonId</th>\n      <th>blockPlayerName</th>\n      <th>blockPersonId</th>\n      <th>value</th>\n      <th>game_id</th>\n      <th>time</th>\n    </tr>\n  </thead>\n  <tbody>\n  </tbody>\n</table>\n<p>0 rows × 56 columns</p>\n</div>"
     },
     "execution_count": 106,
     "metadata": {},
     "output_type": "execute_result"
    }
   ],
   "source": [
    "test_pbp_wo_player[test_pbp_wo_player['personId'] == player_id]"
   ],
   "metadata": {
    "collapsed": false,
    "pycharm": {
     "name": "#%%\n"
    }
   }
  },
  {
   "cell_type": "code",
   "execution_count": 107,
   "outputs": [
    {
     "data": {
      "text/plain": "Empty DataFrame\nColumns: [actionNumber, clock, timeActual, period, periodType, actionType, subType, qualifiers, personId, x, y, possession, scoreHome, scoreAway, edited, orderNumber, xLegacy, yLegacy, isFieldGoal, side, description, personIdsFilter, teamId, teamTricode, descriptor, jumpBallRecoveredName, jumpBallRecoverdPersonId, playerName, playerNameI, jumpBallWonPlayerName, jumpBallWonPersonId, jumpBallLostPlayerName, jumpBallLostPersonId, shotDistance, shotResult, pointsTotal, assistPlayerNameInitial, assistPersonId, assistTotal, turnoverTotal, stealPlayerName, stealPersonId, shotActionNumber, reboundTotal, reboundDefensiveTotal, reboundOffensiveTotal, officialId, foulPersonalTotal, foulTechnicalTotal, foulDrawnPlayerName, foulDrawnPersonId, blockPlayerName, blockPersonId, value, game_id, time]\nIndex: []\n\n[0 rows x 56 columns]",
      "text/html": "<div>\n<style scoped>\n    .dataframe tbody tr th:only-of-type {\n        vertical-align: middle;\n    }\n\n    .dataframe tbody tr th {\n        vertical-align: top;\n    }\n\n    .dataframe thead th {\n        text-align: right;\n    }\n</style>\n<table border=\"1\" class=\"dataframe\">\n  <thead>\n    <tr style=\"text-align: right;\">\n      <th></th>\n      <th>actionNumber</th>\n      <th>clock</th>\n      <th>timeActual</th>\n      <th>period</th>\n      <th>periodType</th>\n      <th>actionType</th>\n      <th>subType</th>\n      <th>qualifiers</th>\n      <th>personId</th>\n      <th>x</th>\n      <th>...</th>\n      <th>officialId</th>\n      <th>foulPersonalTotal</th>\n      <th>foulTechnicalTotal</th>\n      <th>foulDrawnPlayerName</th>\n      <th>foulDrawnPersonId</th>\n      <th>blockPlayerName</th>\n      <th>blockPersonId</th>\n      <th>value</th>\n      <th>game_id</th>\n      <th>time</th>\n    </tr>\n  </thead>\n  <tbody>\n  </tbody>\n</table>\n<p>0 rows × 56 columns</p>\n</div>"
     },
     "execution_count": 107,
     "metadata": {},
     "output_type": "execute_result"
    }
   ],
   "source": [
    "test_pbp_wo_player[(test_pbp_wo_player['actionType'] == 'substitution') & (test_pbp_wo_player['subType'] ==  'out') &\n",
    "         (test_pbp_wo_player['personId'] == player_id)]"
   ],
   "metadata": {
    "collapsed": false,
    "pycharm": {
     "name": "#%%\n"
    }
   }
  },
  {
   "cell_type": "code",
   "execution_count": 86,
   "outputs": [
    {
     "data": {
      "text/plain": "     actionNumber        clock              timeActual  period periodType  \\\n61             71  PT06M59.00S  2022-03-10T03:21:14.7Z       1    REGULAR   \n62             73  PT06M47.00S  2022-03-10T03:21:29.7Z       1    REGULAR   \n63             75  PT06M41.00S  2022-03-10T03:21:49.8Z       1    REGULAR   \n64             76  PT06M20.00S  2022-03-10T03:22:10.7Z       1    REGULAR   \n65             78  PT06M12.00S  2022-03-10T03:22:22.5Z       1    REGULAR   \n..            ...          ...                     ...     ...        ...   \n537           651  PT00M19.50S  2022-03-10T05:23:26.8Z       4    REGULAR   \n538           652  PT00M16.70S  2022-03-10T05:23:34.9Z       4    REGULAR   \n539           653  PT00M14.00S  2022-03-10T05:23:37.6Z       4    REGULAR   \n540           654  PT00M00.00S  2022-03-10T05:23:52.9Z       4    REGULAR   \n541           655  PT00M00.00S  2022-03-10T05:23:55.2Z       4    REGULAR   \n\n    actionType        subType                            qualifiers  personId  \\\n61         2pt          Layup  ['pointsinthepaint', 'fromturnover']   1628378   \n62        foul       personal                                    []    202355   \n63         2pt      Jump Shot                                    []   1630314   \n64         3pt      Jump Shot                                    []    202711   \n65        foul       personal                                    []   1628378   \n..         ...            ...                                   ...       ...   \n537   stoppage  out-of-bounds                                    []         0   \n538        3pt      Jump Shot                         ['2ndchance']   1630553   \n539    rebound      defensive                                    []   1627823   \n540     period            end                                    []         0   \n541       game            end                                    []         0   \n\n             x  ...  officialId  foulPersonalTotal  foulTechnicalTotal  \\\n61   91.409330  ...         NaN                NaN                 NaN   \n62         NaN  ...   1626300.0                1.0                 0.0   \n63   17.559133  ...         NaN                NaN                 NaN   \n64   92.723390  ...         NaN                NaN                 NaN   \n65         NaN  ...   1627962.0                1.0                 0.0   \n..         ...  ...         ...                ...                 ...   \n537        NaN  ...         NaN                NaN                 NaN   \n538  88.255585  ...         NaN                NaN                 NaN   \n539        NaN  ...         NaN                NaN                 NaN   \n540        NaN  ...         NaN                NaN                 NaN   \n541        NaN  ...         NaN                NaN                 NaN   \n\n     foulDrawnPlayerName foulDrawnPersonId  blockPlayerName  blockPersonId  \\\n61                   NaN               NaN              NaN            NaN   \n62               Watford         1630570.0              NaN            NaN   \n63                   NaN               NaN              NaN            NaN   \n64                   NaN               NaN              NaN            NaN   \n65                  Hart         1628404.0              NaN            NaN   \n..                   ...               ...              ...            ...   \n537                  NaN               NaN              NaN            NaN   \n538                  NaN               NaN              NaN            NaN   \n539                  NaN               NaN              NaN            NaN   \n540                  NaN               NaN              NaN            NaN   \n541                  NaN               NaN              NaN            NaN   \n\n     value     game_id    time  \n61     NaN  0022100990   301.0  \n62     NaN  0022100990   313.0  \n63     NaN  0022100990   319.0  \n64     NaN  0022100990   340.0  \n65     NaN  0022100990   348.0  \n..     ...         ...     ...  \n537    NaN  0022100990  2860.5  \n538    NaN  0022100990  2863.3  \n539    NaN  0022100990  2866.0  \n540    NaN  0022100990  2880.0  \n541    NaN  0022100990  2880.0  \n\n[1344 rows x 56 columns]",
      "text/html": "<div>\n<style scoped>\n    .dataframe tbody tr th:only-of-type {\n        vertical-align: middle;\n    }\n\n    .dataframe tbody tr th {\n        vertical-align: top;\n    }\n\n    .dataframe thead th {\n        text-align: right;\n    }\n</style>\n<table border=\"1\" class=\"dataframe\">\n  <thead>\n    <tr style=\"text-align: right;\">\n      <th></th>\n      <th>actionNumber</th>\n      <th>clock</th>\n      <th>timeActual</th>\n      <th>period</th>\n      <th>periodType</th>\n      <th>actionType</th>\n      <th>subType</th>\n      <th>qualifiers</th>\n      <th>personId</th>\n      <th>x</th>\n      <th>...</th>\n      <th>officialId</th>\n      <th>foulPersonalTotal</th>\n      <th>foulTechnicalTotal</th>\n      <th>foulDrawnPlayerName</th>\n      <th>foulDrawnPersonId</th>\n      <th>blockPlayerName</th>\n      <th>blockPersonId</th>\n      <th>value</th>\n      <th>game_id</th>\n      <th>time</th>\n    </tr>\n  </thead>\n  <tbody>\n    <tr>\n      <th>61</th>\n      <td>71</td>\n      <td>PT06M59.00S</td>\n      <td>2022-03-10T03:21:14.7Z</td>\n      <td>1</td>\n      <td>REGULAR</td>\n      <td>2pt</td>\n      <td>Layup</td>\n      <td>['pointsinthepaint', 'fromturnover']</td>\n      <td>1628378</td>\n      <td>91.409330</td>\n      <td>...</td>\n      <td>NaN</td>\n      <td>NaN</td>\n      <td>NaN</td>\n      <td>NaN</td>\n      <td>NaN</td>\n      <td>NaN</td>\n      <td>NaN</td>\n      <td>NaN</td>\n      <td>0022100990</td>\n      <td>301.0</td>\n    </tr>\n    <tr>\n      <th>62</th>\n      <td>73</td>\n      <td>PT06M47.00S</td>\n      <td>2022-03-10T03:21:29.7Z</td>\n      <td>1</td>\n      <td>REGULAR</td>\n      <td>foul</td>\n      <td>personal</td>\n      <td>[]</td>\n      <td>202355</td>\n      <td>NaN</td>\n      <td>...</td>\n      <td>1626300.0</td>\n      <td>1.0</td>\n      <td>0.0</td>\n      <td>Watford</td>\n      <td>1630570.0</td>\n      <td>NaN</td>\n      <td>NaN</td>\n      <td>NaN</td>\n      <td>0022100990</td>\n      <td>313.0</td>\n    </tr>\n    <tr>\n      <th>63</th>\n      <td>75</td>\n      <td>PT06M41.00S</td>\n      <td>2022-03-10T03:21:49.8Z</td>\n      <td>1</td>\n      <td>REGULAR</td>\n      <td>2pt</td>\n      <td>Jump Shot</td>\n      <td>[]</td>\n      <td>1630314</td>\n      <td>17.559133</td>\n      <td>...</td>\n      <td>NaN</td>\n      <td>NaN</td>\n      <td>NaN</td>\n      <td>NaN</td>\n      <td>NaN</td>\n      <td>NaN</td>\n      <td>NaN</td>\n      <td>NaN</td>\n      <td>0022100990</td>\n      <td>319.0</td>\n    </tr>\n    <tr>\n      <th>64</th>\n      <td>76</td>\n      <td>PT06M20.00S</td>\n      <td>2022-03-10T03:22:10.7Z</td>\n      <td>1</td>\n      <td>REGULAR</td>\n      <td>3pt</td>\n      <td>Jump Shot</td>\n      <td>[]</td>\n      <td>202711</td>\n      <td>92.723390</td>\n      <td>...</td>\n      <td>NaN</td>\n      <td>NaN</td>\n      <td>NaN</td>\n      <td>NaN</td>\n      <td>NaN</td>\n      <td>NaN</td>\n      <td>NaN</td>\n      <td>NaN</td>\n      <td>0022100990</td>\n      <td>340.0</td>\n    </tr>\n    <tr>\n      <th>65</th>\n      <td>78</td>\n      <td>PT06M12.00S</td>\n      <td>2022-03-10T03:22:22.5Z</td>\n      <td>1</td>\n      <td>REGULAR</td>\n      <td>foul</td>\n      <td>personal</td>\n      <td>[]</td>\n      <td>1628378</td>\n      <td>NaN</td>\n      <td>...</td>\n      <td>1627962.0</td>\n      <td>1.0</td>\n      <td>0.0</td>\n      <td>Hart</td>\n      <td>1628404.0</td>\n      <td>NaN</td>\n      <td>NaN</td>\n      <td>NaN</td>\n      <td>0022100990</td>\n      <td>348.0</td>\n    </tr>\n    <tr>\n      <th>...</th>\n      <td>...</td>\n      <td>...</td>\n      <td>...</td>\n      <td>...</td>\n      <td>...</td>\n      <td>...</td>\n      <td>...</td>\n      <td>...</td>\n      <td>...</td>\n      <td>...</td>\n      <td>...</td>\n      <td>...</td>\n      <td>...</td>\n      <td>...</td>\n      <td>...</td>\n      <td>...</td>\n      <td>...</td>\n      <td>...</td>\n      <td>...</td>\n      <td>...</td>\n      <td>...</td>\n    </tr>\n    <tr>\n      <th>537</th>\n      <td>651</td>\n      <td>PT00M19.50S</td>\n      <td>2022-03-10T05:23:26.8Z</td>\n      <td>4</td>\n      <td>REGULAR</td>\n      <td>stoppage</td>\n      <td>out-of-bounds</td>\n      <td>[]</td>\n      <td>0</td>\n      <td>NaN</td>\n      <td>...</td>\n      <td>NaN</td>\n      <td>NaN</td>\n      <td>NaN</td>\n      <td>NaN</td>\n      <td>NaN</td>\n      <td>NaN</td>\n      <td>NaN</td>\n      <td>NaN</td>\n      <td>0022100990</td>\n      <td>2860.5</td>\n    </tr>\n    <tr>\n      <th>538</th>\n      <td>652</td>\n      <td>PT00M16.70S</td>\n      <td>2022-03-10T05:23:34.9Z</td>\n      <td>4</td>\n      <td>REGULAR</td>\n      <td>3pt</td>\n      <td>Jump Shot</td>\n      <td>['2ndchance']</td>\n      <td>1630553</td>\n      <td>88.255585</td>\n      <td>...</td>\n      <td>NaN</td>\n      <td>NaN</td>\n      <td>NaN</td>\n      <td>NaN</td>\n      <td>NaN</td>\n      <td>NaN</td>\n      <td>NaN</td>\n      <td>NaN</td>\n      <td>0022100990</td>\n      <td>2863.3</td>\n    </tr>\n    <tr>\n      <th>539</th>\n      <td>653</td>\n      <td>PT00M14.00S</td>\n      <td>2022-03-10T05:23:37.6Z</td>\n      <td>4</td>\n      <td>REGULAR</td>\n      <td>rebound</td>\n      <td>defensive</td>\n      <td>[]</td>\n      <td>1627823</td>\n      <td>NaN</td>\n      <td>...</td>\n      <td>NaN</td>\n      <td>NaN</td>\n      <td>NaN</td>\n      <td>NaN</td>\n      <td>NaN</td>\n      <td>NaN</td>\n      <td>NaN</td>\n      <td>NaN</td>\n      <td>0022100990</td>\n      <td>2866.0</td>\n    </tr>\n    <tr>\n      <th>540</th>\n      <td>654</td>\n      <td>PT00M00.00S</td>\n      <td>2022-03-10T05:23:52.9Z</td>\n      <td>4</td>\n      <td>REGULAR</td>\n      <td>period</td>\n      <td>end</td>\n      <td>[]</td>\n      <td>0</td>\n      <td>NaN</td>\n      <td>...</td>\n      <td>NaN</td>\n      <td>NaN</td>\n      <td>NaN</td>\n      <td>NaN</td>\n      <td>NaN</td>\n      <td>NaN</td>\n      <td>NaN</td>\n      <td>NaN</td>\n      <td>0022100990</td>\n      <td>2880.0</td>\n    </tr>\n    <tr>\n      <th>541</th>\n      <td>655</td>\n      <td>PT00M00.00S</td>\n      <td>2022-03-10T05:23:55.2Z</td>\n      <td>4</td>\n      <td>REGULAR</td>\n      <td>game</td>\n      <td>end</td>\n      <td>[]</td>\n      <td>0</td>\n      <td>NaN</td>\n      <td>...</td>\n      <td>NaN</td>\n      <td>NaN</td>\n      <td>NaN</td>\n      <td>NaN</td>\n      <td>NaN</td>\n      <td>NaN</td>\n      <td>NaN</td>\n      <td>NaN</td>\n      <td>0022100990</td>\n      <td>2880.0</td>\n    </tr>\n  </tbody>\n</table>\n<p>1344 rows × 56 columns</p>\n</div>"
     },
     "execution_count": 86,
     "metadata": {},
     "output_type": "execute_result"
    }
   ],
   "source": [
    "test_pbp_wo_player"
   ],
   "metadata": {
    "collapsed": false,
    "pycharm": {
     "name": "#%%\n"
    }
   }
  }
 ],
 "metadata": {
  "kernelspec": {
   "display_name": "Python 3",
   "language": "python",
   "name": "python3"
  },
  "language_info": {
   "codemirror_mode": {
    "name": "ipython",
    "version": 2
   },
   "file_extension": ".py",
   "mimetype": "text/x-python",
   "name": "python",
   "nbconvert_exporter": "python",
   "pygments_lexer": "ipython2",
   "version": "2.7.6"
  }
 },
 "nbformat": 4,
 "nbformat_minor": 0
}