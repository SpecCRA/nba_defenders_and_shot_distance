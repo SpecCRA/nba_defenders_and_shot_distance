{
 "cells": [
  {
   "cell_type": "code",
   "execution_count": 3,
   "metadata": {
    "collapsed": true
   },
   "outputs": [
    {
     "name": "stdout",
     "output_type": "stream",
     "text": [
      "packages loaded\n"
     ]
    }
   ],
   "source": [
    "import pandas as pd\n",
    "import numpy as np\n",
    "import plotly.express as px\n",
    "import sys\n",
    "\n",
    "print('packages loaded')"
   ]
  },
  {
   "cell_type": "code",
   "execution_count": 27,
   "outputs": [
    {
     "data": {
      "text/plain": "     actionNumber        clock              timeActual  period periodType  \\\n16             25  PT09M34.00S  2022-01-08T01:14:29.0Z       1    REGULAR   \n114           143  PT01M16.00S  2022-01-08T00:33:28.5Z       1    REGULAR   \n295           342  PT09M22.00S  2021-10-31T01:54:30.5Z       3    REGULAR   \n105           131  PT02M15.00S  2021-11-06T02:31:20.0Z       1    REGULAR   \n297           348  PT00M18.20S  2021-10-07T01:10:17.7Z       2    REGULAR   \n\n       actionType    subType     qualifiers  personId          x  ...  \\\n16        rebound  defensive             []   1628467        NaN  ...   \n114           2pt  Jump Shot             []    203954  13.222733  ...   \n295           3pt  Jump Shot  ['fastbreak']    201939  30.436925  ...   \n105       rebound  defensive             []   1628970        NaN  ...   \n297  substitution        out             []   1630557        NaN  ...   \n\n     foulPersonalTotal  foulTechnicalTotal  foulDrawnPlayerName  \\\n16                 NaN                 NaN                  NaN   \n114                NaN                 NaN                  NaN   \n295                NaN                 NaN                  NaN   \n105                NaN                 NaN                  NaN   \n297                NaN                 NaN                  NaN   \n\n     foulDrawnPersonId turnoverTotal  stealPlayerName  stealPersonId  \\\n16                 NaN           NaN              NaN            NaN   \n114                NaN           NaN              NaN            NaN   \n295                NaN           NaN              NaN            NaN   \n105                NaN           NaN              NaN            NaN   \n297                NaN           NaN              NaN            NaN   \n\n     blockPlayerName  blockPersonId value  \n16               NaN            NaN   NaN  \n114              NaN            NaN   NaN  \n295              NaN            NaN   NaN  \n105              NaN            NaN   NaN  \n297              NaN            NaN   NaN  \n\n[5 rows x 54 columns]",
      "text/html": "<div>\n<style scoped>\n    .dataframe tbody tr th:only-of-type {\n        vertical-align: middle;\n    }\n\n    .dataframe tbody tr th {\n        vertical-align: top;\n    }\n\n    .dataframe thead th {\n        text-align: right;\n    }\n</style>\n<table border=\"1\" class=\"dataframe\">\n  <thead>\n    <tr style=\"text-align: right;\">\n      <th></th>\n      <th>actionNumber</th>\n      <th>clock</th>\n      <th>timeActual</th>\n      <th>period</th>\n      <th>periodType</th>\n      <th>actionType</th>\n      <th>subType</th>\n      <th>qualifiers</th>\n      <th>personId</th>\n      <th>x</th>\n      <th>...</th>\n      <th>foulPersonalTotal</th>\n      <th>foulTechnicalTotal</th>\n      <th>foulDrawnPlayerName</th>\n      <th>foulDrawnPersonId</th>\n      <th>turnoverTotal</th>\n      <th>stealPlayerName</th>\n      <th>stealPersonId</th>\n      <th>blockPlayerName</th>\n      <th>blockPersonId</th>\n      <th>value</th>\n    </tr>\n  </thead>\n  <tbody>\n    <tr>\n      <th>16</th>\n      <td>25</td>\n      <td>PT09M34.00S</td>\n      <td>2022-01-08T01:14:29.0Z</td>\n      <td>1</td>\n      <td>REGULAR</td>\n      <td>rebound</td>\n      <td>defensive</td>\n      <td>[]</td>\n      <td>1628467</td>\n      <td>NaN</td>\n      <td>...</td>\n      <td>NaN</td>\n      <td>NaN</td>\n      <td>NaN</td>\n      <td>NaN</td>\n      <td>NaN</td>\n      <td>NaN</td>\n      <td>NaN</td>\n      <td>NaN</td>\n      <td>NaN</td>\n      <td>NaN</td>\n    </tr>\n    <tr>\n      <th>114</th>\n      <td>143</td>\n      <td>PT01M16.00S</td>\n      <td>2022-01-08T00:33:28.5Z</td>\n      <td>1</td>\n      <td>REGULAR</td>\n      <td>2pt</td>\n      <td>Jump Shot</td>\n      <td>[]</td>\n      <td>203954</td>\n      <td>13.222733</td>\n      <td>...</td>\n      <td>NaN</td>\n      <td>NaN</td>\n      <td>NaN</td>\n      <td>NaN</td>\n      <td>NaN</td>\n      <td>NaN</td>\n      <td>NaN</td>\n      <td>NaN</td>\n      <td>NaN</td>\n      <td>NaN</td>\n    </tr>\n    <tr>\n      <th>295</th>\n      <td>342</td>\n      <td>PT09M22.00S</td>\n      <td>2021-10-31T01:54:30.5Z</td>\n      <td>3</td>\n      <td>REGULAR</td>\n      <td>3pt</td>\n      <td>Jump Shot</td>\n      <td>['fastbreak']</td>\n      <td>201939</td>\n      <td>30.436925</td>\n      <td>...</td>\n      <td>NaN</td>\n      <td>NaN</td>\n      <td>NaN</td>\n      <td>NaN</td>\n      <td>NaN</td>\n      <td>NaN</td>\n      <td>NaN</td>\n      <td>NaN</td>\n      <td>NaN</td>\n      <td>NaN</td>\n    </tr>\n    <tr>\n      <th>105</th>\n      <td>131</td>\n      <td>PT02M15.00S</td>\n      <td>2021-11-06T02:31:20.0Z</td>\n      <td>1</td>\n      <td>REGULAR</td>\n      <td>rebound</td>\n      <td>defensive</td>\n      <td>[]</td>\n      <td>1628970</td>\n      <td>NaN</td>\n      <td>...</td>\n      <td>NaN</td>\n      <td>NaN</td>\n      <td>NaN</td>\n      <td>NaN</td>\n      <td>NaN</td>\n      <td>NaN</td>\n      <td>NaN</td>\n      <td>NaN</td>\n      <td>NaN</td>\n      <td>NaN</td>\n    </tr>\n    <tr>\n      <th>297</th>\n      <td>348</td>\n      <td>PT00M18.20S</td>\n      <td>2021-10-07T01:10:17.7Z</td>\n      <td>2</td>\n      <td>REGULAR</td>\n      <td>substitution</td>\n      <td>out</td>\n      <td>[]</td>\n      <td>1630557</td>\n      <td>NaN</td>\n      <td>...</td>\n      <td>NaN</td>\n      <td>NaN</td>\n      <td>NaN</td>\n      <td>NaN</td>\n      <td>NaN</td>\n      <td>NaN</td>\n      <td>NaN</td>\n      <td>NaN</td>\n      <td>NaN</td>\n      <td>NaN</td>\n    </tr>\n  </tbody>\n</table>\n<p>5 rows × 54 columns</p>\n</div>"
     },
     "execution_count": 27,
     "metadata": {},
     "output_type": "execute_result"
    }
   ],
   "source": [
    "filepath = '../data/2021_22_pbp_data.csv'\n",
    "pbp = pd.read_csv(filepath, index_col=0)\n",
    "pbp.sample(5)"
   ],
   "metadata": {
    "collapsed": false,
    "pycharm": {
     "name": "#%%\n"
    }
   }
  },
  {
   "cell_type": "code",
   "execution_count": 28,
   "outputs": [
    {
     "data": {
      "text/plain": "Index(['actionNumber', 'clock', 'timeActual', 'period', 'periodType',\n       'actionType', 'subType', 'qualifiers', 'personId', 'x', 'y',\n       'possession', 'scoreHome', 'scoreAway', 'edited', 'orderNumber',\n       'xLegacy', 'yLegacy', 'isFieldGoal', 'side', 'description',\n       'personIdsFilter', 'teamId', 'teamTricode', 'descriptor',\n       'jumpBallRecoveredName', 'jumpBallRecoverdPersonId', 'playerName',\n       'playerNameI', 'jumpBallWonPlayerName', 'jumpBallWonPersonId',\n       'jumpBallLostPlayerName', 'jumpBallLostPersonId', 'shotDistance',\n       'shotResult', 'shotActionNumber', 'reboundTotal',\n       'reboundDefensiveTotal', 'reboundOffensiveTotal', 'pointsTotal',\n       'assistPlayerNameInitial', 'assistPersonId', 'assistTotal',\n       'officialId', 'foulPersonalTotal', 'foulTechnicalTotal',\n       'foulDrawnPlayerName', 'foulDrawnPersonId', 'turnoverTotal',\n       'stealPlayerName', 'stealPersonId', 'blockPlayerName', 'blockPersonId',\n       'value'],\n      dtype='object')"
     },
     "execution_count": 28,
     "metadata": {},
     "output_type": "execute_result"
    }
   ],
   "source": [
    "pbp.columns"
   ],
   "metadata": {
    "collapsed": false,
    "pycharm": {
     "name": "#%%\n"
    }
   }
  },
  {
   "cell_type": "code",
   "execution_count": 32,
   "outputs": [
    {
     "data": {
      "text/plain": "525    putback\n486        NaN\n273     pullup\n70      charge\n488        NaN\nName: descriptor, dtype: object"
     },
     "execution_count": 32,
     "metadata": {},
     "output_type": "execute_result"
    }
   ],
   "source": [
    "pbp[pbp['subType'].notnull()]['descriptor'].sample(5)"
   ],
   "metadata": {
    "collapsed": false,
    "pycharm": {
     "name": "#%%\n"
    }
   }
  },
  {
   "cell_type": "code",
   "execution_count": 33,
   "outputs": [
    {
     "data": {
      "text/plain": "6      offensive foul\n330         defensive\n277         Jump Shot\n544               out\n400               out\nName: subType, dtype: object"
     },
     "execution_count": 33,
     "metadata": {},
     "output_type": "execute_result"
    }
   ],
   "source": [
    "pbp['subType'].sample(5)"
   ],
   "metadata": {
    "collapsed": false,
    "pycharm": {
     "name": "#%%\n"
    }
   }
  },
  {
   "cell_type": "code",
   "execution_count": 22,
   "outputs": [],
   "source": [
    "block_cols = [\n",
    "    'clock', 'timeActual', 'period', 'actionType', 'subType', 'x', 'y', 'possession',\n",
    "    'scoreHome', 'scoreAway', 'xLegacy', 'yLegacy', 'isFieldGoal', 'shotResult', 'side',\n",
    "    'teamTricode', 'playerNameI', 'playerName', 'shotDistance', 'blockPlayerName'\n",
    "]"
   ],
   "metadata": {
    "collapsed": false,
    "pycharm": {
     "name": "#%%\n"
    }
   }
  },
  {
   "cell_type": "code",
   "execution_count": 23,
   "outputs": [
    {
     "data": {
      "text/plain": "21     TOR\n299    SAS\n573    MIA\n227    SAS\n127    ATL\nName: teamTricode, dtype: object"
     },
     "execution_count": 23,
     "metadata": {},
     "output_type": "execute_result"
    }
   ],
   "source": [],
   "metadata": {
    "collapsed": false,
    "pycharm": {
     "name": "#%%\n"
    }
   }
  },
  {
   "cell_type": "code",
   "execution_count": 24,
   "outputs": [
    {
     "data": {
      "text/plain": "clock               object\ntimeActual          object\nperiod               int64\nactionType          object\nsubType             object\nx                  float64\ny                  float64\npossession           int64\nscoreHome            int64\nscoreAway            int64\nxLegacy            float64\nyLegacy            float64\nisFieldGoal          int64\nshotResult          object\nside                object\nteamTricode         object\nplayerNameI         object\nplayerName          object\nshotDistance       float64\nblockPlayerName     object\ndtype: object"
     },
     "execution_count": 24,
     "metadata": {},
     "output_type": "execute_result"
    }
   ],
   "source": [
    "pbp = pbp[block_cols]\n",
    "\n",
    "pbp.dtypes"
   ],
   "metadata": {
    "collapsed": false,
    "pycharm": {
     "name": "#%%\n"
    }
   }
  },
  {
   "cell_type": "code",
   "execution_count": 25,
   "outputs": [
    {
     "data": {
      "text/plain": "           clock              timeActual  period    actionType    subType   x  \\\n74   PT05M58.00S  2021-12-23T00:55:27.2Z       1       rebound  defensive NaN   \n339  PT08M13.00S  2021-12-02T01:33:13.2Z       3       rebound  defensive NaN   \n214  PT05M57.00S  2022-02-27T01:25:44.6Z       2  substitution         in NaN   \n464  PT10M02.00S  2022-01-06T02:04:05.0Z       4  substitution         in NaN   \n510  PT01M28.00S  2022-01-27T02:17:50.1Z       4       rebound  defensive NaN   \n\n      y  possession  scoreHome  scoreAway  xLegacy  yLegacy  isFieldGoal  \\\n74  NaN  1610612739         14         10      NaN      NaN            0   \n339 NaN  1610612750         65         66      NaN      NaN            0   \n214 NaN  1610612737         44         45      NaN      NaN            0   \n464 NaN  1610612753         91         95      NaN      NaN            0   \n510 NaN  1610612746         89        106      NaN      NaN            0   \n\n    shotResult side teamTricode    playerNameI  playerName  shotDistance  \\\n74         NaN  NaN         CLE   L. Markkanen   Markkanen           NaN   \n339        NaN  NaN         MIN       K. Towns       Towns           NaN   \n214        NaN  NaN         ATL      C. Capela      Capela           NaN   \n464        NaN  NaN         ORL      G. Harris      Harris           NaN   \n510        NaN  NaN         LAC  B. Boston Jr.  Boston Jr.           NaN   \n\n    blockPlayerName  \n74              NaN  \n339             NaN  \n214             NaN  \n464             NaN  \n510             NaN  ",
      "text/html": "<div>\n<style scoped>\n    .dataframe tbody tr th:only-of-type {\n        vertical-align: middle;\n    }\n\n    .dataframe tbody tr th {\n        vertical-align: top;\n    }\n\n    .dataframe thead th {\n        text-align: right;\n    }\n</style>\n<table border=\"1\" class=\"dataframe\">\n  <thead>\n    <tr style=\"text-align: right;\">\n      <th></th>\n      <th>clock</th>\n      <th>timeActual</th>\n      <th>period</th>\n      <th>actionType</th>\n      <th>subType</th>\n      <th>x</th>\n      <th>y</th>\n      <th>possession</th>\n      <th>scoreHome</th>\n      <th>scoreAway</th>\n      <th>xLegacy</th>\n      <th>yLegacy</th>\n      <th>isFieldGoal</th>\n      <th>shotResult</th>\n      <th>side</th>\n      <th>teamTricode</th>\n      <th>playerNameI</th>\n      <th>playerName</th>\n      <th>shotDistance</th>\n      <th>blockPlayerName</th>\n    </tr>\n  </thead>\n  <tbody>\n    <tr>\n      <th>74</th>\n      <td>PT05M58.00S</td>\n      <td>2021-12-23T00:55:27.2Z</td>\n      <td>1</td>\n      <td>rebound</td>\n      <td>defensive</td>\n      <td>NaN</td>\n      <td>NaN</td>\n      <td>1610612739</td>\n      <td>14</td>\n      <td>10</td>\n      <td>NaN</td>\n      <td>NaN</td>\n      <td>0</td>\n      <td>NaN</td>\n      <td>NaN</td>\n      <td>CLE</td>\n      <td>L. Markkanen</td>\n      <td>Markkanen</td>\n      <td>NaN</td>\n      <td>NaN</td>\n    </tr>\n    <tr>\n      <th>339</th>\n      <td>PT08M13.00S</td>\n      <td>2021-12-02T01:33:13.2Z</td>\n      <td>3</td>\n      <td>rebound</td>\n      <td>defensive</td>\n      <td>NaN</td>\n      <td>NaN</td>\n      <td>1610612750</td>\n      <td>65</td>\n      <td>66</td>\n      <td>NaN</td>\n      <td>NaN</td>\n      <td>0</td>\n      <td>NaN</td>\n      <td>NaN</td>\n      <td>MIN</td>\n      <td>K. Towns</td>\n      <td>Towns</td>\n      <td>NaN</td>\n      <td>NaN</td>\n    </tr>\n    <tr>\n      <th>214</th>\n      <td>PT05M57.00S</td>\n      <td>2022-02-27T01:25:44.6Z</td>\n      <td>2</td>\n      <td>substitution</td>\n      <td>in</td>\n      <td>NaN</td>\n      <td>NaN</td>\n      <td>1610612737</td>\n      <td>44</td>\n      <td>45</td>\n      <td>NaN</td>\n      <td>NaN</td>\n      <td>0</td>\n      <td>NaN</td>\n      <td>NaN</td>\n      <td>ATL</td>\n      <td>C. Capela</td>\n      <td>Capela</td>\n      <td>NaN</td>\n      <td>NaN</td>\n    </tr>\n    <tr>\n      <th>464</th>\n      <td>PT10M02.00S</td>\n      <td>2022-01-06T02:04:05.0Z</td>\n      <td>4</td>\n      <td>substitution</td>\n      <td>in</td>\n      <td>NaN</td>\n      <td>NaN</td>\n      <td>1610612753</td>\n      <td>91</td>\n      <td>95</td>\n      <td>NaN</td>\n      <td>NaN</td>\n      <td>0</td>\n      <td>NaN</td>\n      <td>NaN</td>\n      <td>ORL</td>\n      <td>G. Harris</td>\n      <td>Harris</td>\n      <td>NaN</td>\n      <td>NaN</td>\n    </tr>\n    <tr>\n      <th>510</th>\n      <td>PT01M28.00S</td>\n      <td>2022-01-27T02:17:50.1Z</td>\n      <td>4</td>\n      <td>rebound</td>\n      <td>defensive</td>\n      <td>NaN</td>\n      <td>NaN</td>\n      <td>1610612746</td>\n      <td>89</td>\n      <td>106</td>\n      <td>NaN</td>\n      <td>NaN</td>\n      <td>0</td>\n      <td>NaN</td>\n      <td>NaN</td>\n      <td>LAC</td>\n      <td>B. Boston Jr.</td>\n      <td>Boston Jr.</td>\n      <td>NaN</td>\n      <td>NaN</td>\n    </tr>\n  </tbody>\n</table>\n</div>"
     },
     "execution_count": 25,
     "metadata": {},
     "output_type": "execute_result"
    }
   ],
   "source": [
    "pbp.sample(5)"
   ],
   "metadata": {
    "collapsed": false,
    "pycharm": {
     "name": "#%%\n"
    }
   }
  },
  {
   "cell_type": "code",
   "execution_count": 26,
   "outputs": [
    {
     "data": {
      "text/plain": "           clock              timeActual  period actionType    subType  \\\n26   PT08M31.00S  2021-12-26T03:48:07.4Z       1        2pt       DUNK   \n8    PT11M13.00S  2021-11-19T02:10:42.1Z       1        2pt      Layup   \n24   PT08M50.00S  2021-11-25T01:13:41.1Z       1        2pt      Layup   \n236  PT04M41.00S  2021-11-25T01:57:54.2Z       2        2pt      Layup   \n275  PT09M35.00S  2022-02-17T04:32:17.7Z       3        2pt  Jump Shot   \n\n             x          y  possession  scoreHome  scoreAway  xLegacy  yLegacy  \\\n26   10.331800  49.019608  1610612742          7         10      5.0     45.0   \n8     8.886334  54.901961  1610612761          0          0    -25.0     31.0   \n24   91.015112  47.794118  1610612760          2         10    -11.0     32.0   \n236  93.380420  49.264706  1610612760         37         38     -4.0     10.0   \n275  90.456636  45.343137  1610612747         49         55    -23.0     37.0   \n\n     isFieldGoal shotResult   side teamTricode   playerNameI playerName  \\\n26             1     Missed   left         DAL  K. Porzingis  Porzingis   \n8              1     Missed   left         TOR     P. Siakam     Siakam   \n24             1     Missed  right         OKC     J. Giddey     Giddey   \n236            1     Missed  right         OKC     D. Bazley     Bazley   \n275            1     Missed  right         LAL    S. Johnson    Johnson   \n\n     shotDistance blockPlayerName  \n26           4.49          Gobert  \n8            3.95          Gobert  \n24           3.38          Gobert  \n236          1.04          Gobert  \n275          4.39          Gobert  ",
      "text/html": "<div>\n<style scoped>\n    .dataframe tbody tr th:only-of-type {\n        vertical-align: middle;\n    }\n\n    .dataframe tbody tr th {\n        vertical-align: top;\n    }\n\n    .dataframe thead th {\n        text-align: right;\n    }\n</style>\n<table border=\"1\" class=\"dataframe\">\n  <thead>\n    <tr style=\"text-align: right;\">\n      <th></th>\n      <th>clock</th>\n      <th>timeActual</th>\n      <th>period</th>\n      <th>actionType</th>\n      <th>subType</th>\n      <th>x</th>\n      <th>y</th>\n      <th>possession</th>\n      <th>scoreHome</th>\n      <th>scoreAway</th>\n      <th>xLegacy</th>\n      <th>yLegacy</th>\n      <th>isFieldGoal</th>\n      <th>shotResult</th>\n      <th>side</th>\n      <th>teamTricode</th>\n      <th>playerNameI</th>\n      <th>playerName</th>\n      <th>shotDistance</th>\n      <th>blockPlayerName</th>\n    </tr>\n  </thead>\n  <tbody>\n    <tr>\n      <th>26</th>\n      <td>PT08M31.00S</td>\n      <td>2021-12-26T03:48:07.4Z</td>\n      <td>1</td>\n      <td>2pt</td>\n      <td>DUNK</td>\n      <td>10.331800</td>\n      <td>49.019608</td>\n      <td>1610612742</td>\n      <td>7</td>\n      <td>10</td>\n      <td>5.0</td>\n      <td>45.0</td>\n      <td>1</td>\n      <td>Missed</td>\n      <td>left</td>\n      <td>DAL</td>\n      <td>K. Porzingis</td>\n      <td>Porzingis</td>\n      <td>4.49</td>\n      <td>Gobert</td>\n    </tr>\n    <tr>\n      <th>8</th>\n      <td>PT11M13.00S</td>\n      <td>2021-11-19T02:10:42.1Z</td>\n      <td>1</td>\n      <td>2pt</td>\n      <td>Layup</td>\n      <td>8.886334</td>\n      <td>54.901961</td>\n      <td>1610612761</td>\n      <td>0</td>\n      <td>0</td>\n      <td>-25.0</td>\n      <td>31.0</td>\n      <td>1</td>\n      <td>Missed</td>\n      <td>left</td>\n      <td>TOR</td>\n      <td>P. Siakam</td>\n      <td>Siakam</td>\n      <td>3.95</td>\n      <td>Gobert</td>\n    </tr>\n    <tr>\n      <th>24</th>\n      <td>PT08M50.00S</td>\n      <td>2021-11-25T01:13:41.1Z</td>\n      <td>1</td>\n      <td>2pt</td>\n      <td>Layup</td>\n      <td>91.015112</td>\n      <td>47.794118</td>\n      <td>1610612760</td>\n      <td>2</td>\n      <td>10</td>\n      <td>-11.0</td>\n      <td>32.0</td>\n      <td>1</td>\n      <td>Missed</td>\n      <td>right</td>\n      <td>OKC</td>\n      <td>J. Giddey</td>\n      <td>Giddey</td>\n      <td>3.38</td>\n      <td>Gobert</td>\n    </tr>\n    <tr>\n      <th>236</th>\n      <td>PT04M41.00S</td>\n      <td>2021-11-25T01:57:54.2Z</td>\n      <td>2</td>\n      <td>2pt</td>\n      <td>Layup</td>\n      <td>93.380420</td>\n      <td>49.264706</td>\n      <td>1610612760</td>\n      <td>37</td>\n      <td>38</td>\n      <td>-4.0</td>\n      <td>10.0</td>\n      <td>1</td>\n      <td>Missed</td>\n      <td>right</td>\n      <td>OKC</td>\n      <td>D. Bazley</td>\n      <td>Bazley</td>\n      <td>1.04</td>\n      <td>Gobert</td>\n    </tr>\n    <tr>\n      <th>275</th>\n      <td>PT09M35.00S</td>\n      <td>2022-02-17T04:32:17.7Z</td>\n      <td>3</td>\n      <td>2pt</td>\n      <td>Jump Shot</td>\n      <td>90.456636</td>\n      <td>45.343137</td>\n      <td>1610612747</td>\n      <td>49</td>\n      <td>55</td>\n      <td>-23.0</td>\n      <td>37.0</td>\n      <td>1</td>\n      <td>Missed</td>\n      <td>right</td>\n      <td>LAL</td>\n      <td>S. Johnson</td>\n      <td>Johnson</td>\n      <td>4.39</td>\n      <td>Gobert</td>\n    </tr>\n  </tbody>\n</table>\n</div>"
     },
     "execution_count": 26,
     "metadata": {},
     "output_type": "execute_result"
    }
   ],
   "source": [
    "gobert_blocks = pbp[pbp['blockPlayerName'] == 'Gobert']\n",
    "gobert_blocks.sample(5)"
   ],
   "metadata": {
    "collapsed": false,
    "pycharm": {
     "name": "#%%\n"
    }
   }
  },
  {
   "cell_type": "code",
   "execution_count": null,
   "outputs": [],
   "source": [
    "# shot distance when player is in and out of the game\n",
    "# use all minutes\n",
    "# keep replacements in mind when writing"
   ],
   "metadata": {
    "collapsed": false,
    "pycharm": {
     "name": "#%%\n"
    }
   }
  },
  {
   "cell_type": "code",
   "execution_count": 35,
   "outputs": [
    {
     "data": {
      "text/plain": "[{'id': 203497,\n  'full_name': 'Rudy Gobert',\n  'first_name': 'Rudy',\n  'last_name': 'Gobert',\n  'is_active': True}]"
     },
     "execution_count": 35,
     "metadata": {},
     "output_type": "execute_result"
    }
   ],
   "source": [
    "from nba_api.stats.static import players\n",
    "\n",
    "players.find_players_by_full_name('rudy ')"
   ],
   "metadata": {
    "collapsed": false,
    "pycharm": {
     "name": "#%%\n"
    }
   }
  }
 ],
 "metadata": {
  "kernelspec": {
   "display_name": "Python 3",
   "language": "python",
   "name": "python3"
  },
  "language_info": {
   "codemirror_mode": {
    "name": "ipython",
    "version": 2
   },
   "file_extension": ".py",
   "mimetype": "text/x-python",
   "name": "python",
   "nbconvert_exporter": "python",
   "pygments_lexer": "ipython2",
   "version": "2.7.6"
  }
 },
 "nbformat": 4,
 "nbformat_minor": 0
}