{
 "cells": [
  {
   "cell_type": "code",
   "execution_count": 40,
   "metadata": {
    "collapsed": true
   },
   "outputs": [],
   "source": [
    "import pandas as pd\n",
    "import numpy as np\n",
    "import datetime\n",
    "from nba_api.stats.endpoints import PlayByPlayV2, TeamGameLogs, ShotChartDetail,\\\n",
    "                                    PlayerGameLogs, GameRotation\n",
    "from nba_api.stats.static import players\n",
    "\n",
    "curr_season = '2021-22'\n",
    "curr_date = ''"
   ]
  },
  {
   "cell_type": "code",
   "execution_count": 6,
   "outputs": [],
   "source": [
    "# gets current season's game IDs\n",
    "gamelogs = TeamGameLogs(\n",
    "    season_nullable=curr_season\n",
    ").get_data_frames()[0]"
   ],
   "metadata": {
    "collapsed": false,
    "pycharm": {
     "name": "#%%\n"
    }
   }
  },
  {
   "cell_type": "code",
   "execution_count": 10,
   "outputs": [
    {
     "data": {
      "text/plain": "     SEASON_YEAR     TEAM_ID TEAM_ABBREVIATION              TEAM_NAME  \\\n0        2021-22  1610612743               DEN         Denver Nuggets   \n1        2021-22  1610612758               SAC       Sacramento Kings   \n2        2021-22  1610612759               SAS      San Antonio Spurs   \n3        2021-22  1610612741               CHI          Chicago Bulls   \n4        2021-22  1610612744               GSW  Golden State Warriors   \n...          ...         ...               ...                    ...   \n1941     2021-22  1610612754               IND         Indiana Pacers   \n1942     2021-22  1610612744               GSW  Golden State Warriors   \n1943     2021-22  1610612747               LAL     Los Angeles Lakers   \n1944     2021-22  1610612749               MIL        Milwaukee Bucks   \n1945     2021-22  1610612751               BKN          Brooklyn Nets   \n\n         GAME_ID            GAME_DATE      MATCHUP WL   MIN  FGM  ...  \\\n0     0022100528  2022-03-07T00:00:00  DEN vs. GSW  W  48.0   46  ...   \n1     0022100974  2022-03-07T00:00:00  SAC vs. NYK  L  48.0   39  ...   \n2     0022100973  2022-03-07T00:00:00  SAS vs. LAL  W  48.0   46  ...   \n3     0022100969  2022-03-07T00:00:00    CHI @ PHI  L  48.0   39  ...   \n4     0022100528  2022-03-07T00:00:00    GSW @ DEN  L  48.0   45  ...   \n...          ...                  ...          ... ..   ...  ...  ...   \n1941  0022100003  2021-10-20T00:00:00    IND @ CHA  L  48.0   42  ...   \n1942  0022100002  2021-10-19T00:00:00    GSW @ LAL  W  48.0   41  ...   \n1943  0022100002  2021-10-19T00:00:00  LAL vs. GSW  L  48.0   45  ...   \n1944  0022100001  2021-10-19T00:00:00  MIL vs. BKN  W  48.0   48  ...   \n1945  0022100001  2021-10-19T00:00:00    BKN @ MIL  L  48.0   37  ...   \n\n      REB_RANK  AST_RANK  TOV_RANK  STL_RANK  BLK_RANK  BLKA_RANK  PF_RANK  \\\n0         1318         3       127       667       686          1     1728   \n1         1425      1071       532      1714      1637       1262      303   \n2          628       380      1614      1225       257        311      586   \n3          537      1227       724      1507      1003        945     1620   \n4         1318       288       947      1507      1917        945     1927   \n...        ...       ...       ...       ...       ...        ...      ...   \n1941       292       288      1481      1906        33        945     1620   \n1942       360       214      1481       471      1637        623      586   \n1943       854      1378      1614       947      1003        128     1728   \n1944       137       757        66       667        69       1812      778   \n1945       967      1631       724      1844        69       1812      443   \n\n      PFD_RANK  PTS_RANK  PLUS_MINUS_RANK  \n0           12        93              615  \n1            3       608             1689  \n2           85       504              615  \n3          964      1155             1641  \n4          136       218             1286  \n...        ...       ...              ...  \n1941       600       299              974  \n1942       136       329              615  \n1943      1170       671             1286  \n1944      1362       150              115  \n1945       964      1270             1821  \n\n[1946 rows x 56 columns]",
      "text/html": "<div>\n<style scoped>\n    .dataframe tbody tr th:only-of-type {\n        vertical-align: middle;\n    }\n\n    .dataframe tbody tr th {\n        vertical-align: top;\n    }\n\n    .dataframe thead th {\n        text-align: right;\n    }\n</style>\n<table border=\"1\" class=\"dataframe\">\n  <thead>\n    <tr style=\"text-align: right;\">\n      <th></th>\n      <th>SEASON_YEAR</th>\n      <th>TEAM_ID</th>\n      <th>TEAM_ABBREVIATION</th>\n      <th>TEAM_NAME</th>\n      <th>GAME_ID</th>\n      <th>GAME_DATE</th>\n      <th>MATCHUP</th>\n      <th>WL</th>\n      <th>MIN</th>\n      <th>FGM</th>\n      <th>...</th>\n      <th>REB_RANK</th>\n      <th>AST_RANK</th>\n      <th>TOV_RANK</th>\n      <th>STL_RANK</th>\n      <th>BLK_RANK</th>\n      <th>BLKA_RANK</th>\n      <th>PF_RANK</th>\n      <th>PFD_RANK</th>\n      <th>PTS_RANK</th>\n      <th>PLUS_MINUS_RANK</th>\n    </tr>\n  </thead>\n  <tbody>\n    <tr>\n      <th>0</th>\n      <td>2021-22</td>\n      <td>1610612743</td>\n      <td>DEN</td>\n      <td>Denver Nuggets</td>\n      <td>0022100528</td>\n      <td>2022-03-07T00:00:00</td>\n      <td>DEN vs. GSW</td>\n      <td>W</td>\n      <td>48.0</td>\n      <td>46</td>\n      <td>...</td>\n      <td>1318</td>\n      <td>3</td>\n      <td>127</td>\n      <td>667</td>\n      <td>686</td>\n      <td>1</td>\n      <td>1728</td>\n      <td>12</td>\n      <td>93</td>\n      <td>615</td>\n    </tr>\n    <tr>\n      <th>1</th>\n      <td>2021-22</td>\n      <td>1610612758</td>\n      <td>SAC</td>\n      <td>Sacramento Kings</td>\n      <td>0022100974</td>\n      <td>2022-03-07T00:00:00</td>\n      <td>SAC vs. NYK</td>\n      <td>L</td>\n      <td>48.0</td>\n      <td>39</td>\n      <td>...</td>\n      <td>1425</td>\n      <td>1071</td>\n      <td>532</td>\n      <td>1714</td>\n      <td>1637</td>\n      <td>1262</td>\n      <td>303</td>\n      <td>3</td>\n      <td>608</td>\n      <td>1689</td>\n    </tr>\n    <tr>\n      <th>2</th>\n      <td>2021-22</td>\n      <td>1610612759</td>\n      <td>SAS</td>\n      <td>San Antonio Spurs</td>\n      <td>0022100973</td>\n      <td>2022-03-07T00:00:00</td>\n      <td>SAS vs. LAL</td>\n      <td>W</td>\n      <td>48.0</td>\n      <td>46</td>\n      <td>...</td>\n      <td>628</td>\n      <td>380</td>\n      <td>1614</td>\n      <td>1225</td>\n      <td>257</td>\n      <td>311</td>\n      <td>586</td>\n      <td>85</td>\n      <td>504</td>\n      <td>615</td>\n    </tr>\n    <tr>\n      <th>3</th>\n      <td>2021-22</td>\n      <td>1610612741</td>\n      <td>CHI</td>\n      <td>Chicago Bulls</td>\n      <td>0022100969</td>\n      <td>2022-03-07T00:00:00</td>\n      <td>CHI @ PHI</td>\n      <td>L</td>\n      <td>48.0</td>\n      <td>39</td>\n      <td>...</td>\n      <td>537</td>\n      <td>1227</td>\n      <td>724</td>\n      <td>1507</td>\n      <td>1003</td>\n      <td>945</td>\n      <td>1620</td>\n      <td>964</td>\n      <td>1155</td>\n      <td>1641</td>\n    </tr>\n    <tr>\n      <th>4</th>\n      <td>2021-22</td>\n      <td>1610612744</td>\n      <td>GSW</td>\n      <td>Golden State Warriors</td>\n      <td>0022100528</td>\n      <td>2022-03-07T00:00:00</td>\n      <td>GSW @ DEN</td>\n      <td>L</td>\n      <td>48.0</td>\n      <td>45</td>\n      <td>...</td>\n      <td>1318</td>\n      <td>288</td>\n      <td>947</td>\n      <td>1507</td>\n      <td>1917</td>\n      <td>945</td>\n      <td>1927</td>\n      <td>136</td>\n      <td>218</td>\n      <td>1286</td>\n    </tr>\n    <tr>\n      <th>...</th>\n      <td>...</td>\n      <td>...</td>\n      <td>...</td>\n      <td>...</td>\n      <td>...</td>\n      <td>...</td>\n      <td>...</td>\n      <td>...</td>\n      <td>...</td>\n      <td>...</td>\n      <td>...</td>\n      <td>...</td>\n      <td>...</td>\n      <td>...</td>\n      <td>...</td>\n      <td>...</td>\n      <td>...</td>\n      <td>...</td>\n      <td>...</td>\n      <td>...</td>\n      <td>...</td>\n    </tr>\n    <tr>\n      <th>1941</th>\n      <td>2021-22</td>\n      <td>1610612754</td>\n      <td>IND</td>\n      <td>Indiana Pacers</td>\n      <td>0022100003</td>\n      <td>2021-10-20T00:00:00</td>\n      <td>IND @ CHA</td>\n      <td>L</td>\n      <td>48.0</td>\n      <td>42</td>\n      <td>...</td>\n      <td>292</td>\n      <td>288</td>\n      <td>1481</td>\n      <td>1906</td>\n      <td>33</td>\n      <td>945</td>\n      <td>1620</td>\n      <td>600</td>\n      <td>299</td>\n      <td>974</td>\n    </tr>\n    <tr>\n      <th>1942</th>\n      <td>2021-22</td>\n      <td>1610612744</td>\n      <td>GSW</td>\n      <td>Golden State Warriors</td>\n      <td>0022100002</td>\n      <td>2021-10-19T00:00:00</td>\n      <td>GSW @ LAL</td>\n      <td>W</td>\n      <td>48.0</td>\n      <td>41</td>\n      <td>...</td>\n      <td>360</td>\n      <td>214</td>\n      <td>1481</td>\n      <td>471</td>\n      <td>1637</td>\n      <td>623</td>\n      <td>586</td>\n      <td>136</td>\n      <td>329</td>\n      <td>615</td>\n    </tr>\n    <tr>\n      <th>1943</th>\n      <td>2021-22</td>\n      <td>1610612747</td>\n      <td>LAL</td>\n      <td>Los Angeles Lakers</td>\n      <td>0022100002</td>\n      <td>2021-10-19T00:00:00</td>\n      <td>LAL vs. GSW</td>\n      <td>L</td>\n      <td>48.0</td>\n      <td>45</td>\n      <td>...</td>\n      <td>854</td>\n      <td>1378</td>\n      <td>1614</td>\n      <td>947</td>\n      <td>1003</td>\n      <td>128</td>\n      <td>1728</td>\n      <td>1170</td>\n      <td>671</td>\n      <td>1286</td>\n    </tr>\n    <tr>\n      <th>1944</th>\n      <td>2021-22</td>\n      <td>1610612749</td>\n      <td>MIL</td>\n      <td>Milwaukee Bucks</td>\n      <td>0022100001</td>\n      <td>2021-10-19T00:00:00</td>\n      <td>MIL vs. BKN</td>\n      <td>W</td>\n      <td>48.0</td>\n      <td>48</td>\n      <td>...</td>\n      <td>137</td>\n      <td>757</td>\n      <td>66</td>\n      <td>667</td>\n      <td>69</td>\n      <td>1812</td>\n      <td>778</td>\n      <td>1362</td>\n      <td>150</td>\n      <td>115</td>\n    </tr>\n    <tr>\n      <th>1945</th>\n      <td>2021-22</td>\n      <td>1610612751</td>\n      <td>BKN</td>\n      <td>Brooklyn Nets</td>\n      <td>0022100001</td>\n      <td>2021-10-19T00:00:00</td>\n      <td>BKN @ MIL</td>\n      <td>L</td>\n      <td>48.0</td>\n      <td>37</td>\n      <td>...</td>\n      <td>967</td>\n      <td>1631</td>\n      <td>724</td>\n      <td>1844</td>\n      <td>69</td>\n      <td>1812</td>\n      <td>443</td>\n      <td>964</td>\n      <td>1270</td>\n      <td>1821</td>\n    </tr>\n  </tbody>\n</table>\n<p>1946 rows × 56 columns</p>\n</div>"
     },
     "execution_count": 10,
     "metadata": {},
     "output_type": "execute_result"
    }
   ],
   "source": [
    "gamelogs"
   ],
   "metadata": {
    "collapsed": false,
    "pycharm": {
     "name": "#%%\n"
    }
   }
  },
  {
   "cell_type": "code",
   "execution_count": 12,
   "outputs": [
    {
     "data": {
      "text/plain": "SEASON_YEAR           object\nTEAM_ID                int64\nTEAM_ABBREVIATION     object\nTEAM_NAME             object\nGAME_ID               object\nGAME_DATE             object\nMATCHUP               object\nWL                    object\nMIN                  float64\nFGM                    int64\nFGA                    int64\nFG_PCT               float64\nFG3M                   int64\nFG3A                   int64\nFG3_PCT              float64\nFTM                    int64\nFTA                    int64\nFT_PCT               float64\nOREB                   int64\nDREB                   int64\nREB                    int64\nAST                    int64\nTOV                  float64\nSTL                    int64\nBLK                    int64\nBLKA                   int64\nPF                     int64\nPFD                    int64\nPTS                    int64\nPLUS_MINUS           float64\nGP_RANK                int64\nW_RANK                 int64\nL_RANK                 int64\nW_PCT_RANK             int64\nMIN_RANK               int64\nFGM_RANK               int64\nFGA_RANK               int64\nFG_PCT_RANK            int64\nFG3M_RANK              int64\nFG3A_RANK              int64\nFG3_PCT_RANK           int64\nFTM_RANK               int64\nFTA_RANK               int64\nFT_PCT_RANK            int64\nOREB_RANK              int64\nDREB_RANK              int64\nREB_RANK               int64\nAST_RANK               int64\nTOV_RANK               int64\nSTL_RANK               int64\nBLK_RANK               int64\nBLKA_RANK              int64\nPF_RANK                int64\nPFD_RANK               int64\nPTS_RANK               int64\nPLUS_MINUS_RANK        int64\ndtype: object"
     },
     "execution_count": 12,
     "metadata": {},
     "output_type": "execute_result"
    }
   ],
   "source": [
    "gamelogs.dtypes"
   ],
   "metadata": {
    "collapsed": false,
    "pycharm": {
     "name": "#%%\n"
    }
   }
  },
  {
   "cell_type": "code",
   "execution_count": 14,
   "outputs": [],
   "source": [
    "convert_dtypes = {\n",
    "    'MIN': np.int64,\n",
    "    'TOV': np.int64\n",
    "}\n",
    "\n",
    "gamelogs = gamelogs.astype(convert_dtypes)"
   ],
   "metadata": {
    "collapsed": false,
    "pycharm": {
     "name": "#%%\n"
    }
   }
  },
  {
   "cell_type": "code",
   "execution_count": 18,
   "outputs": [],
   "source": [
    "utah_games = gamelogs[gamelogs['TEAM_ABBREVIATION'] == 'UTA']"
   ],
   "metadata": {
    "collapsed": false,
    "pycharm": {
     "name": "#%%\n"
    }
   }
  },
  {
   "cell_type": "code",
   "execution_count": 19,
   "outputs": [
    {
     "data": {
      "text/plain": "     SEASON_YEAR     TEAM_ID TEAM_ABBREVIATION  TEAM_NAME     GAME_ID  \\\n8        2021-22  1610612762               UTA  Utah Jazz  0022100972   \n27       2021-22  1610612762               UTA  Utah Jazz  0022100965   \n47       2021-22  1610612762               UTA  Utah Jazz  0022100950   \n80       2021-22  1610612762               UTA  Utah Jazz  0022100935   \n129      2021-22  1610612762               UTA  Utah Jazz  0022100913   \n...          ...         ...               ...        ...         ...   \n1776     2021-22  1610612762               UTA  Utah Jazz  0022100083   \n1814     2021-22  1610612762               UTA  Utah Jazz  0022100068   \n1845     2021-22  1610612762               UTA  Utah Jazz  0022100054   \n1901     2021-22  1610612762               UTA  Utah Jazz  0022100026   \n1935     2021-22  1610612762               UTA  Utah Jazz  0022100011   \n\n                GAME_DATE      MATCHUP WL  MIN  FGM  ...  REB_RANK  AST_RANK  \\\n8     2022-03-07T00:00:00    UTA @ DAL  L   48   36  ...       854      1227   \n27    2022-03-06T00:00:00    UTA @ OKC  W   48   40  ...       537       496   \n47    2022-03-04T00:00:00    UTA @ NOP  L   48   31  ...       228      1903   \n80    2022-03-02T00:00:00    UTA @ HOU  W   53   50  ...       441       117   \n129   2022-02-27T00:00:00    UTA @ PHX  W   48   44  ...      1318      1071   \n...                   ...          ... ..  ...  ...  ...       ...       ...   \n1776  2021-10-30T00:00:00    UTA @ CHI  L   48   35  ...       137      1903   \n1814  2021-10-28T00:00:00    UTA @ HOU  W   48   41  ...        46       904   \n1845  2021-10-26T00:00:00  UTA vs. DEN  W   48   44  ...      1318      1510   \n1901  2021-10-22T00:00:00    UTA @ SAC  W   48   37  ...       292      1863   \n1935  2021-10-20T00:00:00  UTA vs. OKC  W   48   40  ...       180      1729   \n\n      TOV_RANK  STL_RANK  BLK_RANK  BLKA_RANK  PF_RANK  PFD_RANK  PTS_RANK  \\\n8          947      1507       437        945      984       600      1342   \n27         371      1714      1003       1812     1164       964       550   \n47        1853       947      1637        945      106       328      1829   \n80        1731       100      1637        311     1620       136        78   \n129        230       947       437        945      303       964       454   \n...        ...       ...       ...        ...      ...       ...       ...   \n1776      1806      1507       257        945     1164       964      1525   \n1814      1806       667      1003        311     1498       220       299   \n1845       947      1507       437        311     1348       328       299   \n1901      1731        29      1325        945      443       450       913   \n1935       230      1225       686        128      778      1645      1096   \n\n      PLUS_MINUS_RANK  \n8                1333  \n27                337  \n47               1921  \n80                728  \n129               782  \n...               ...  \n1776             1333  \n1814               40  \n1845              378  \n1901              509  \n1935              138  \n\n[64 rows x 56 columns]",
      "text/html": "<div>\n<style scoped>\n    .dataframe tbody tr th:only-of-type {\n        vertical-align: middle;\n    }\n\n    .dataframe tbody tr th {\n        vertical-align: top;\n    }\n\n    .dataframe thead th {\n        text-align: right;\n    }\n</style>\n<table border=\"1\" class=\"dataframe\">\n  <thead>\n    <tr style=\"text-align: right;\">\n      <th></th>\n      <th>SEASON_YEAR</th>\n      <th>TEAM_ID</th>\n      <th>TEAM_ABBREVIATION</th>\n      <th>TEAM_NAME</th>\n      <th>GAME_ID</th>\n      <th>GAME_DATE</th>\n      <th>MATCHUP</th>\n      <th>WL</th>\n      <th>MIN</th>\n      <th>FGM</th>\n      <th>...</th>\n      <th>REB_RANK</th>\n      <th>AST_RANK</th>\n      <th>TOV_RANK</th>\n      <th>STL_RANK</th>\n      <th>BLK_RANK</th>\n      <th>BLKA_RANK</th>\n      <th>PF_RANK</th>\n      <th>PFD_RANK</th>\n      <th>PTS_RANK</th>\n      <th>PLUS_MINUS_RANK</th>\n    </tr>\n  </thead>\n  <tbody>\n    <tr>\n      <th>8</th>\n      <td>2021-22</td>\n      <td>1610612762</td>\n      <td>UTA</td>\n      <td>Utah Jazz</td>\n      <td>0022100972</td>\n      <td>2022-03-07T00:00:00</td>\n      <td>UTA @ DAL</td>\n      <td>L</td>\n      <td>48</td>\n      <td>36</td>\n      <td>...</td>\n      <td>854</td>\n      <td>1227</td>\n      <td>947</td>\n      <td>1507</td>\n      <td>437</td>\n      <td>945</td>\n      <td>984</td>\n      <td>600</td>\n      <td>1342</td>\n      <td>1333</td>\n    </tr>\n    <tr>\n      <th>27</th>\n      <td>2021-22</td>\n      <td>1610612762</td>\n      <td>UTA</td>\n      <td>Utah Jazz</td>\n      <td>0022100965</td>\n      <td>2022-03-06T00:00:00</td>\n      <td>UTA @ OKC</td>\n      <td>W</td>\n      <td>48</td>\n      <td>40</td>\n      <td>...</td>\n      <td>537</td>\n      <td>496</td>\n      <td>371</td>\n      <td>1714</td>\n      <td>1003</td>\n      <td>1812</td>\n      <td>1164</td>\n      <td>964</td>\n      <td>550</td>\n      <td>337</td>\n    </tr>\n    <tr>\n      <th>47</th>\n      <td>2021-22</td>\n      <td>1610612762</td>\n      <td>UTA</td>\n      <td>Utah Jazz</td>\n      <td>0022100950</td>\n      <td>2022-03-04T00:00:00</td>\n      <td>UTA @ NOP</td>\n      <td>L</td>\n      <td>48</td>\n      <td>31</td>\n      <td>...</td>\n      <td>228</td>\n      <td>1903</td>\n      <td>1853</td>\n      <td>947</td>\n      <td>1637</td>\n      <td>945</td>\n      <td>106</td>\n      <td>328</td>\n      <td>1829</td>\n      <td>1921</td>\n    </tr>\n    <tr>\n      <th>80</th>\n      <td>2021-22</td>\n      <td>1610612762</td>\n      <td>UTA</td>\n      <td>Utah Jazz</td>\n      <td>0022100935</td>\n      <td>2022-03-02T00:00:00</td>\n      <td>UTA @ HOU</td>\n      <td>W</td>\n      <td>53</td>\n      <td>50</td>\n      <td>...</td>\n      <td>441</td>\n      <td>117</td>\n      <td>1731</td>\n      <td>100</td>\n      <td>1637</td>\n      <td>311</td>\n      <td>1620</td>\n      <td>136</td>\n      <td>78</td>\n      <td>728</td>\n    </tr>\n    <tr>\n      <th>129</th>\n      <td>2021-22</td>\n      <td>1610612762</td>\n      <td>UTA</td>\n      <td>Utah Jazz</td>\n      <td>0022100913</td>\n      <td>2022-02-27T00:00:00</td>\n      <td>UTA @ PHX</td>\n      <td>W</td>\n      <td>48</td>\n      <td>44</td>\n      <td>...</td>\n      <td>1318</td>\n      <td>1071</td>\n      <td>230</td>\n      <td>947</td>\n      <td>437</td>\n      <td>945</td>\n      <td>303</td>\n      <td>964</td>\n      <td>454</td>\n      <td>782</td>\n    </tr>\n    <tr>\n      <th>...</th>\n      <td>...</td>\n      <td>...</td>\n      <td>...</td>\n      <td>...</td>\n      <td>...</td>\n      <td>...</td>\n      <td>...</td>\n      <td>...</td>\n      <td>...</td>\n      <td>...</td>\n      <td>...</td>\n      <td>...</td>\n      <td>...</td>\n      <td>...</td>\n      <td>...</td>\n      <td>...</td>\n      <td>...</td>\n      <td>...</td>\n      <td>...</td>\n      <td>...</td>\n      <td>...</td>\n    </tr>\n    <tr>\n      <th>1776</th>\n      <td>2021-22</td>\n      <td>1610612762</td>\n      <td>UTA</td>\n      <td>Utah Jazz</td>\n      <td>0022100083</td>\n      <td>2021-10-30T00:00:00</td>\n      <td>UTA @ CHI</td>\n      <td>L</td>\n      <td>48</td>\n      <td>35</td>\n      <td>...</td>\n      <td>137</td>\n      <td>1903</td>\n      <td>1806</td>\n      <td>1507</td>\n      <td>257</td>\n      <td>945</td>\n      <td>1164</td>\n      <td>964</td>\n      <td>1525</td>\n      <td>1333</td>\n    </tr>\n    <tr>\n      <th>1814</th>\n      <td>2021-22</td>\n      <td>1610612762</td>\n      <td>UTA</td>\n      <td>Utah Jazz</td>\n      <td>0022100068</td>\n      <td>2021-10-28T00:00:00</td>\n      <td>UTA @ HOU</td>\n      <td>W</td>\n      <td>48</td>\n      <td>41</td>\n      <td>...</td>\n      <td>46</td>\n      <td>904</td>\n      <td>1806</td>\n      <td>667</td>\n      <td>1003</td>\n      <td>311</td>\n      <td>1498</td>\n      <td>220</td>\n      <td>299</td>\n      <td>40</td>\n    </tr>\n    <tr>\n      <th>1845</th>\n      <td>2021-22</td>\n      <td>1610612762</td>\n      <td>UTA</td>\n      <td>Utah Jazz</td>\n      <td>0022100054</td>\n      <td>2021-10-26T00:00:00</td>\n      <td>UTA vs. DEN</td>\n      <td>W</td>\n      <td>48</td>\n      <td>44</td>\n      <td>...</td>\n      <td>1318</td>\n      <td>1510</td>\n      <td>947</td>\n      <td>1507</td>\n      <td>437</td>\n      <td>311</td>\n      <td>1348</td>\n      <td>328</td>\n      <td>299</td>\n      <td>378</td>\n    </tr>\n    <tr>\n      <th>1901</th>\n      <td>2021-22</td>\n      <td>1610612762</td>\n      <td>UTA</td>\n      <td>Utah Jazz</td>\n      <td>0022100026</td>\n      <td>2021-10-22T00:00:00</td>\n      <td>UTA @ SAC</td>\n      <td>W</td>\n      <td>48</td>\n      <td>37</td>\n      <td>...</td>\n      <td>292</td>\n      <td>1863</td>\n      <td>1731</td>\n      <td>29</td>\n      <td>1325</td>\n      <td>945</td>\n      <td>443</td>\n      <td>450</td>\n      <td>913</td>\n      <td>509</td>\n    </tr>\n    <tr>\n      <th>1935</th>\n      <td>2021-22</td>\n      <td>1610612762</td>\n      <td>UTA</td>\n      <td>Utah Jazz</td>\n      <td>0022100011</td>\n      <td>2021-10-20T00:00:00</td>\n      <td>UTA vs. OKC</td>\n      <td>W</td>\n      <td>48</td>\n      <td>40</td>\n      <td>...</td>\n      <td>180</td>\n      <td>1729</td>\n      <td>230</td>\n      <td>1225</td>\n      <td>686</td>\n      <td>128</td>\n      <td>778</td>\n      <td>1645</td>\n      <td>1096</td>\n      <td>138</td>\n    </tr>\n  </tbody>\n</table>\n<p>64 rows × 56 columns</p>\n</div>"
     },
     "execution_count": 19,
     "metadata": {},
     "output_type": "execute_result"
    }
   ],
   "source": [
    "utah_games.head()"
   ],
   "metadata": {
    "collapsed": false,
    "pycharm": {
     "name": "#%%\n"
    }
   }
  },
  {
   "cell_type": "code",
   "execution_count": 20,
   "outputs": [
    {
     "data": {
      "text/plain": "['0022100972',\n '0022100965',\n '0022100950',\n '0022100935',\n '0022100913',\n '0022100903',\n '0022100884',\n '0022100865',\n '0022100844',\n '0022100828']"
     },
     "execution_count": 20,
     "metadata": {},
     "output_type": "execute_result"
    }
   ],
   "source": [
    "# parse matchups\n",
    "# get all game IDs\n",
    "\n",
    "utah_game_ids = list(utah_games['GAME_ID'])\n",
    "utah_game_ids[:5]"
   ],
   "metadata": {
    "collapsed": false,
    "pycharm": {
     "name": "#%%\n"
    }
   }
  },
  {
   "cell_type": "code",
   "execution_count": 29,
   "outputs": [
    {
     "data": {
      "text/plain": "   SEASON_YEAR  PLAYER_ID  PLAYER_NAME NICKNAME     TEAM_ID TEAM_ABBREVIATION  \\\n5      2021-22     203497  Rudy Gobert     Rudy  1610612762               UTA   \n21     2021-22     203497  Rudy Gobert     Rudy  1610612762               UTA   \n30     2021-22     203497  Rudy Gobert     Rudy  1610612762               UTA   \n32     2021-22     203497  Rudy Gobert     Rudy  1610612762               UTA   \n49     2021-22     203497  Rudy Gobert     Rudy  1610612762               UTA   \n\n    TEAM_NAME     GAME_ID            GAME_DATE      MATCHUP  ... BLK_RANK  \\\n5   Utah Jazz  0022100903  2022-02-25T00:00:00  UTA vs. DAL  ...       12   \n21  Utah Jazz  0022100447  2021-12-18T00:00:00  UTA vs. WAS  ...        1   \n30  Utah Jazz  0022100299  2021-11-27T00:00:00  UTA vs. NOP  ...       20   \n32  Utah Jazz  0022100276  2021-11-24T00:00:00    UTA @ OKC  ...        2   \n49  Utah Jazz  0022100011  2021-10-20T00:00:00  UTA vs. OKC  ...       33   \n\n    BLKA_RANK  PF_RANK  PFD_RANK  PTS_RANK  PLUS_MINUS_RANK  \\\n5           1       23        28        29               38   \n21          1       35        28        40               36   \n30         25        6        38        48                7   \n32         43        1        28        27               16   \n49          1        6        28        22                7   \n\n    NBA_FANTASY_PTS_RANK  DD2_RANK  TD3_RANK  VIDEO_AVAILABLE_FLAG  \n5                     23         1         1                     1  \n21                    13         1         1                     1  \n30                    49        42         1                     1  \n32                     4         1         1                     1  \n49                    26         1         1                     1  \n\n[5 rows x 66 columns]",
      "text/html": "<div>\n<style scoped>\n    .dataframe tbody tr th:only-of-type {\n        vertical-align: middle;\n    }\n\n    .dataframe tbody tr th {\n        vertical-align: top;\n    }\n\n    .dataframe thead th {\n        text-align: right;\n    }\n</style>\n<table border=\"1\" class=\"dataframe\">\n  <thead>\n    <tr style=\"text-align: right;\">\n      <th></th>\n      <th>SEASON_YEAR</th>\n      <th>PLAYER_ID</th>\n      <th>PLAYER_NAME</th>\n      <th>NICKNAME</th>\n      <th>TEAM_ID</th>\n      <th>TEAM_ABBREVIATION</th>\n      <th>TEAM_NAME</th>\n      <th>GAME_ID</th>\n      <th>GAME_DATE</th>\n      <th>MATCHUP</th>\n      <th>...</th>\n      <th>BLK_RANK</th>\n      <th>BLKA_RANK</th>\n      <th>PF_RANK</th>\n      <th>PFD_RANK</th>\n      <th>PTS_RANK</th>\n      <th>PLUS_MINUS_RANK</th>\n      <th>NBA_FANTASY_PTS_RANK</th>\n      <th>DD2_RANK</th>\n      <th>TD3_RANK</th>\n      <th>VIDEO_AVAILABLE_FLAG</th>\n    </tr>\n  </thead>\n  <tbody>\n    <tr>\n      <th>5</th>\n      <td>2021-22</td>\n      <td>203497</td>\n      <td>Rudy Gobert</td>\n      <td>Rudy</td>\n      <td>1610612762</td>\n      <td>UTA</td>\n      <td>Utah Jazz</td>\n      <td>0022100903</td>\n      <td>2022-02-25T00:00:00</td>\n      <td>UTA vs. DAL</td>\n      <td>...</td>\n      <td>12</td>\n      <td>1</td>\n      <td>23</td>\n      <td>28</td>\n      <td>29</td>\n      <td>38</td>\n      <td>23</td>\n      <td>1</td>\n      <td>1</td>\n      <td>1</td>\n    </tr>\n    <tr>\n      <th>21</th>\n      <td>2021-22</td>\n      <td>203497</td>\n      <td>Rudy Gobert</td>\n      <td>Rudy</td>\n      <td>1610612762</td>\n      <td>UTA</td>\n      <td>Utah Jazz</td>\n      <td>0022100447</td>\n      <td>2021-12-18T00:00:00</td>\n      <td>UTA vs. WAS</td>\n      <td>...</td>\n      <td>1</td>\n      <td>1</td>\n      <td>35</td>\n      <td>28</td>\n      <td>40</td>\n      <td>36</td>\n      <td>13</td>\n      <td>1</td>\n      <td>1</td>\n      <td>1</td>\n    </tr>\n    <tr>\n      <th>30</th>\n      <td>2021-22</td>\n      <td>203497</td>\n      <td>Rudy Gobert</td>\n      <td>Rudy</td>\n      <td>1610612762</td>\n      <td>UTA</td>\n      <td>Utah Jazz</td>\n      <td>0022100299</td>\n      <td>2021-11-27T00:00:00</td>\n      <td>UTA vs. NOP</td>\n      <td>...</td>\n      <td>20</td>\n      <td>25</td>\n      <td>6</td>\n      <td>38</td>\n      <td>48</td>\n      <td>7</td>\n      <td>49</td>\n      <td>42</td>\n      <td>1</td>\n      <td>1</td>\n    </tr>\n    <tr>\n      <th>32</th>\n      <td>2021-22</td>\n      <td>203497</td>\n      <td>Rudy Gobert</td>\n      <td>Rudy</td>\n      <td>1610612762</td>\n      <td>UTA</td>\n      <td>Utah Jazz</td>\n      <td>0022100276</td>\n      <td>2021-11-24T00:00:00</td>\n      <td>UTA @ OKC</td>\n      <td>...</td>\n      <td>2</td>\n      <td>43</td>\n      <td>1</td>\n      <td>28</td>\n      <td>27</td>\n      <td>16</td>\n      <td>4</td>\n      <td>1</td>\n      <td>1</td>\n      <td>1</td>\n    </tr>\n    <tr>\n      <th>49</th>\n      <td>2021-22</td>\n      <td>203497</td>\n      <td>Rudy Gobert</td>\n      <td>Rudy</td>\n      <td>1610612762</td>\n      <td>UTA</td>\n      <td>Utah Jazz</td>\n      <td>0022100011</td>\n      <td>2021-10-20T00:00:00</td>\n      <td>UTA vs. OKC</td>\n      <td>...</td>\n      <td>33</td>\n      <td>1</td>\n      <td>6</td>\n      <td>28</td>\n      <td>22</td>\n      <td>7</td>\n      <td>26</td>\n      <td>1</td>\n      <td>1</td>\n      <td>1</td>\n    </tr>\n  </tbody>\n</table>\n<p>5 rows × 66 columns</p>\n</div>"
     },
     "execution_count": 29,
     "metadata": {},
     "output_type": "execute_result"
    }
   ],
   "source": [
    "# gobert player ID\n",
    "gobert_id = players.find_players_by_last_name('gobert')[0]['id']\n",
    "gobert_games = PlayerGameLogs(\n",
    "    player_id_nullable=gobert_id,\n",
    "    season_nullable=curr_season\n",
    ").get_data_frames()[0]\n",
    "\n",
    "gobert_games.sample(5)"
   ],
   "metadata": {
    "collapsed": false,
    "pycharm": {
     "name": "#%%\n"
    }
   }
  },
  {
   "cell_type": "code",
   "execution_count": 37,
   "outputs": [
    {
     "data": {
      "text/plain": "1610612762"
     },
     "execution_count": 37,
     "metadata": {},
     "output_type": "execute_result"
    }
   ],
   "source": [
    "gobert_team = gobert_games['TEAM_ID'].iloc[0]\n",
    "gobert_team\n"
   ],
   "metadata": {
    "collapsed": false,
    "pycharm": {
     "name": "#%%\n"
    }
   }
  },
  {
   "cell_type": "code",
   "execution_count": 33,
   "outputs": [
    {
     "data": {
      "text/plain": "['0022100972', '0022100965', '0022100950', '0022100935', '0022100913']"
     },
     "execution_count": 33,
     "metadata": {},
     "output_type": "execute_result"
    }
   ],
   "source": [
    "gobert_game_ids = list(gobert_games['GAME_ID'].unique())\n",
    "gobert_game_ids[:5]"
   ],
   "metadata": {
    "collapsed": false,
    "pycharm": {
     "name": "#%%\n"
    }
   }
  },
  {
   "cell_type": "code",
   "execution_count": null,
   "outputs": [],
   "source": [
    "# get play by play\n",
    "# find all games where rudy gobert played\n",
    "# mark games where rudy gobert registers a block before subbing out\n",
    "# calculate opponent shot distances"
   ],
   "metadata": {
    "collapsed": false,
    "pycharm": {
     "name": "#%%\n"
    }
   }
  },
  {
   "cell_type": "code",
   "execution_count": 39,
   "outputs": [
    {
     "data": {
      "text/plain": "           GRID_TYPE     GAME_ID  GAME_EVENT_ID  PLAYER_ID  PLAYER_NAME  \\\n0  Shot Chart Detail  0022100935             33     203497  Rudy Gobert   \n1  Shot Chart Detail  0022100935             40     203497  Rudy Gobert   \n2  Shot Chart Detail  0022100935             45     203497  Rudy Gobert   \n3  Shot Chart Detail  0022100935            124     203497  Rudy Gobert   \n4  Shot Chart Detail  0022100935            175     203497  Rudy Gobert   \n5  Shot Chart Detail  0022100935            313     203497  Rudy Gobert   \n6  Shot Chart Detail  0022100935            344     203497  Rudy Gobert   \n7  Shot Chart Detail  0022100935            357     203497  Rudy Gobert   \n\n      TEAM_ID  TEAM_NAME  PERIOD  MINUTES_REMAINING  SECONDS_REMAINING  ...  \\\n0  1610612762  Utah Jazz       1                  9                 13  ...   \n1  1610612762  Utah Jazz       1                  8                  5  ...   \n2  1610612762  Utah Jazz       1                  7                 33  ...   \n3  1610612762  Utah Jazz       1                  2                 56  ...   \n4  1610612762  Utah Jazz       2                 10                 54  ...   \n5  1610612762  Utah Jazz       2                  0                 32  ...   \n6  1610612762  Utah Jazz       3                 11                 25  ...   \n7  1610612762  Utah Jazz       3                  9                 34  ...   \n\n  SHOT_ZONE_AREA  SHOT_ZONE_RANGE SHOT_DISTANCE LOC_X LOC_Y  \\\n0      Center(C)  Less Than 8 ft.             1    11    16   \n1      Center(C)  Less Than 8 ft.             1    -1    11   \n2      Center(C)  Less Than 8 ft.             1    11    11   \n3      Center(C)  Less Than 8 ft.             1    -5    16   \n4      Center(C)  Less Than 8 ft.             2    12    16   \n5      Center(C)  Less Than 8 ft.             1    13    10   \n6      Center(C)  Less Than 8 ft.             0     0    -1   \n7      Center(C)  Less Than 8 ft.             1   -11    10   \n\n  SHOT_ATTEMPTED_FLAG  SHOT_MADE_FLAG  GAME_DATE  HTM  VTM  \n0                   1               1   20220302  HOU  UTA  \n1                   1               1   20220302  HOU  UTA  \n2                   1               1   20220302  HOU  UTA  \n3                   1               1   20220302  HOU  UTA  \n4                   1               1   20220302  HOU  UTA  \n5                   1               1   20220302  HOU  UTA  \n6                   1               1   20220302  HOU  UTA  \n7                   1               1   20220302  HOU  UTA  \n\n[8 rows x 24 columns]",
      "text/html": "<div>\n<style scoped>\n    .dataframe tbody tr th:only-of-type {\n        vertical-align: middle;\n    }\n\n    .dataframe tbody tr th {\n        vertical-align: top;\n    }\n\n    .dataframe thead th {\n        text-align: right;\n    }\n</style>\n<table border=\"1\" class=\"dataframe\">\n  <thead>\n    <tr style=\"text-align: right;\">\n      <th></th>\n      <th>GRID_TYPE</th>\n      <th>GAME_ID</th>\n      <th>GAME_EVENT_ID</th>\n      <th>PLAYER_ID</th>\n      <th>PLAYER_NAME</th>\n      <th>TEAM_ID</th>\n      <th>TEAM_NAME</th>\n      <th>PERIOD</th>\n      <th>MINUTES_REMAINING</th>\n      <th>SECONDS_REMAINING</th>\n      <th>...</th>\n      <th>SHOT_ZONE_AREA</th>\n      <th>SHOT_ZONE_RANGE</th>\n      <th>SHOT_DISTANCE</th>\n      <th>LOC_X</th>\n      <th>LOC_Y</th>\n      <th>SHOT_ATTEMPTED_FLAG</th>\n      <th>SHOT_MADE_FLAG</th>\n      <th>GAME_DATE</th>\n      <th>HTM</th>\n      <th>VTM</th>\n    </tr>\n  </thead>\n  <tbody>\n    <tr>\n      <th>0</th>\n      <td>Shot Chart Detail</td>\n      <td>0022100935</td>\n      <td>33</td>\n      <td>203497</td>\n      <td>Rudy Gobert</td>\n      <td>1610612762</td>\n      <td>Utah Jazz</td>\n      <td>1</td>\n      <td>9</td>\n      <td>13</td>\n      <td>...</td>\n      <td>Center(C)</td>\n      <td>Less Than 8 ft.</td>\n      <td>1</td>\n      <td>11</td>\n      <td>16</td>\n      <td>1</td>\n      <td>1</td>\n      <td>20220302</td>\n      <td>HOU</td>\n      <td>UTA</td>\n    </tr>\n    <tr>\n      <th>1</th>\n      <td>Shot Chart Detail</td>\n      <td>0022100935</td>\n      <td>40</td>\n      <td>203497</td>\n      <td>Rudy Gobert</td>\n      <td>1610612762</td>\n      <td>Utah Jazz</td>\n      <td>1</td>\n      <td>8</td>\n      <td>5</td>\n      <td>...</td>\n      <td>Center(C)</td>\n      <td>Less Than 8 ft.</td>\n      <td>1</td>\n      <td>-1</td>\n      <td>11</td>\n      <td>1</td>\n      <td>1</td>\n      <td>20220302</td>\n      <td>HOU</td>\n      <td>UTA</td>\n    </tr>\n    <tr>\n      <th>2</th>\n      <td>Shot Chart Detail</td>\n      <td>0022100935</td>\n      <td>45</td>\n      <td>203497</td>\n      <td>Rudy Gobert</td>\n      <td>1610612762</td>\n      <td>Utah Jazz</td>\n      <td>1</td>\n      <td>7</td>\n      <td>33</td>\n      <td>...</td>\n      <td>Center(C)</td>\n      <td>Less Than 8 ft.</td>\n      <td>1</td>\n      <td>11</td>\n      <td>11</td>\n      <td>1</td>\n      <td>1</td>\n      <td>20220302</td>\n      <td>HOU</td>\n      <td>UTA</td>\n    </tr>\n    <tr>\n      <th>3</th>\n      <td>Shot Chart Detail</td>\n      <td>0022100935</td>\n      <td>124</td>\n      <td>203497</td>\n      <td>Rudy Gobert</td>\n      <td>1610612762</td>\n      <td>Utah Jazz</td>\n      <td>1</td>\n      <td>2</td>\n      <td>56</td>\n      <td>...</td>\n      <td>Center(C)</td>\n      <td>Less Than 8 ft.</td>\n      <td>1</td>\n      <td>-5</td>\n      <td>16</td>\n      <td>1</td>\n      <td>1</td>\n      <td>20220302</td>\n      <td>HOU</td>\n      <td>UTA</td>\n    </tr>\n    <tr>\n      <th>4</th>\n      <td>Shot Chart Detail</td>\n      <td>0022100935</td>\n      <td>175</td>\n      <td>203497</td>\n      <td>Rudy Gobert</td>\n      <td>1610612762</td>\n      <td>Utah Jazz</td>\n      <td>2</td>\n      <td>10</td>\n      <td>54</td>\n      <td>...</td>\n      <td>Center(C)</td>\n      <td>Less Than 8 ft.</td>\n      <td>2</td>\n      <td>12</td>\n      <td>16</td>\n      <td>1</td>\n      <td>1</td>\n      <td>20220302</td>\n      <td>HOU</td>\n      <td>UTA</td>\n    </tr>\n    <tr>\n      <th>5</th>\n      <td>Shot Chart Detail</td>\n      <td>0022100935</td>\n      <td>313</td>\n      <td>203497</td>\n      <td>Rudy Gobert</td>\n      <td>1610612762</td>\n      <td>Utah Jazz</td>\n      <td>2</td>\n      <td>0</td>\n      <td>32</td>\n      <td>...</td>\n      <td>Center(C)</td>\n      <td>Less Than 8 ft.</td>\n      <td>1</td>\n      <td>13</td>\n      <td>10</td>\n      <td>1</td>\n      <td>1</td>\n      <td>20220302</td>\n      <td>HOU</td>\n      <td>UTA</td>\n    </tr>\n    <tr>\n      <th>6</th>\n      <td>Shot Chart Detail</td>\n      <td>0022100935</td>\n      <td>344</td>\n      <td>203497</td>\n      <td>Rudy Gobert</td>\n      <td>1610612762</td>\n      <td>Utah Jazz</td>\n      <td>3</td>\n      <td>11</td>\n      <td>25</td>\n      <td>...</td>\n      <td>Center(C)</td>\n      <td>Less Than 8 ft.</td>\n      <td>0</td>\n      <td>0</td>\n      <td>-1</td>\n      <td>1</td>\n      <td>1</td>\n      <td>20220302</td>\n      <td>HOU</td>\n      <td>UTA</td>\n    </tr>\n    <tr>\n      <th>7</th>\n      <td>Shot Chart Detail</td>\n      <td>0022100935</td>\n      <td>357</td>\n      <td>203497</td>\n      <td>Rudy Gobert</td>\n      <td>1610612762</td>\n      <td>Utah Jazz</td>\n      <td>3</td>\n      <td>9</td>\n      <td>34</td>\n      <td>...</td>\n      <td>Center(C)</td>\n      <td>Less Than 8 ft.</td>\n      <td>1</td>\n      <td>-11</td>\n      <td>10</td>\n      <td>1</td>\n      <td>1</td>\n      <td>20220302</td>\n      <td>HOU</td>\n      <td>UTA</td>\n    </tr>\n  </tbody>\n</table>\n<p>8 rows × 24 columns</p>\n</div>"
     },
     "execution_count": 39,
     "metadata": {},
     "output_type": "execute_result"
    }
   ],
   "source": [
    "# get test game\n",
    "test_game = ShotChartDetail(\n",
    "    game_id_nullable=gobert_game_ids[3],\n",
    "    team_id=gobert_team,\n",
    "    player_id=gobert_id\n",
    ").get_data_frames()[0]\n",
    "\n",
    "test_game.head(n=8)"
   ],
   "metadata": {
    "collapsed": false,
    "pycharm": {
     "name": "#%%\n"
    }
   }
  },
  {
   "cell_type": "markdown",
   "source": [
    "Player and team IDs are both required. This might mean I need to query the teams and players of every opponent when Gobert is in."
   ],
   "metadata": {
    "collapsed": false,
    "pycharm": {
     "name": "#%% md\n"
    }
   }
  },
  {
   "cell_type": "code",
   "execution_count": 44,
   "outputs": [
    {
     "data": {
      "text/plain": "       GAME_ID     TEAM_ID TEAM_CITY TEAM_NAME  PERSON_ID PLAYER_FIRST  \\\n0   0022100935  1610612762      Utah      Jazz     200752         Rudy   \n1   0022100935  1610612762      Utah      Jazz     200752         Rudy   \n2   0022100935  1610612762      Utah      Jazz     201144         Mike   \n3   0022100935  1610612762      Utah      Jazz     201144         Mike   \n4   0022100935  1610612762      Utah      Jazz     201144         Mike   \n5   0022100935  1610612762      Utah      Jazz     201144         Mike   \n6   0022100935  1610612762      Utah      Jazz     201144         Mike   \n7   0022100935  1610612762      Utah      Jazz     202355       Hassan   \n8   0022100935  1610612762      Utah      Jazz     202355       Hassan   \n9   0022100935  1610612762      Utah      Jazz     202355       Hassan   \n10  0022100935  1610612762      Utah      Jazz     202355       Hassan   \n11  0022100935  1610612762      Utah      Jazz     202711        Bojan   \n12  0022100935  1610612762      Utah      Jazz     202711        Bojan   \n13  0022100935  1610612762      Utah      Jazz     202711        Bojan   \n14  0022100935  1610612762      Utah      Jazz     202711        Bojan   \n15  0022100935  1610612762      Utah      Jazz     203497         Rudy   \n16  0022100935  1610612762      Utah      Jazz     203497         Rudy   \n17  0022100935  1610612762      Utah      Jazz     203497         Rudy   \n18  0022100935  1610612762      Utah      Jazz     203497         Rudy   \n19  0022100935  1610612762      Utah      Jazz     203497         Rudy   \n20  0022100935  1610612762      Utah      Jazz     203903       Jordan   \n21  0022100935  1610612762      Utah      Jazz     203903       Jordan   \n22  0022100935  1610612762      Utah      Jazz    1626220        Royce   \n23  0022100935  1610612762      Utah      Jazz    1626220        Royce   \n24  0022100935  1610612762      Utah      Jazz    1626220        Royce   \n25  0022100935  1610612762      Utah      Jazz    1627863       Danuel   \n26  0022100935  1610612762      Utah      Jazz    1627863       Danuel   \n27  0022100935  1610612762      Utah      Jazz    1627863       Danuel   \n28  0022100935  1610612762      Utah      Jazz    1628378      Donovan   \n29  0022100935  1610612762      Utah      Jazz    1628378      Donovan   \n30  0022100935  1610612762      Utah      Jazz    1628378      Donovan   \n31  0022100935  1610612762      Utah      Jazz    1630235        Trent   \n32  0022100935  1610612762      Utah      Jazz    1630235        Trent   \n33  0022100935  1610612762      Utah      Jazz    1630235        Trent   \n\n   PLAYER_LAST  IN_TIME_REAL  OUT_TIME_REAL  PLAYER_PTS  PT_DIFF  USG_PCT  \n0          Gay        5280.0         9600.0           2     -7.0    0.333  \n1          Gay       21034.0        24370.0           1      2.0    0.133  \n2       Conley           0.0         2920.0           0      2.0    0.000  \n3       Conley        5280.0         8610.0           0     -3.0    0.214  \n4       Conley       13080.0        17530.0           2     -6.0    0.158  \n5       Conley       20440.0        24370.0           1      4.0    0.118  \n6       Conley       26060.0        31800.0          12     -1.0    0.273  \n7    Whiteside        3060.0         5280.0           0      1.0    0.250  \n8    Whiteside        9600.0        13080.0           2     19.0    0.077  \n9    Whiteside       17530.0        18320.0           0      0.0    0.000  \n10   Whiteside       23300.0        25770.0           2     -3.0    0.111  \n11  Bogdanovic           0.0         4890.0           2      7.0    0.263  \n12  Bogdanovic        9600.0        19000.0          16     10.0    0.243  \n13  Bogdanovic       24370.0        28717.0           0     -9.0    0.118  \n14  Bogdanovic       28800.0        31800.0           0      5.0    0.000  \n15      Gobert           0.0         3060.0           6      5.0    0.333  \n16      Gobert        5280.0         9600.0           4     -7.0    0.111  \n17      Gobert       13080.0        17530.0          10     -6.0    0.316  \n18      Gobert       18320.0        23300.0           4      0.0    0.143  \n19      Gobert       25770.0        31800.0           3     -4.0    0.130  \n20    Clarkson        4890.0        13080.0           7     11.0    0.129  \n21    Clarkson       19000.0        26060.0           7     -3.0    0.357  \n22     O'Neale           0.0         4890.0           0      7.0    0.053  \n23     O'Neale        9600.0        19000.0           7     10.0    0.108  \n24     O'Neale       24370.0        31800.0           2     -7.0    0.034  \n25   House Jr.        4890.0         9600.0           2     -8.0    0.105  \n26   House Jr.       19000.0        24370.0           3      3.0    0.045  \n27   House Jr.       28717.0        28800.0           0     -3.0    0.000  \n28    Mitchell           0.0         5280.0          13      6.0    0.400  \n29    Mitchell        9600.0        21034.0          15     11.0    0.311  \n30    Mitchell       24370.0        31800.0           9     -7.0    0.517  \n31     Forrest        2920.0         5280.0           0      4.0    0.000  \n32     Forrest        8610.0         9600.0           0     -4.0    0.000  \n33     Forrest       17530.0        20440.0           0     -4.0    0.000  ",
      "text/html": "<div>\n<style scoped>\n    .dataframe tbody tr th:only-of-type {\n        vertical-align: middle;\n    }\n\n    .dataframe tbody tr th {\n        vertical-align: top;\n    }\n\n    .dataframe thead th {\n        text-align: right;\n    }\n</style>\n<table border=\"1\" class=\"dataframe\">\n  <thead>\n    <tr style=\"text-align: right;\">\n      <th></th>\n      <th>GAME_ID</th>\n      <th>TEAM_ID</th>\n      <th>TEAM_CITY</th>\n      <th>TEAM_NAME</th>\n      <th>PERSON_ID</th>\n      <th>PLAYER_FIRST</th>\n      <th>PLAYER_LAST</th>\n      <th>IN_TIME_REAL</th>\n      <th>OUT_TIME_REAL</th>\n      <th>PLAYER_PTS</th>\n      <th>PT_DIFF</th>\n      <th>USG_PCT</th>\n    </tr>\n  </thead>\n  <tbody>\n    <tr>\n      <th>0</th>\n      <td>0022100935</td>\n      <td>1610612762</td>\n      <td>Utah</td>\n      <td>Jazz</td>\n      <td>200752</td>\n      <td>Rudy</td>\n      <td>Gay</td>\n      <td>5280.0</td>\n      <td>9600.0</td>\n      <td>2</td>\n      <td>-7.0</td>\n      <td>0.333</td>\n    </tr>\n    <tr>\n      <th>1</th>\n      <td>0022100935</td>\n      <td>1610612762</td>\n      <td>Utah</td>\n      <td>Jazz</td>\n      <td>200752</td>\n      <td>Rudy</td>\n      <td>Gay</td>\n      <td>21034.0</td>\n      <td>24370.0</td>\n      <td>1</td>\n      <td>2.0</td>\n      <td>0.133</td>\n    </tr>\n    <tr>\n      <th>2</th>\n      <td>0022100935</td>\n      <td>1610612762</td>\n      <td>Utah</td>\n      <td>Jazz</td>\n      <td>201144</td>\n      <td>Mike</td>\n      <td>Conley</td>\n      <td>0.0</td>\n      <td>2920.0</td>\n      <td>0</td>\n      <td>2.0</td>\n      <td>0.000</td>\n    </tr>\n    <tr>\n      <th>3</th>\n      <td>0022100935</td>\n      <td>1610612762</td>\n      <td>Utah</td>\n      <td>Jazz</td>\n      <td>201144</td>\n      <td>Mike</td>\n      <td>Conley</td>\n      <td>5280.0</td>\n      <td>8610.0</td>\n      <td>0</td>\n      <td>-3.0</td>\n      <td>0.214</td>\n    </tr>\n    <tr>\n      <th>4</th>\n      <td>0022100935</td>\n      <td>1610612762</td>\n      <td>Utah</td>\n      <td>Jazz</td>\n      <td>201144</td>\n      <td>Mike</td>\n      <td>Conley</td>\n      <td>13080.0</td>\n      <td>17530.0</td>\n      <td>2</td>\n      <td>-6.0</td>\n      <td>0.158</td>\n    </tr>\n    <tr>\n      <th>5</th>\n      <td>0022100935</td>\n      <td>1610612762</td>\n      <td>Utah</td>\n      <td>Jazz</td>\n      <td>201144</td>\n      <td>Mike</td>\n      <td>Conley</td>\n      <td>20440.0</td>\n      <td>24370.0</td>\n      <td>1</td>\n      <td>4.0</td>\n      <td>0.118</td>\n    </tr>\n    <tr>\n      <th>6</th>\n      <td>0022100935</td>\n      <td>1610612762</td>\n      <td>Utah</td>\n      <td>Jazz</td>\n      <td>201144</td>\n      <td>Mike</td>\n      <td>Conley</td>\n      <td>26060.0</td>\n      <td>31800.0</td>\n      <td>12</td>\n      <td>-1.0</td>\n      <td>0.273</td>\n    </tr>\n    <tr>\n      <th>7</th>\n      <td>0022100935</td>\n      <td>1610612762</td>\n      <td>Utah</td>\n      <td>Jazz</td>\n      <td>202355</td>\n      <td>Hassan</td>\n      <td>Whiteside</td>\n      <td>3060.0</td>\n      <td>5280.0</td>\n      <td>0</td>\n      <td>1.0</td>\n      <td>0.250</td>\n    </tr>\n    <tr>\n      <th>8</th>\n      <td>0022100935</td>\n      <td>1610612762</td>\n      <td>Utah</td>\n      <td>Jazz</td>\n      <td>202355</td>\n      <td>Hassan</td>\n      <td>Whiteside</td>\n      <td>9600.0</td>\n      <td>13080.0</td>\n      <td>2</td>\n      <td>19.0</td>\n      <td>0.077</td>\n    </tr>\n    <tr>\n      <th>9</th>\n      <td>0022100935</td>\n      <td>1610612762</td>\n      <td>Utah</td>\n      <td>Jazz</td>\n      <td>202355</td>\n      <td>Hassan</td>\n      <td>Whiteside</td>\n      <td>17530.0</td>\n      <td>18320.0</td>\n      <td>0</td>\n      <td>0.0</td>\n      <td>0.000</td>\n    </tr>\n    <tr>\n      <th>10</th>\n      <td>0022100935</td>\n      <td>1610612762</td>\n      <td>Utah</td>\n      <td>Jazz</td>\n      <td>202355</td>\n      <td>Hassan</td>\n      <td>Whiteside</td>\n      <td>23300.0</td>\n      <td>25770.0</td>\n      <td>2</td>\n      <td>-3.0</td>\n      <td>0.111</td>\n    </tr>\n    <tr>\n      <th>11</th>\n      <td>0022100935</td>\n      <td>1610612762</td>\n      <td>Utah</td>\n      <td>Jazz</td>\n      <td>202711</td>\n      <td>Bojan</td>\n      <td>Bogdanovic</td>\n      <td>0.0</td>\n      <td>4890.0</td>\n      <td>2</td>\n      <td>7.0</td>\n      <td>0.263</td>\n    </tr>\n    <tr>\n      <th>12</th>\n      <td>0022100935</td>\n      <td>1610612762</td>\n      <td>Utah</td>\n      <td>Jazz</td>\n      <td>202711</td>\n      <td>Bojan</td>\n      <td>Bogdanovic</td>\n      <td>9600.0</td>\n      <td>19000.0</td>\n      <td>16</td>\n      <td>10.0</td>\n      <td>0.243</td>\n    </tr>\n    <tr>\n      <th>13</th>\n      <td>0022100935</td>\n      <td>1610612762</td>\n      <td>Utah</td>\n      <td>Jazz</td>\n      <td>202711</td>\n      <td>Bojan</td>\n      <td>Bogdanovic</td>\n      <td>24370.0</td>\n      <td>28717.0</td>\n      <td>0</td>\n      <td>-9.0</td>\n      <td>0.118</td>\n    </tr>\n    <tr>\n      <th>14</th>\n      <td>0022100935</td>\n      <td>1610612762</td>\n      <td>Utah</td>\n      <td>Jazz</td>\n      <td>202711</td>\n      <td>Bojan</td>\n      <td>Bogdanovic</td>\n      <td>28800.0</td>\n      <td>31800.0</td>\n      <td>0</td>\n      <td>5.0</td>\n      <td>0.000</td>\n    </tr>\n    <tr>\n      <th>15</th>\n      <td>0022100935</td>\n      <td>1610612762</td>\n      <td>Utah</td>\n      <td>Jazz</td>\n      <td>203497</td>\n      <td>Rudy</td>\n      <td>Gobert</td>\n      <td>0.0</td>\n      <td>3060.0</td>\n      <td>6</td>\n      <td>5.0</td>\n      <td>0.333</td>\n    </tr>\n    <tr>\n      <th>16</th>\n      <td>0022100935</td>\n      <td>1610612762</td>\n      <td>Utah</td>\n      <td>Jazz</td>\n      <td>203497</td>\n      <td>Rudy</td>\n      <td>Gobert</td>\n      <td>5280.0</td>\n      <td>9600.0</td>\n      <td>4</td>\n      <td>-7.0</td>\n      <td>0.111</td>\n    </tr>\n    <tr>\n      <th>17</th>\n      <td>0022100935</td>\n      <td>1610612762</td>\n      <td>Utah</td>\n      <td>Jazz</td>\n      <td>203497</td>\n      <td>Rudy</td>\n      <td>Gobert</td>\n      <td>13080.0</td>\n      <td>17530.0</td>\n      <td>10</td>\n      <td>-6.0</td>\n      <td>0.316</td>\n    </tr>\n    <tr>\n      <th>18</th>\n      <td>0022100935</td>\n      <td>1610612762</td>\n      <td>Utah</td>\n      <td>Jazz</td>\n      <td>203497</td>\n      <td>Rudy</td>\n      <td>Gobert</td>\n      <td>18320.0</td>\n      <td>23300.0</td>\n      <td>4</td>\n      <td>0.0</td>\n      <td>0.143</td>\n    </tr>\n    <tr>\n      <th>19</th>\n      <td>0022100935</td>\n      <td>1610612762</td>\n      <td>Utah</td>\n      <td>Jazz</td>\n      <td>203497</td>\n      <td>Rudy</td>\n      <td>Gobert</td>\n      <td>25770.0</td>\n      <td>31800.0</td>\n      <td>3</td>\n      <td>-4.0</td>\n      <td>0.130</td>\n    </tr>\n    <tr>\n      <th>20</th>\n      <td>0022100935</td>\n      <td>1610612762</td>\n      <td>Utah</td>\n      <td>Jazz</td>\n      <td>203903</td>\n      <td>Jordan</td>\n      <td>Clarkson</td>\n      <td>4890.0</td>\n      <td>13080.0</td>\n      <td>7</td>\n      <td>11.0</td>\n      <td>0.129</td>\n    </tr>\n    <tr>\n      <th>21</th>\n      <td>0022100935</td>\n      <td>1610612762</td>\n      <td>Utah</td>\n      <td>Jazz</td>\n      <td>203903</td>\n      <td>Jordan</td>\n      <td>Clarkson</td>\n      <td>19000.0</td>\n      <td>26060.0</td>\n      <td>7</td>\n      <td>-3.0</td>\n      <td>0.357</td>\n    </tr>\n    <tr>\n      <th>22</th>\n      <td>0022100935</td>\n      <td>1610612762</td>\n      <td>Utah</td>\n      <td>Jazz</td>\n      <td>1626220</td>\n      <td>Royce</td>\n      <td>O'Neale</td>\n      <td>0.0</td>\n      <td>4890.0</td>\n      <td>0</td>\n      <td>7.0</td>\n      <td>0.053</td>\n    </tr>\n    <tr>\n      <th>23</th>\n      <td>0022100935</td>\n      <td>1610612762</td>\n      <td>Utah</td>\n      <td>Jazz</td>\n      <td>1626220</td>\n      <td>Royce</td>\n      <td>O'Neale</td>\n      <td>9600.0</td>\n      <td>19000.0</td>\n      <td>7</td>\n      <td>10.0</td>\n      <td>0.108</td>\n    </tr>\n    <tr>\n      <th>24</th>\n      <td>0022100935</td>\n      <td>1610612762</td>\n      <td>Utah</td>\n      <td>Jazz</td>\n      <td>1626220</td>\n      <td>Royce</td>\n      <td>O'Neale</td>\n      <td>24370.0</td>\n      <td>31800.0</td>\n      <td>2</td>\n      <td>-7.0</td>\n      <td>0.034</td>\n    </tr>\n    <tr>\n      <th>25</th>\n      <td>0022100935</td>\n      <td>1610612762</td>\n      <td>Utah</td>\n      <td>Jazz</td>\n      <td>1627863</td>\n      <td>Danuel</td>\n      <td>House Jr.</td>\n      <td>4890.0</td>\n      <td>9600.0</td>\n      <td>2</td>\n      <td>-8.0</td>\n      <td>0.105</td>\n    </tr>\n    <tr>\n      <th>26</th>\n      <td>0022100935</td>\n      <td>1610612762</td>\n      <td>Utah</td>\n      <td>Jazz</td>\n      <td>1627863</td>\n      <td>Danuel</td>\n      <td>House Jr.</td>\n      <td>19000.0</td>\n      <td>24370.0</td>\n      <td>3</td>\n      <td>3.0</td>\n      <td>0.045</td>\n    </tr>\n    <tr>\n      <th>27</th>\n      <td>0022100935</td>\n      <td>1610612762</td>\n      <td>Utah</td>\n      <td>Jazz</td>\n      <td>1627863</td>\n      <td>Danuel</td>\n      <td>House Jr.</td>\n      <td>28717.0</td>\n      <td>28800.0</td>\n      <td>0</td>\n      <td>-3.0</td>\n      <td>0.000</td>\n    </tr>\n    <tr>\n      <th>28</th>\n      <td>0022100935</td>\n      <td>1610612762</td>\n      <td>Utah</td>\n      <td>Jazz</td>\n      <td>1628378</td>\n      <td>Donovan</td>\n      <td>Mitchell</td>\n      <td>0.0</td>\n      <td>5280.0</td>\n      <td>13</td>\n      <td>6.0</td>\n      <td>0.400</td>\n    </tr>\n    <tr>\n      <th>29</th>\n      <td>0022100935</td>\n      <td>1610612762</td>\n      <td>Utah</td>\n      <td>Jazz</td>\n      <td>1628378</td>\n      <td>Donovan</td>\n      <td>Mitchell</td>\n      <td>9600.0</td>\n      <td>21034.0</td>\n      <td>15</td>\n      <td>11.0</td>\n      <td>0.311</td>\n    </tr>\n    <tr>\n      <th>30</th>\n      <td>0022100935</td>\n      <td>1610612762</td>\n      <td>Utah</td>\n      <td>Jazz</td>\n      <td>1628378</td>\n      <td>Donovan</td>\n      <td>Mitchell</td>\n      <td>24370.0</td>\n      <td>31800.0</td>\n      <td>9</td>\n      <td>-7.0</td>\n      <td>0.517</td>\n    </tr>\n    <tr>\n      <th>31</th>\n      <td>0022100935</td>\n      <td>1610612762</td>\n      <td>Utah</td>\n      <td>Jazz</td>\n      <td>1630235</td>\n      <td>Trent</td>\n      <td>Forrest</td>\n      <td>2920.0</td>\n      <td>5280.0</td>\n      <td>0</td>\n      <td>4.0</td>\n      <td>0.000</td>\n    </tr>\n    <tr>\n      <th>32</th>\n      <td>0022100935</td>\n      <td>1610612762</td>\n      <td>Utah</td>\n      <td>Jazz</td>\n      <td>1630235</td>\n      <td>Trent</td>\n      <td>Forrest</td>\n      <td>8610.0</td>\n      <td>9600.0</td>\n      <td>0</td>\n      <td>-4.0</td>\n      <td>0.000</td>\n    </tr>\n    <tr>\n      <th>33</th>\n      <td>0022100935</td>\n      <td>1610612762</td>\n      <td>Utah</td>\n      <td>Jazz</td>\n      <td>1630235</td>\n      <td>Trent</td>\n      <td>Forrest</td>\n      <td>17530.0</td>\n      <td>20440.0</td>\n      <td>0</td>\n      <td>-4.0</td>\n      <td>0.000</td>\n    </tr>\n  </tbody>\n</table>\n</div>"
     },
     "execution_count": 44,
     "metadata": {},
     "output_type": "execute_result"
    }
   ],
   "source": [
    "# Testing game rotation to see if Gobert is in the game\n",
    "test_rotations = (GameRotation(game_id=gobert_game_ids[3], league_id='00')\n",
    "                  .get_data_frames()[0]\n",
    "                  )\n",
    "\n",
    "test_rotations"
   ],
   "metadata": {
    "collapsed": false,
    "pycharm": {
     "name": "#%%\n"
    }
   }
  }
 ],
 "metadata": {
  "kernelspec": {
   "display_name": "Python 3",
   "language": "python",
   "name": "python3"
  },
  "language_info": {
   "codemirror_mode": {
    "name": "ipython",
    "version": 2
   },
   "file_extension": ".py",
   "mimetype": "text/x-python",
   "name": "python",
   "nbconvert_exporter": "python",
   "pygments_lexer": "ipython2",
   "version": "2.7.6"
  }
 },
 "nbformat": 4,
 "nbformat_minor": 0
}