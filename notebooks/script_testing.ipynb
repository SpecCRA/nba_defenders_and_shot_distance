{
 "cells": [
  {
   "cell_type": "code",
   "execution_count": 12,
   "metadata": {
    "collapsed": true
   },
   "outputs": [],
   "source": [
    "import pandas as pd\n",
    "import numpy as np\n",
    "\n",
    "# import created libraries\n",
    "import sys\n",
    "sys.path.insert(1, '/home/specc/Documents/data_projects/nba_defenders_and_shot_distance/src/data')\n",
    "from filter_player_data import Player, ShotFreq"
   ]
  },
  {
   "cell_type": "code",
   "execution_count": 15,
   "outputs": [
    {
     "data": {
      "text/plain": "[{'id': 1628991,\n  'full_name': 'Jaren Jackson Jr.',\n  'first_name': 'Jaren',\n  'last_name': 'Jackson Jr.',\n  'is_active': True}]"
     },
     "execution_count": 15,
     "metadata": {},
     "output_type": "execute_result"
    }
   ],
   "source": [
    "from nba_api.stats.static import players\n",
    "\n",
    "players.find_players_by_full_name('jaren jackson jr')"
   ],
   "metadata": {
    "collapsed": false,
    "pycharm": {
     "name": "#%%\n"
    }
   }
  },
  {
   "cell_type": "code",
   "execution_count": 2,
   "outputs": [],
   "source": [
    "player_name = 'draymond green'\n",
    "curr_season = '2021-22'\n",
    "pbp_filepath = '../data/raw/2021_22_pbp_data.csv'\n",
    "rotations_filepath = '../data/raw/2021_22_rotations_data.csv'"
   ],
   "metadata": {
    "collapsed": false,
    "pycharm": {
     "name": "#%%\n"
    }
   }
  },
  {
   "cell_type": "code",
   "execution_count": 3,
   "outputs": [
    {
     "data": {
      "text/plain": "ShotFreq(name='draymond green', season='2021-22', playerid=203110, teamid=1610612744, player_gamelogs=['0022101117', '0022101102', '0022101080', '0022101070', '0022101042', '0022101025', '0022100604', '0022100572', '0022100559', '0022100490', '0022100485', '0022100462', '0022100435', '0022100414', '0022100405', '0022100396', '0022100376', '0022100361', '0022100346', '0022100340', '0022100316', '0022100300', '0022100290', '0022100278', '0022100252', '0022100224', '0022100210', '0022100194', '0022100183', '0022100169', '0022100152', '0022100145', '0022100130', '0022100117', '0022100086', '0022100070', '0022100051', '0022100039', '0022100016', '0022100002'], team_gamelogs=['0022101129', '0022101117', '0022101102', '0022101088', '0022101080', '0022101070', '0022101042', '0022101025', '0022101008', '0022100994', '0022100980', '0022100528', '0022100959', '0022100943', '0022100930', '0022100917', '0022100894', '0022100883', '0022100866', '0022100854', '0022100837', '0022100828', '0022100813', '0022100785', '0022100771', '0022100764', '0022100750', '0022100734', '0022100720', '0022100708', '0022100694', '0022100683', '0022100667', '0022100652', '0022100637', '0022100627', '0022100614', '0022100604', '0022100580', '0022100572', '0022100559', '0022100544', '0022100514', '0022100490', '0022100485', '0022100462', '0022100443', '0022100435', '0022100414', '0022100405', '0022100396', '0022100376', '0022100361', '0022100346', '0022100340', '0022100316', '0022100300', '0022100290', '0022100278', '0022100252', '0022100231', '0022100224', '0022100210', '0022100194', '0022100183', '0022100169', '0022100152', '0022100145', '0022100130', '0022100117', '0022100086', '0022100070', '0022100051', '0022100039', '0022100016', '0022100002'], games_not_played=['0022101129', '0022101088', '0022101008', '0022100994', '0022100980', '0022100528', '0022100959', '0022100943', '0022100930', '0022100917', '0022100894', '0022100883', '0022100866', '0022100854', '0022100837', '0022100828', '0022100813', '0022100785', '0022100771', '0022100764', '0022100750', '0022100734', '0022100720', '0022100708', '0022100694', '0022100683', '0022100667', '0022100652', '0022100637', '0022100627', '0022100614', '0022100580', '0022100544', '0022100514', '0022100443', '0022100231'], pbp=None, rotations=None, pbp_w_player=Empty DataFrame\nColumns: []\nIndex: [], pbp_wo_player=Empty DataFrame\nColumns: []\nIndex: [], shot_stats=None)"
     },
     "execution_count": 3,
     "metadata": {},
     "output_type": "execute_result"
    }
   ],
   "source": [
    "player = ShotFreq(name=player_name, season=curr_season)\n",
    "player.fill_player_info()\n",
    "player"
   ],
   "metadata": {
    "collapsed": false,
    "pycharm": {
     "name": "#%%\n"
    }
   }
  },
  {
   "cell_type": "code",
   "execution_count": 4,
   "outputs": [],
   "source": [
    "player.load_pbp(filepath=pbp_filepath)\n",
    "player.load_rotations(filepath=rotations_filepath)\n",
    "player.create_pbps()"
   ],
   "metadata": {
    "collapsed": false,
    "pycharm": {
     "name": "#%%\n"
    }
   }
  },
  {
   "cell_type": "code",
   "execution_count": 5,
   "outputs": [],
   "source": [
    "# create shot frequencies dataframes\n",
    "#player.create_shot_stats(with_player=False)\n"
   ],
   "metadata": {
    "collapsed": false,
    "pycharm": {
     "name": "#%%\n"
    }
   }
  },
  {
   "cell_type": "code",
   "execution_count": 6,
   "outputs": [],
   "source": [
    "player.shot_stats"
   ],
   "metadata": {
    "collapsed": false,
    "pycharm": {
     "name": "#%%\n"
    }
   }
  },
  {
   "cell_type": "code",
   "execution_count": 7,
   "outputs": [],
   "source": [
    "#player.create_shot_stats(with_player=True)"
   ],
   "metadata": {
    "collapsed": false,
    "pycharm": {
     "name": "#%%\n"
    }
   }
  },
  {
   "cell_type": "code",
   "execution_count": 8,
   "outputs": [
    {
     "data": {
      "text/plain": "True"
     },
     "execution_count": 8,
     "metadata": {},
     "output_type": "execute_result"
    }
   ],
   "source": [
    "'roundedShotDistance' in player.pbp_w_player.columns"
   ],
   "metadata": {
    "collapsed": false,
    "pycharm": {
     "name": "#%%\n"
    }
   }
  },
  {
   "cell_type": "code",
   "execution_count": 9,
   "outputs": [],
   "source": [
    "player.create_shot_stats(player_mode='with_player')\n",
    "player.create_shot_stats(player_mode='without_player')"
   ],
   "metadata": {
    "collapsed": false,
    "pycharm": {
     "name": "#%%\n"
    }
   }
  },
  {
   "cell_type": "code",
   "execution_count": 11,
   "outputs": [
    {
     "data": {
      "text/plain": "    roundedShotDistance  FG_perc_league  shotFreq_league  \\\n0                     0        0.707467         0.041450   \n1                     1        0.772861         0.078790   \n2                     2        0.642177         0.090508   \n3                     3        0.514067         0.062260   \n4                     4        0.443866         0.038123   \n5                     5        0.405268         0.029052   \n6                     6        0.405033         0.025906   \n7                     7        0.420162         0.022437   \n8                     8        0.416968         0.020379   \n9                     9        0.424528         0.018027   \n10                   10        0.439757         0.018679   \n11                   11        0.444107         0.016785   \n12                   12        0.437619         0.017902   \n13                   13        0.425806         0.015816   \n14                   14        0.421620         0.015260   \n15                   15        0.411052         0.014977   \n16                   16        0.439052         0.015300   \n17                   17        0.426059         0.014183   \n18                   18        0.411497         0.013707   \n19                   19        0.399274         0.012494   \n20                   20        0.393215         0.010192   \n21                   21        0.381349         0.006808   \n22                   22        0.373717         0.011043   \n23                   23        0.377051         0.059086   \n24                   24        0.375379         0.043054   \n25                   25        0.350634         0.088903   \n26                   26        0.346291         0.106896   \n27                   27        0.342821         0.053972   \n28                   28        0.346703         0.020634   \n29                   29        0.318841         0.008605   \n30                   30        0.310585         0.004070   \n31                   31        0.284238         0.002194   \n32                   32        0.308057         0.001196   \n33                   33        0.216667         0.000680   \n34                   34        0.229730         0.000419   \n35                   35        0.270270         0.000210   \n\n    FG_perc_without_player  shotFreq_without_player  FG_perc_with_player  \\\n0                 0.686930                 0.042539             0.663866   \n1                 0.789474                 0.049134             0.761364   \n2                 0.679417                 0.070985             0.707407   \n3                 0.638889                 0.065167             0.671875   \n4                 0.540948                 0.059995             0.607735   \n5                 0.495238                 0.040729             0.456376   \n6                 0.393805                 0.029222             0.407407   \n7                 0.346591                 0.022757             0.397727   \n8                 0.364341                 0.016680             0.400000   \n9                 0.325000                 0.015516             0.426829   \n10                0.375940                 0.017197             0.384615   \n11                0.488550                 0.016938             0.441860   \n12                0.333333                 0.011637             0.327273   \n13                0.444444                 0.011637             0.436364   \n14                0.454545                 0.012801             0.309524   \n15                0.439024                 0.010603             0.369565   \n16                0.348624                 0.014094             0.277778   \n17                0.297619                 0.010861             0.388889   \n18                0.353535                 0.012801             0.392857   \n19                0.404494                 0.011508             0.396226   \n20                0.397059                 0.008792             0.516129   \n21                0.272727                 0.005689             0.388889   \n22                0.336957                 0.011896             0.352941   \n23                0.375000                 0.065167             0.357143   \n24                0.392749                 0.042798             0.343023   \n25                0.355960                 0.078097             0.345455   \n26                0.368065                 0.095552             0.382353   \n27                0.340000                 0.071115             0.382716   \n28                0.379870                 0.039824             0.304054   \n29                0.302013                 0.019266             0.387500   \n30                0.246377                 0.008922             0.172414   \n31                0.147059                 0.004396             0.277778   \n32                0.043478                 0.002974             0.222222   \n33                0.266667                 0.001939             0.000000   \n34                0.166667                 0.000776             0.400000   \n35                     NaN                      NaN             0.000000   \n\n    shotFreq_with_player  \n0               0.031776  \n1               0.046996  \n2               0.072096  \n3               0.068358  \n4               0.048331  \n5               0.039786  \n6               0.036048  \n7               0.023498  \n8               0.018692  \n9               0.021896  \n10              0.017356  \n11              0.011482  \n12              0.014686  \n13              0.014686  \n14              0.011215  \n15              0.012283  \n16              0.014419  \n17              0.014419  \n18              0.014953  \n19              0.014152  \n20              0.008278  \n21              0.004806  \n22              0.013618  \n23              0.063551  \n24              0.045928  \n25              0.073431  \n26              0.099866  \n27              0.064887  \n28              0.039519  \n29              0.021362  \n30              0.007744  \n31              0.004806  \n32              0.002403  \n33              0.001068  \n34              0.001335  \n35              0.000267  ",
      "text/html": "<div>\n<style scoped>\n    .dataframe tbody tr th:only-of-type {\n        vertical-align: middle;\n    }\n\n    .dataframe tbody tr th {\n        vertical-align: top;\n    }\n\n    .dataframe thead th {\n        text-align: right;\n    }\n</style>\n<table border=\"1\" class=\"dataframe\">\n  <thead>\n    <tr style=\"text-align: right;\">\n      <th></th>\n      <th>roundedShotDistance</th>\n      <th>FG_perc_league</th>\n      <th>shotFreq_league</th>\n      <th>FG_perc_without_player</th>\n      <th>shotFreq_without_player</th>\n      <th>FG_perc_with_player</th>\n      <th>shotFreq_with_player</th>\n    </tr>\n  </thead>\n  <tbody>\n    <tr>\n      <th>0</th>\n      <td>0</td>\n      <td>0.707467</td>\n      <td>0.041450</td>\n      <td>0.686930</td>\n      <td>0.042539</td>\n      <td>0.663866</td>\n      <td>0.031776</td>\n    </tr>\n    <tr>\n      <th>1</th>\n      <td>1</td>\n      <td>0.772861</td>\n      <td>0.078790</td>\n      <td>0.789474</td>\n      <td>0.049134</td>\n      <td>0.761364</td>\n      <td>0.046996</td>\n    </tr>\n    <tr>\n      <th>2</th>\n      <td>2</td>\n      <td>0.642177</td>\n      <td>0.090508</td>\n      <td>0.679417</td>\n      <td>0.070985</td>\n      <td>0.707407</td>\n      <td>0.072096</td>\n    </tr>\n    <tr>\n      <th>3</th>\n      <td>3</td>\n      <td>0.514067</td>\n      <td>0.062260</td>\n      <td>0.638889</td>\n      <td>0.065167</td>\n      <td>0.671875</td>\n      <td>0.068358</td>\n    </tr>\n    <tr>\n      <th>4</th>\n      <td>4</td>\n      <td>0.443866</td>\n      <td>0.038123</td>\n      <td>0.540948</td>\n      <td>0.059995</td>\n      <td>0.607735</td>\n      <td>0.048331</td>\n    </tr>\n    <tr>\n      <th>5</th>\n      <td>5</td>\n      <td>0.405268</td>\n      <td>0.029052</td>\n      <td>0.495238</td>\n      <td>0.040729</td>\n      <td>0.456376</td>\n      <td>0.039786</td>\n    </tr>\n    <tr>\n      <th>6</th>\n      <td>6</td>\n      <td>0.405033</td>\n      <td>0.025906</td>\n      <td>0.393805</td>\n      <td>0.029222</td>\n      <td>0.407407</td>\n      <td>0.036048</td>\n    </tr>\n    <tr>\n      <th>7</th>\n      <td>7</td>\n      <td>0.420162</td>\n      <td>0.022437</td>\n      <td>0.346591</td>\n      <td>0.022757</td>\n      <td>0.397727</td>\n      <td>0.023498</td>\n    </tr>\n    <tr>\n      <th>8</th>\n      <td>8</td>\n      <td>0.416968</td>\n      <td>0.020379</td>\n      <td>0.364341</td>\n      <td>0.016680</td>\n      <td>0.400000</td>\n      <td>0.018692</td>\n    </tr>\n    <tr>\n      <th>9</th>\n      <td>9</td>\n      <td>0.424528</td>\n      <td>0.018027</td>\n      <td>0.325000</td>\n      <td>0.015516</td>\n      <td>0.426829</td>\n      <td>0.021896</td>\n    </tr>\n    <tr>\n      <th>10</th>\n      <td>10</td>\n      <td>0.439757</td>\n      <td>0.018679</td>\n      <td>0.375940</td>\n      <td>0.017197</td>\n      <td>0.384615</td>\n      <td>0.017356</td>\n    </tr>\n    <tr>\n      <th>11</th>\n      <td>11</td>\n      <td>0.444107</td>\n      <td>0.016785</td>\n      <td>0.488550</td>\n      <td>0.016938</td>\n      <td>0.441860</td>\n      <td>0.011482</td>\n    </tr>\n    <tr>\n      <th>12</th>\n      <td>12</td>\n      <td>0.437619</td>\n      <td>0.017902</td>\n      <td>0.333333</td>\n      <td>0.011637</td>\n      <td>0.327273</td>\n      <td>0.014686</td>\n    </tr>\n    <tr>\n      <th>13</th>\n      <td>13</td>\n      <td>0.425806</td>\n      <td>0.015816</td>\n      <td>0.444444</td>\n      <td>0.011637</td>\n      <td>0.436364</td>\n      <td>0.014686</td>\n    </tr>\n    <tr>\n      <th>14</th>\n      <td>14</td>\n      <td>0.421620</td>\n      <td>0.015260</td>\n      <td>0.454545</td>\n      <td>0.012801</td>\n      <td>0.309524</td>\n      <td>0.011215</td>\n    </tr>\n    <tr>\n      <th>15</th>\n      <td>15</td>\n      <td>0.411052</td>\n      <td>0.014977</td>\n      <td>0.439024</td>\n      <td>0.010603</td>\n      <td>0.369565</td>\n      <td>0.012283</td>\n    </tr>\n    <tr>\n      <th>16</th>\n      <td>16</td>\n      <td>0.439052</td>\n      <td>0.015300</td>\n      <td>0.348624</td>\n      <td>0.014094</td>\n      <td>0.277778</td>\n      <td>0.014419</td>\n    </tr>\n    <tr>\n      <th>17</th>\n      <td>17</td>\n      <td>0.426059</td>\n      <td>0.014183</td>\n      <td>0.297619</td>\n      <td>0.010861</td>\n      <td>0.388889</td>\n      <td>0.014419</td>\n    </tr>\n    <tr>\n      <th>18</th>\n      <td>18</td>\n      <td>0.411497</td>\n      <td>0.013707</td>\n      <td>0.353535</td>\n      <td>0.012801</td>\n      <td>0.392857</td>\n      <td>0.014953</td>\n    </tr>\n    <tr>\n      <th>19</th>\n      <td>19</td>\n      <td>0.399274</td>\n      <td>0.012494</td>\n      <td>0.404494</td>\n      <td>0.011508</td>\n      <td>0.396226</td>\n      <td>0.014152</td>\n    </tr>\n    <tr>\n      <th>20</th>\n      <td>20</td>\n      <td>0.393215</td>\n      <td>0.010192</td>\n      <td>0.397059</td>\n      <td>0.008792</td>\n      <td>0.516129</td>\n      <td>0.008278</td>\n    </tr>\n    <tr>\n      <th>21</th>\n      <td>21</td>\n      <td>0.381349</td>\n      <td>0.006808</td>\n      <td>0.272727</td>\n      <td>0.005689</td>\n      <td>0.388889</td>\n      <td>0.004806</td>\n    </tr>\n    <tr>\n      <th>22</th>\n      <td>22</td>\n      <td>0.373717</td>\n      <td>0.011043</td>\n      <td>0.336957</td>\n      <td>0.011896</td>\n      <td>0.352941</td>\n      <td>0.013618</td>\n    </tr>\n    <tr>\n      <th>23</th>\n      <td>23</td>\n      <td>0.377051</td>\n      <td>0.059086</td>\n      <td>0.375000</td>\n      <td>0.065167</td>\n      <td>0.357143</td>\n      <td>0.063551</td>\n    </tr>\n    <tr>\n      <th>24</th>\n      <td>24</td>\n      <td>0.375379</td>\n      <td>0.043054</td>\n      <td>0.392749</td>\n      <td>0.042798</td>\n      <td>0.343023</td>\n      <td>0.045928</td>\n    </tr>\n    <tr>\n      <th>25</th>\n      <td>25</td>\n      <td>0.350634</td>\n      <td>0.088903</td>\n      <td>0.355960</td>\n      <td>0.078097</td>\n      <td>0.345455</td>\n      <td>0.073431</td>\n    </tr>\n    <tr>\n      <th>26</th>\n      <td>26</td>\n      <td>0.346291</td>\n      <td>0.106896</td>\n      <td>0.368065</td>\n      <td>0.095552</td>\n      <td>0.382353</td>\n      <td>0.099866</td>\n    </tr>\n    <tr>\n      <th>27</th>\n      <td>27</td>\n      <td>0.342821</td>\n      <td>0.053972</td>\n      <td>0.340000</td>\n      <td>0.071115</td>\n      <td>0.382716</td>\n      <td>0.064887</td>\n    </tr>\n    <tr>\n      <th>28</th>\n      <td>28</td>\n      <td>0.346703</td>\n      <td>0.020634</td>\n      <td>0.379870</td>\n      <td>0.039824</td>\n      <td>0.304054</td>\n      <td>0.039519</td>\n    </tr>\n    <tr>\n      <th>29</th>\n      <td>29</td>\n      <td>0.318841</td>\n      <td>0.008605</td>\n      <td>0.302013</td>\n      <td>0.019266</td>\n      <td>0.387500</td>\n      <td>0.021362</td>\n    </tr>\n    <tr>\n      <th>30</th>\n      <td>30</td>\n      <td>0.310585</td>\n      <td>0.004070</td>\n      <td>0.246377</td>\n      <td>0.008922</td>\n      <td>0.172414</td>\n      <td>0.007744</td>\n    </tr>\n    <tr>\n      <th>31</th>\n      <td>31</td>\n      <td>0.284238</td>\n      <td>0.002194</td>\n      <td>0.147059</td>\n      <td>0.004396</td>\n      <td>0.277778</td>\n      <td>0.004806</td>\n    </tr>\n    <tr>\n      <th>32</th>\n      <td>32</td>\n      <td>0.308057</td>\n      <td>0.001196</td>\n      <td>0.043478</td>\n      <td>0.002974</td>\n      <td>0.222222</td>\n      <td>0.002403</td>\n    </tr>\n    <tr>\n      <th>33</th>\n      <td>33</td>\n      <td>0.216667</td>\n      <td>0.000680</td>\n      <td>0.266667</td>\n      <td>0.001939</td>\n      <td>0.000000</td>\n      <td>0.001068</td>\n    </tr>\n    <tr>\n      <th>34</th>\n      <td>34</td>\n      <td>0.229730</td>\n      <td>0.000419</td>\n      <td>0.166667</td>\n      <td>0.000776</td>\n      <td>0.400000</td>\n      <td>0.001335</td>\n    </tr>\n    <tr>\n      <th>35</th>\n      <td>35</td>\n      <td>0.270270</td>\n      <td>0.000210</td>\n      <td>NaN</td>\n      <td>NaN</td>\n      <td>0.000000</td>\n      <td>0.000267</td>\n    </tr>\n  </tbody>\n</table>\n</div>"
     },
     "execution_count": 11,
     "metadata": {},
     "output_type": "execute_result"
    }
   ],
   "source": [
    "# merge df1 and df2\n",
    "player.create_shot_stats(player_mode='league')\n",
    "player.shot_stats"
   ],
   "metadata": {
    "collapsed": false,
    "pycharm": {
     "name": "#%%\n"
    }
   }
  }
 ],
 "metadata": {
  "kernelspec": {
   "display_name": "Python 3",
   "language": "python",
   "name": "python3"
  },
  "language_info": {
   "codemirror_mode": {
    "name": "ipython",
    "version": 2
   },
   "file_extension": ".py",
   "mimetype": "text/x-python",
   "name": "python",
   "nbconvert_exporter": "python",
   "pygments_lexer": "ipython2",
   "version": "2.7.6"
  }
 },
 "nbformat": 4,
 "nbformat_minor": 0
}