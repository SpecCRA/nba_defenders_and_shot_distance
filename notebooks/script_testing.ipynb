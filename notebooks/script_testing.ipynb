{
 "cells": [
  {
   "cell_type": "code",
   "execution_count": 1,
   "metadata": {
    "collapsed": true
   },
   "outputs": [],
   "source": [
    "import sys\n",
    "sys.path.append('../src/data')\n",
    "import pandas as pd\n",
    "\n",
    "from filter_player_data import Player, ShotFreq"
   ]
  },
  {
   "cell_type": "markdown",
   "source": [],
   "metadata": {
    "collapsed": false
   }
  },
  {
   "cell_type": "code",
   "execution_count": 2,
   "outputs": [],
   "source": [
    "#rudy_gobert = Player('rudy gobert', '2021-22')"
   ],
   "metadata": {
    "collapsed": false,
    "pycharm": {
     "name": "#%%\n"
    }
   }
  },
  {
   "cell_type": "code",
   "execution_count": 3,
   "outputs": [],
   "source": [
    "# rudy_gobert.fill_player_info(rudy_gobert)\n",
    "# rudy_gobert"
   ],
   "metadata": {
    "collapsed": false,
    "pycharm": {
     "name": "#%%\n"
    }
   }
  },
  {
   "cell_type": "code",
   "execution_count": 4,
   "outputs": [
    {
     "data": {
      "text/plain": "ShotFreq(name='rudy gobert', season='2021-22', playerid=203497, teamid=1610612762, player_gamelogs=['0022101100', '0022101087', '0022101075', '0022101067', '0022101055', '0022101041', '0022101027', '0022101002', '0022100990', '0022100972', '0022100965', '0022100950', '0022100935', '0022100913', '0022100903', '0022100884', '0022100865', '0022100708', '0022100693', '0022100677', '0022100665', '0022100653', '0022100557', '0022100544', '0022100537', '0022100523', '0022100504', '0022100492', '0022100484', '0022100461', '0022100447', '0022100437', '0022100425', '0022100392', '0022100379', '0022100374', '0022100349', '0022100339', '0022100312', '0022100299', '0022100289', '0022100276', '0022100261', '0022100247', '0022100229', '0022100211', '0022100185', '0022100172', '0022100156', '0022100141', '0022100134', '0022100120', '0022100105', '0022100091', '0022100083', '0022100068', '0022100054', '0022100026', '0022100011'], team_gamelogs=       Team_ID     Game_ID     GAME_DATE      MATCHUP    WL     W     L  \\\n0   1610612762  0022101121  MAR 27, 2022    UTA @ DAL  None   NaN   NaN   \n1   1610612762  0022101100  MAR 25, 2022    UTA @ CHA     L  45.0  29.0   \n2   1610612762  0022101087  MAR 23, 2022    UTA @ BOS     L  45.0  28.0   \n3   1610612762  0022101075  MAR 21, 2022    UTA @ BKN     L  45.0  27.0   \n4   1610612762  0022101067  MAR 20, 2022    UTA @ NYK     W  45.0  26.0   \n..         ...         ...           ...          ...   ...   ...   ...   \n70  1610612762  0022100083  OCT 30, 2021    UTA @ CHI     L   4.0   1.0   \n71  1610612762  0022100068  OCT 28, 2021    UTA @ HOU     W   4.0   0.0   \n72  1610612762  0022100054  OCT 26, 2021  UTA vs. DEN     W   3.0   0.0   \n73  1610612762  0022100026  OCT 22, 2021    UTA @ SAC     W   2.0   0.0   \n74  1610612762  0022100011  OCT 20, 2021  UTA vs. OKC     W   1.0   0.0   \n\n    W_PCT  MIN  FGM  ...  FT_PCT  OREB  DREB  REB  AST  STL  BLK  TOV  PF  PTS  \n0     NaN  120   25  ...   0.500     5    14   19   15    3    0    3  12   63  \n1   0.608  240   38  ...   0.727     9    29   38   25    7    2   11  16  101  \n2   0.616  240   35  ...   0.905    16    24   40   13    8    1   14  14   97  \n3   0.625  240   37  ...   0.818    11    26   37   18    8    7   13  16  106  \n4   0.634  240   34  ...   0.793     9    40   49   16    9   11   11  17  108  \n..    ...  ...  ...  ...     ...   ...   ...  ...  ...  ...  ...  ...  ..  ...  \n70  0.800  240   35  ...   0.947    14    40   54   15    5    7   20  21   99  \n71  1.000  240   41  ...   0.800    10    48   58   24    8    4   16  23  122  \n72  1.000  240   44  ...   0.759     8    33   41   20    5    6   13  22  122  \n73  1.000  240   37  ...   0.870    13    38   51   16   14    3   17  17  110  \n74  1.000  240   40  ...   0.867    12    41   53   18    6    5   10  19  107  \n\n[75 rows x 27 columns], games_not_played=['Team_ID', 'Game_ID', 'GAME_DATE', 'MATCHUP', 'WL', 'W', 'L', 'W_PCT', 'MIN', 'FGM', 'FGA', 'FG_PCT', 'FG3M', 'FG3A', 'FG3_PCT', 'FTM', 'FTA', 'FT_PCT', 'OREB', 'DREB', 'REB', 'AST', 'STL', 'BLK', 'TOV', 'PF', 'PTS'], pbp=None, rotations=None, pbp_w_player=Empty DataFrame\nColumns: []\nIndex: [], pbp_wo_player=Empty DataFrame\nColumns: []\nIndex: [])"
     },
     "execution_count": 4,
     "metadata": {},
     "output_type": "execute_result"
    }
   ],
   "source": [
    "rudy_gobert = ShotFreq(name='rudy gobert', season='2021-22')\n",
    "rudy_gobert.fill_player_info()\n",
    "rudy_gobert"
   ],
   "metadata": {
    "collapsed": false,
    "pycharm": {
     "name": "#%%\n"
    }
   }
  },
  {
   "cell_type": "code",
   "execution_count": 5,
   "outputs": [],
   "source": [
    "rudy_gobert.load_pbp('../data/raw/2021_22_pbp_data.csv')"
   ],
   "metadata": {
    "collapsed": false,
    "pycharm": {
     "name": "#%%\n"
    }
   }
  },
  {
   "cell_type": "code",
   "execution_count": 6,
   "outputs": [],
   "source": [
    "# rudy_gobert.pbp"
   ],
   "metadata": {
    "collapsed": false,
    "pycharm": {
     "name": "#%%\n"
    }
   }
  },
  {
   "cell_type": "code",
   "execution_count": 7,
   "outputs": [],
   "source": [
    "# df = pd.read_csv('../data/raw/2021_22_rotations_data.csv')\n",
    "# df.columns"
   ],
   "metadata": {
    "collapsed": false,
    "pycharm": {
     "name": "#%%\n"
    }
   }
  },
  {
   "cell_type": "code",
   "execution_count": 8,
   "outputs": [],
   "source": [
    "rudy_gobert.load_rotations('../data/raw/2021_22_rotations_data.csv')"
   ],
   "metadata": {
    "collapsed": false,
    "pycharm": {
     "name": "#%%\n"
    }
   }
  },
  {
   "cell_type": "code",
   "execution_count": 9,
   "outputs": [
    {
     "data": {
      "text/plain": "       GAME_ID     TEAM_ID    TEAM_CITY TEAM_NAME  PERSON_ID PLAYER_FIRST  \\\n0   0022100032  1610612749    Milwaukee     Bucks     201588       George   \n1   0022100032  1610612749    Milwaukee     Bucks     201588       George   \n2   0022100032  1610612749    Milwaukee     Bucks     201588       George   \n3   0022100032  1610612749    Milwaukee     Bucks     201588       George   \n4   0022100032  1610612749    Milwaukee     Bucks     201950         Jrue   \n..         ...         ...          ...       ...        ...          ...   \n26  0022100173  1610612746  LA Clippers  Clippers    1629611      Terance   \n27  0022100173  1610612746  LA Clippers  Clippers    1629611      Terance   \n28  0022100173  1610612746  LA Clippers  Clippers    1629611      Terance   \n29  0022100173  1610612746  LA Clippers  Clippers    1629611      Terance   \n30  0022100173  1610612746  LA Clippers  Clippers    1629611      Terance   \n\n   PLAYER_LAST  IN_TIME_REAL  OUT_TIME_REAL  PLAYER_PTS  PT_DIFF  USG_PCT  \n0         Hill         406.0          772.0         2.0      3.0    0.167  \n1         Hill        1126.0         1440.0         6.0      3.0    0.214  \n2         Hill        1815.0         2277.0         3.0     -3.0    0.063  \n3         Hill        2463.0         2831.1         4.0      5.0    0.154  \n4      Holiday           0.0          406.0         5.0     -3.0    0.235  \n..         ...           ...            ...         ...      ...      ...  \n26        Mann         459.0          966.0         0.0     -5.0    0.100  \n27        Mann        1231.0         1440.0         0.0      6.0    0.000  \n28        Mann        2114.8         2449.0         0.0     -2.0    0.091  \n29        Mann        2869.0         2875.1         0.0     -2.0    0.000  \n30        Mann        2876.1         2880.0         0.0      0.0    0.500  \n\n[73162 rows x 12 columns]",
      "text/html": "<div>\n<style scoped>\n    .dataframe tbody tr th:only-of-type {\n        vertical-align: middle;\n    }\n\n    .dataframe tbody tr th {\n        vertical-align: top;\n    }\n\n    .dataframe thead th {\n        text-align: right;\n    }\n</style>\n<table border=\"1\" class=\"dataframe\">\n  <thead>\n    <tr style=\"text-align: right;\">\n      <th></th>\n      <th>GAME_ID</th>\n      <th>TEAM_ID</th>\n      <th>TEAM_CITY</th>\n      <th>TEAM_NAME</th>\n      <th>PERSON_ID</th>\n      <th>PLAYER_FIRST</th>\n      <th>PLAYER_LAST</th>\n      <th>IN_TIME_REAL</th>\n      <th>OUT_TIME_REAL</th>\n      <th>PLAYER_PTS</th>\n      <th>PT_DIFF</th>\n      <th>USG_PCT</th>\n    </tr>\n  </thead>\n  <tbody>\n    <tr>\n      <th>0</th>\n      <td>0022100032</td>\n      <td>1610612749</td>\n      <td>Milwaukee</td>\n      <td>Bucks</td>\n      <td>201588</td>\n      <td>George</td>\n      <td>Hill</td>\n      <td>406.0</td>\n      <td>772.0</td>\n      <td>2.0</td>\n      <td>3.0</td>\n      <td>0.167</td>\n    </tr>\n    <tr>\n      <th>1</th>\n      <td>0022100032</td>\n      <td>1610612749</td>\n      <td>Milwaukee</td>\n      <td>Bucks</td>\n      <td>201588</td>\n      <td>George</td>\n      <td>Hill</td>\n      <td>1126.0</td>\n      <td>1440.0</td>\n      <td>6.0</td>\n      <td>3.0</td>\n      <td>0.214</td>\n    </tr>\n    <tr>\n      <th>2</th>\n      <td>0022100032</td>\n      <td>1610612749</td>\n      <td>Milwaukee</td>\n      <td>Bucks</td>\n      <td>201588</td>\n      <td>George</td>\n      <td>Hill</td>\n      <td>1815.0</td>\n      <td>2277.0</td>\n      <td>3.0</td>\n      <td>-3.0</td>\n      <td>0.063</td>\n    </tr>\n    <tr>\n      <th>3</th>\n      <td>0022100032</td>\n      <td>1610612749</td>\n      <td>Milwaukee</td>\n      <td>Bucks</td>\n      <td>201588</td>\n      <td>George</td>\n      <td>Hill</td>\n      <td>2463.0</td>\n      <td>2831.1</td>\n      <td>4.0</td>\n      <td>5.0</td>\n      <td>0.154</td>\n    </tr>\n    <tr>\n      <th>4</th>\n      <td>0022100032</td>\n      <td>1610612749</td>\n      <td>Milwaukee</td>\n      <td>Bucks</td>\n      <td>201950</td>\n      <td>Jrue</td>\n      <td>Holiday</td>\n      <td>0.0</td>\n      <td>406.0</td>\n      <td>5.0</td>\n      <td>-3.0</td>\n      <td>0.235</td>\n    </tr>\n    <tr>\n      <th>...</th>\n      <td>...</td>\n      <td>...</td>\n      <td>...</td>\n      <td>...</td>\n      <td>...</td>\n      <td>...</td>\n      <td>...</td>\n      <td>...</td>\n      <td>...</td>\n      <td>...</td>\n      <td>...</td>\n      <td>...</td>\n    </tr>\n    <tr>\n      <th>26</th>\n      <td>0022100173</td>\n      <td>1610612746</td>\n      <td>LA Clippers</td>\n      <td>Clippers</td>\n      <td>1629611</td>\n      <td>Terance</td>\n      <td>Mann</td>\n      <td>459.0</td>\n      <td>966.0</td>\n      <td>0.0</td>\n      <td>-5.0</td>\n      <td>0.100</td>\n    </tr>\n    <tr>\n      <th>27</th>\n      <td>0022100173</td>\n      <td>1610612746</td>\n      <td>LA Clippers</td>\n      <td>Clippers</td>\n      <td>1629611</td>\n      <td>Terance</td>\n      <td>Mann</td>\n      <td>1231.0</td>\n      <td>1440.0</td>\n      <td>0.0</td>\n      <td>6.0</td>\n      <td>0.000</td>\n    </tr>\n    <tr>\n      <th>28</th>\n      <td>0022100173</td>\n      <td>1610612746</td>\n      <td>LA Clippers</td>\n      <td>Clippers</td>\n      <td>1629611</td>\n      <td>Terance</td>\n      <td>Mann</td>\n      <td>2114.8</td>\n      <td>2449.0</td>\n      <td>0.0</td>\n      <td>-2.0</td>\n      <td>0.091</td>\n    </tr>\n    <tr>\n      <th>29</th>\n      <td>0022100173</td>\n      <td>1610612746</td>\n      <td>LA Clippers</td>\n      <td>Clippers</td>\n      <td>1629611</td>\n      <td>Terance</td>\n      <td>Mann</td>\n      <td>2869.0</td>\n      <td>2875.1</td>\n      <td>0.0</td>\n      <td>-2.0</td>\n      <td>0.000</td>\n    </tr>\n    <tr>\n      <th>30</th>\n      <td>0022100173</td>\n      <td>1610612746</td>\n      <td>LA Clippers</td>\n      <td>Clippers</td>\n      <td>1629611</td>\n      <td>Terance</td>\n      <td>Mann</td>\n      <td>2876.1</td>\n      <td>2880.0</td>\n      <td>0.0</td>\n      <td>0.0</td>\n      <td>0.500</td>\n    </tr>\n  </tbody>\n</table>\n<p>73162 rows × 12 columns</p>\n</div>"
     },
     "execution_count": 9,
     "metadata": {},
     "output_type": "execute_result"
    }
   ],
   "source": [
    "rudy_gobert.rotations"
   ],
   "metadata": {
    "collapsed": false,
    "pycharm": {
     "name": "#%%\n"
    }
   }
  },
  {
   "cell_type": "code",
   "execution_count": 10,
   "outputs": [],
   "source": [
    "rudy_gobert.create_pbps()"
   ],
   "metadata": {
    "collapsed": false,
    "pycharm": {
     "name": "#%%\n"
    }
   }
  },
  {
   "cell_type": "code",
   "execution_count": 11,
   "outputs": [
    {
     "data": {
      "text/plain": "       actionNumber        clock              timeActual  period periodType  \\\n75004           658  PT04M46.00S  2022-03-03T03:31:24.7Z       5   OVERTIME   \n75005           660  PT04M28.00S  2022-03-03T03:31:42.6Z       5   OVERTIME   \n75006           668  PT03M50.00S  2022-03-03T03:33:36.1Z       5   OVERTIME   \n75007           675  PT03M36.00S  2022-03-03T03:34:47.8Z       5   OVERTIME   \n75008           679  PT03M15.00S  2022-03-03T03:35:47.8Z       5   OVERTIME   \n75009           681  PT03M06.00S  2022-03-03T03:35:57.7Z       5   OVERTIME   \n75010           684  PT02M33.00S  2022-03-03T03:36:49.4Z       5   OVERTIME   \n75011           686  PT02M14.00S  2022-03-03T03:37:08.3Z       5   OVERTIME   \n75012           688  PT02M07.00S  2022-03-03T03:37:18.9Z       5   OVERTIME   \n75013           692  PT01M49.00S  2022-03-03T03:38:13.7Z       5   OVERTIME   \n75014           693  PT01M34.00S  2022-03-03T03:38:30.8Z       5   OVERTIME   \n75015           696  PT01M18.00S  2022-03-03T03:38:55.7Z       5   OVERTIME   \n75016           700  PT01M01.00S  2022-03-03T03:41:06.8Z       5   OVERTIME   \n75017           702  PT00M39.90S  2022-03-03T03:41:29.1Z       5   OVERTIME   \n75018           705  PT00M30.90S  2022-03-03T03:41:50.2Z       5   OVERTIME   \n75019           725  PT00M06.70S  2022-03-03T03:44:55.8Z       5   OVERTIME   \n75020           736  PT00M03.10S  2022-03-03T03:49:05.7Z       5   OVERTIME   \n\n      actionType    subType                         qualifiers  personId  \\\n75004        3pt  Jump Shot                                 []   1630224   \n75005        2pt  Jump Shot                                 []   1628378   \n75006        3pt  Jump Shot                   ['fromturnover']   1630231   \n75007        2pt      Layup               ['pointsinthepaint']   1628378   \n75008        3pt  Jump Shot                                 []   1630231   \n75009        3pt  Jump Shot                                 []   1628378   \n75010        3pt  Jump Shot                                 []   1629726   \n75011        2pt  Jump Shot               ['pointsinthepaint']   1628378   \n75012        2pt      Layup  ['pointsinthepaint', 'fastbreak']   1629645   \n75013        3pt  Jump Shot                                 []    201144   \n75014        3pt  Jump Shot                                 []   1629726   \n75015        3pt  Jump Shot                                 []    201144   \n75016        3pt  Jump Shot                                 []   1630231   \n75017        3pt  Jump Shot                                 []   1628378   \n75018        3pt  Jump Shot                                 []   1629726   \n75019        3pt  Jump Shot                                 []   1630224   \n75020        3pt  Jump Shot                                 []   1626174   \n\n               x  ...  foulDrawnPlayerName  foulDrawnPersonId  \\\n75004  66.179369  ...                  NaN                NaN   \n75005  23.340999  ...                  NaN                NaN   \n75006  94.300263  ...                  NaN                NaN   \n75007   7.440867  ...                  NaN                NaN   \n75008  93.511827  ...                  NaN                NaN   \n75009  35.298949  ...                  NaN                NaN   \n75010  95.745729  ...                  NaN                NaN   \n75011  14.931012  ...                  NaN                NaN   \n75012  93.249014  ...                  NaN                NaN   \n75013  32.670828  ...                  NaN                NaN   \n75014  65.785151  ...                  NaN                NaN   \n75015   7.046649  ...                  NaN                NaN   \n75016  94.694481  ...                  NaN                NaN   \n75017  27.414586  ...                  NaN                NaN   \n75018  89.963863  ...                  NaN                NaN   \n75019  72.092641  ...                  NaN                NaN   \n75020  93.643233  ...                  NaN                NaN   \n\n       blockPlayerName  blockPersonId value     game_id  scoreMargin  \\\n75004              NaN            NaN   NaN  0022100935            0   \n75005              NaN            NaN   NaN  0022100935            0   \n75006              NaN            NaN   NaN  0022100935            3   \n75007              NaN            NaN   NaN  0022100935            2   \n75008              NaN            NaN   NaN  0022100935            1   \n75009              NaN            NaN   NaN  0022100935           -2   \n75010              NaN            NaN   NaN  0022100935           -2   \n75011              NaN            NaN   NaN  0022100935           -2   \n75012              NaN            NaN   NaN  0022100935            0   \n75013              NaN            NaN   NaN  0022100935           -2   \n75014              NaN            NaN   NaN  0022100935           -2   \n75015              NaN            NaN   NaN  0022100935           -5   \n75016              NaN            NaN   NaN  0022100935           -5   \n75017              NaN            NaN   NaN  0022100935           -5   \n75018              NaN            NaN   NaN  0022100935           -5   \n75019              NaN            NaN   NaN  0022100935           -3   \n75020              NaN            NaN   NaN  0022100935           -5   \n\n       abScoreMargin    time roundedShotDistance  \n75004              0  3314.0                  27  \n75005              0  3332.0                  20  \n75006              3  3370.0                  23  \n75007              2  3384.0                   3  \n75008              1  3405.0                  23  \n75009              2  3414.0                  28  \n75010              2  3447.0                  23  \n75011              2  3466.0                   9  \n75012              0  3473.0                   3  \n75013              2  3491.0                  26  \n75014              2  3506.0                  34  \n75015              5  3522.0                  23  \n75016              5  3539.0                  23  \n75017              5  3560.1                  26  \n75018              5  3569.1                  24  \n75019              3  3593.3                  27  \n75020              5  3596.9                  22  \n\n[17 rows x 59 columns]",
      "text/html": "<div>\n<style scoped>\n    .dataframe tbody tr th:only-of-type {\n        vertical-align: middle;\n    }\n\n    .dataframe tbody tr th {\n        vertical-align: top;\n    }\n\n    .dataframe thead th {\n        text-align: right;\n    }\n</style>\n<table border=\"1\" class=\"dataframe\">\n  <thead>\n    <tr style=\"text-align: right;\">\n      <th></th>\n      <th>actionNumber</th>\n      <th>clock</th>\n      <th>timeActual</th>\n      <th>period</th>\n      <th>periodType</th>\n      <th>actionType</th>\n      <th>subType</th>\n      <th>qualifiers</th>\n      <th>personId</th>\n      <th>x</th>\n      <th>...</th>\n      <th>foulDrawnPlayerName</th>\n      <th>foulDrawnPersonId</th>\n      <th>blockPlayerName</th>\n      <th>blockPersonId</th>\n      <th>value</th>\n      <th>game_id</th>\n      <th>scoreMargin</th>\n      <th>abScoreMargin</th>\n      <th>time</th>\n      <th>roundedShotDistance</th>\n    </tr>\n  </thead>\n  <tbody>\n    <tr>\n      <th>75004</th>\n      <td>658</td>\n      <td>PT04M46.00S</td>\n      <td>2022-03-03T03:31:24.7Z</td>\n      <td>5</td>\n      <td>OVERTIME</td>\n      <td>3pt</td>\n      <td>Jump Shot</td>\n      <td>[]</td>\n      <td>1630224</td>\n      <td>66.179369</td>\n      <td>...</td>\n      <td>NaN</td>\n      <td>NaN</td>\n      <td>NaN</td>\n      <td>NaN</td>\n      <td>NaN</td>\n      <td>0022100935</td>\n      <td>0</td>\n      <td>0</td>\n      <td>3314.0</td>\n      <td>27</td>\n    </tr>\n    <tr>\n      <th>75005</th>\n      <td>660</td>\n      <td>PT04M28.00S</td>\n      <td>2022-03-03T03:31:42.6Z</td>\n      <td>5</td>\n      <td>OVERTIME</td>\n      <td>2pt</td>\n      <td>Jump Shot</td>\n      <td>[]</td>\n      <td>1628378</td>\n      <td>23.340999</td>\n      <td>...</td>\n      <td>NaN</td>\n      <td>NaN</td>\n      <td>NaN</td>\n      <td>NaN</td>\n      <td>NaN</td>\n      <td>0022100935</td>\n      <td>0</td>\n      <td>0</td>\n      <td>3332.0</td>\n      <td>20</td>\n    </tr>\n    <tr>\n      <th>75006</th>\n      <td>668</td>\n      <td>PT03M50.00S</td>\n      <td>2022-03-03T03:33:36.1Z</td>\n      <td>5</td>\n      <td>OVERTIME</td>\n      <td>3pt</td>\n      <td>Jump Shot</td>\n      <td>['fromturnover']</td>\n      <td>1630231</td>\n      <td>94.300263</td>\n      <td>...</td>\n      <td>NaN</td>\n      <td>NaN</td>\n      <td>NaN</td>\n      <td>NaN</td>\n      <td>NaN</td>\n      <td>0022100935</td>\n      <td>3</td>\n      <td>3</td>\n      <td>3370.0</td>\n      <td>23</td>\n    </tr>\n    <tr>\n      <th>75007</th>\n      <td>675</td>\n      <td>PT03M36.00S</td>\n      <td>2022-03-03T03:34:47.8Z</td>\n      <td>5</td>\n      <td>OVERTIME</td>\n      <td>2pt</td>\n      <td>Layup</td>\n      <td>['pointsinthepaint']</td>\n      <td>1628378</td>\n      <td>7.440867</td>\n      <td>...</td>\n      <td>NaN</td>\n      <td>NaN</td>\n      <td>NaN</td>\n      <td>NaN</td>\n      <td>NaN</td>\n      <td>0022100935</td>\n      <td>2</td>\n      <td>2</td>\n      <td>3384.0</td>\n      <td>3</td>\n    </tr>\n    <tr>\n      <th>75008</th>\n      <td>679</td>\n      <td>PT03M15.00S</td>\n      <td>2022-03-03T03:35:47.8Z</td>\n      <td>5</td>\n      <td>OVERTIME</td>\n      <td>3pt</td>\n      <td>Jump Shot</td>\n      <td>[]</td>\n      <td>1630231</td>\n      <td>93.511827</td>\n      <td>...</td>\n      <td>NaN</td>\n      <td>NaN</td>\n      <td>NaN</td>\n      <td>NaN</td>\n      <td>NaN</td>\n      <td>0022100935</td>\n      <td>1</td>\n      <td>1</td>\n      <td>3405.0</td>\n      <td>23</td>\n    </tr>\n    <tr>\n      <th>75009</th>\n      <td>681</td>\n      <td>PT03M06.00S</td>\n      <td>2022-03-03T03:35:57.7Z</td>\n      <td>5</td>\n      <td>OVERTIME</td>\n      <td>3pt</td>\n      <td>Jump Shot</td>\n      <td>[]</td>\n      <td>1628378</td>\n      <td>35.298949</td>\n      <td>...</td>\n      <td>NaN</td>\n      <td>NaN</td>\n      <td>NaN</td>\n      <td>NaN</td>\n      <td>NaN</td>\n      <td>0022100935</td>\n      <td>-2</td>\n      <td>2</td>\n      <td>3414.0</td>\n      <td>28</td>\n    </tr>\n    <tr>\n      <th>75010</th>\n      <td>684</td>\n      <td>PT02M33.00S</td>\n      <td>2022-03-03T03:36:49.4Z</td>\n      <td>5</td>\n      <td>OVERTIME</td>\n      <td>3pt</td>\n      <td>Jump Shot</td>\n      <td>[]</td>\n      <td>1629726</td>\n      <td>95.745729</td>\n      <td>...</td>\n      <td>NaN</td>\n      <td>NaN</td>\n      <td>NaN</td>\n      <td>NaN</td>\n      <td>NaN</td>\n      <td>0022100935</td>\n      <td>-2</td>\n      <td>2</td>\n      <td>3447.0</td>\n      <td>23</td>\n    </tr>\n    <tr>\n      <th>75011</th>\n      <td>686</td>\n      <td>PT02M14.00S</td>\n      <td>2022-03-03T03:37:08.3Z</td>\n      <td>5</td>\n      <td>OVERTIME</td>\n      <td>2pt</td>\n      <td>Jump Shot</td>\n      <td>['pointsinthepaint']</td>\n      <td>1628378</td>\n      <td>14.931012</td>\n      <td>...</td>\n      <td>NaN</td>\n      <td>NaN</td>\n      <td>NaN</td>\n      <td>NaN</td>\n      <td>NaN</td>\n      <td>0022100935</td>\n      <td>-2</td>\n      <td>2</td>\n      <td>3466.0</td>\n      <td>9</td>\n    </tr>\n    <tr>\n      <th>75012</th>\n      <td>688</td>\n      <td>PT02M07.00S</td>\n      <td>2022-03-03T03:37:18.9Z</td>\n      <td>5</td>\n      <td>OVERTIME</td>\n      <td>2pt</td>\n      <td>Layup</td>\n      <td>['pointsinthepaint', 'fastbreak']</td>\n      <td>1629645</td>\n      <td>93.249014</td>\n      <td>...</td>\n      <td>NaN</td>\n      <td>NaN</td>\n      <td>NaN</td>\n      <td>NaN</td>\n      <td>NaN</td>\n      <td>0022100935</td>\n      <td>0</td>\n      <td>0</td>\n      <td>3473.0</td>\n      <td>3</td>\n    </tr>\n    <tr>\n      <th>75013</th>\n      <td>692</td>\n      <td>PT01M49.00S</td>\n      <td>2022-03-03T03:38:13.7Z</td>\n      <td>5</td>\n      <td>OVERTIME</td>\n      <td>3pt</td>\n      <td>Jump Shot</td>\n      <td>[]</td>\n      <td>201144</td>\n      <td>32.670828</td>\n      <td>...</td>\n      <td>NaN</td>\n      <td>NaN</td>\n      <td>NaN</td>\n      <td>NaN</td>\n      <td>NaN</td>\n      <td>0022100935</td>\n      <td>-2</td>\n      <td>2</td>\n      <td>3491.0</td>\n      <td>26</td>\n    </tr>\n    <tr>\n      <th>75014</th>\n      <td>693</td>\n      <td>PT01M34.00S</td>\n      <td>2022-03-03T03:38:30.8Z</td>\n      <td>5</td>\n      <td>OVERTIME</td>\n      <td>3pt</td>\n      <td>Jump Shot</td>\n      <td>[]</td>\n      <td>1629726</td>\n      <td>65.785151</td>\n      <td>...</td>\n      <td>NaN</td>\n      <td>NaN</td>\n      <td>NaN</td>\n      <td>NaN</td>\n      <td>NaN</td>\n      <td>0022100935</td>\n      <td>-2</td>\n      <td>2</td>\n      <td>3506.0</td>\n      <td>34</td>\n    </tr>\n    <tr>\n      <th>75015</th>\n      <td>696</td>\n      <td>PT01M18.00S</td>\n      <td>2022-03-03T03:38:55.7Z</td>\n      <td>5</td>\n      <td>OVERTIME</td>\n      <td>3pt</td>\n      <td>Jump Shot</td>\n      <td>[]</td>\n      <td>201144</td>\n      <td>7.046649</td>\n      <td>...</td>\n      <td>NaN</td>\n      <td>NaN</td>\n      <td>NaN</td>\n      <td>NaN</td>\n      <td>NaN</td>\n      <td>0022100935</td>\n      <td>-5</td>\n      <td>5</td>\n      <td>3522.0</td>\n      <td>23</td>\n    </tr>\n    <tr>\n      <th>75016</th>\n      <td>700</td>\n      <td>PT01M01.00S</td>\n      <td>2022-03-03T03:41:06.8Z</td>\n      <td>5</td>\n      <td>OVERTIME</td>\n      <td>3pt</td>\n      <td>Jump Shot</td>\n      <td>[]</td>\n      <td>1630231</td>\n      <td>94.694481</td>\n      <td>...</td>\n      <td>NaN</td>\n      <td>NaN</td>\n      <td>NaN</td>\n      <td>NaN</td>\n      <td>NaN</td>\n      <td>0022100935</td>\n      <td>-5</td>\n      <td>5</td>\n      <td>3539.0</td>\n      <td>23</td>\n    </tr>\n    <tr>\n      <th>75017</th>\n      <td>702</td>\n      <td>PT00M39.90S</td>\n      <td>2022-03-03T03:41:29.1Z</td>\n      <td>5</td>\n      <td>OVERTIME</td>\n      <td>3pt</td>\n      <td>Jump Shot</td>\n      <td>[]</td>\n      <td>1628378</td>\n      <td>27.414586</td>\n      <td>...</td>\n      <td>NaN</td>\n      <td>NaN</td>\n      <td>NaN</td>\n      <td>NaN</td>\n      <td>NaN</td>\n      <td>0022100935</td>\n      <td>-5</td>\n      <td>5</td>\n      <td>3560.1</td>\n      <td>26</td>\n    </tr>\n    <tr>\n      <th>75018</th>\n      <td>705</td>\n      <td>PT00M30.90S</td>\n      <td>2022-03-03T03:41:50.2Z</td>\n      <td>5</td>\n      <td>OVERTIME</td>\n      <td>3pt</td>\n      <td>Jump Shot</td>\n      <td>[]</td>\n      <td>1629726</td>\n      <td>89.963863</td>\n      <td>...</td>\n      <td>NaN</td>\n      <td>NaN</td>\n      <td>NaN</td>\n      <td>NaN</td>\n      <td>NaN</td>\n      <td>0022100935</td>\n      <td>-5</td>\n      <td>5</td>\n      <td>3569.1</td>\n      <td>24</td>\n    </tr>\n    <tr>\n      <th>75019</th>\n      <td>725</td>\n      <td>PT00M06.70S</td>\n      <td>2022-03-03T03:44:55.8Z</td>\n      <td>5</td>\n      <td>OVERTIME</td>\n      <td>3pt</td>\n      <td>Jump Shot</td>\n      <td>[]</td>\n      <td>1630224</td>\n      <td>72.092641</td>\n      <td>...</td>\n      <td>NaN</td>\n      <td>NaN</td>\n      <td>NaN</td>\n      <td>NaN</td>\n      <td>NaN</td>\n      <td>0022100935</td>\n      <td>-3</td>\n      <td>3</td>\n      <td>3593.3</td>\n      <td>27</td>\n    </tr>\n    <tr>\n      <th>75020</th>\n      <td>736</td>\n      <td>PT00M03.10S</td>\n      <td>2022-03-03T03:49:05.7Z</td>\n      <td>5</td>\n      <td>OVERTIME</td>\n      <td>3pt</td>\n      <td>Jump Shot</td>\n      <td>[]</td>\n      <td>1626174</td>\n      <td>93.643233</td>\n      <td>...</td>\n      <td>NaN</td>\n      <td>NaN</td>\n      <td>NaN</td>\n      <td>NaN</td>\n      <td>NaN</td>\n      <td>0022100935</td>\n      <td>-5</td>\n      <td>5</td>\n      <td>3596.9</td>\n      <td>22</td>\n    </tr>\n  </tbody>\n</table>\n<p>17 rows × 59 columns</p>\n</div>"
     },
     "execution_count": 11,
     "metadata": {},
     "output_type": "execute_result"
    }
   ],
   "source": [
    "rudy_gobert.pbp_wo_player"
   ],
   "metadata": {
    "collapsed": false,
    "pycharm": {
     "name": "#%%\n"
    }
   }
  }
 ],
 "metadata": {
  "kernelspec": {
   "display_name": "Python 3",
   "language": "python",
   "name": "python3"
  },
  "language_info": {
   "codemirror_mode": {
    "name": "ipython",
    "version": 2
   },
   "file_extension": ".py",
   "mimetype": "text/x-python",
   "name": "python",
   "nbconvert_exporter": "python",
   "pygments_lexer": "ipython2",
   "version": "2.7.6"
  }
 },
 "nbformat": 4,
 "nbformat_minor": 0
}